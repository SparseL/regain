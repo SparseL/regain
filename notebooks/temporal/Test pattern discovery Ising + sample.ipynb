{
 "cells": [
  {
   "cell_type": "code",
   "execution_count": 13,
   "metadata": {},
   "outputs": [],
   "source": [
    "from regain.datasets.kernels import make_cluster_representative\n",
    "from regain.datasets.ising import ising_theta_generator, ising_sampler\n",
    "\n",
    "from itertools import chain, combinations\n",
    "\n",
    "import numpy as np\n",
    "from scipy import linalg\n",
    "from scipy.spatial.distance import squareform\n",
    "from sklearn.cluster import AgglomerativeClustering\n",
    "from sklearn.datasets.base import Bunch\n",
    "\n",
    "from regain.norm import l1_od_norm\n",
    "from regain.utils import is_pos_def"
   ]
  },
  {
   "cell_type": "code",
   "execution_count": 14,
   "metadata": {},
   "outputs": [],
   "source": [
    "def make_cluster_representative(\n",
    "        n_dim=10, degree=2, n_clusters=3, T=15, n_samples=100, repetitions=False,\n",
    "        cluster_series=None, shuffle=False):\n",
    "    \"\"\"Based on the cluster representative, generate similar graphs.\"\"\"\n",
    "    import networkx as nx\n",
    "    adjacencies = []\n",
    "    if cluster_series is not None:\n",
    "        n_clusters = np.unique(cluster_series).size\n",
    "\n",
    "    for i in range(n_clusters):\n",
    "        adjacencies.append(ising_theta_generator(p=n_dim, T=1, time_on_axis='first',responses=[-1, 1])[0])\n",
    "    pos = np.arange(0, T, T // (n_clusters + 1))\n",
    "    pos = list(pos) + [T - 1]\n",
    "\n",
    "    if cluster_series is None:\n",
    "        cluster_series = np.tile(range(n_clusters), (len(pos) // n_clusters) + 1)[:len(pos)]\n",
    "        if shuffle:\n",
    "            np.random.shuffle(cluster_series)\n",
    "        # print(pos)\n",
    "        # print(cluster_series)\n",
    "        # pos = np.arange(0, T, T // (clusters + 1))\n",
    "        # pos = list(pos) + [T - 1]\n",
    "    else:\n",
    "        assert len(cluster_series) == len(pos)\n",
    "    #     a = np.where(cluster_series[:-1] != cluster_series[1:])[0] + 1\n",
    "    #     T = len(cluster_series) # overwrites T\n",
    "    #     pos = np.concatenate(([0], a, [T-1]))\n",
    "\n",
    "    thetas = []\n",
    "    for i in range(len(pos) - 1):\n",
    "        # last one is always a representative\n",
    "        how_many = int(pos[i + 1]) - int(pos[i]) - 1\n",
    "        new_list = [adjacencies[cluster_series[i]]]\n",
    "        target = adjacencies[cluster_series[i + 1]]\n",
    "\n",
    "        for i in range(how_many):\n",
    "            new = new_list[-1].copy()\n",
    "            diffs = (new != 0).astype(int) - (target != 0).astype(int)\n",
    "            diff = np.where(diffs != 0)\n",
    "            if diff == ():\n",
    "                break\n",
    "            if (i == 0):\n",
    "                edges_per_change = int(\n",
    "                    (np.nonzero(diffs)[0].shape[0] / 2) // (how_many + 1))\n",
    "                if edges_per_change == 0:\n",
    "                    edges_per_change += 1\n",
    "            ixs = np.arange(diff[0].shape[0])\n",
    "            np.random.shuffle(ixs)\n",
    "\n",
    "            xs = diff[0][ixs[:edges_per_change]]\n",
    "            ys = diff[1][ixs[:edges_per_change]]\n",
    "            for j in range(xs.shape[0]):\n",
    "                if diffs[xs[j], ys[j]] == -1:\n",
    "                    new[xs[j], ys[j]] = np.random.choice([-1,1])\n",
    "                    new[ys[j], xs[j]] = new[xs[j], ys[j]]\n",
    "                else:\n",
    "                    new[xs[j], ys[j]] = 0\n",
    "                    new[ys[j], xs[j]] = 0\n",
    "            new_list.append(new)\n",
    "\n",
    "        thetas += new_list\n",
    "    thetas.append(target)\n",
    "    X = np.vstack(\n",
    "        [\n",
    "            ising_sampler(t,thresholds=np.zeros(n_samples), n=n_samples, responses=[-1,1])\n",
    "            for t in thetas\n",
    "        ])\n",
    "    y = np.repeat(np.arange(len(thetas)), n_samples)\n",
    "\n",
    "    distances = squareform(\n",
    "        [l1_od_norm(t1 - t2) for t1, t2 in combinations(thetas, 2)])\n",
    "    distances /= np.max(distances)\n",
    "    labels_pred = AgglomerativeClustering(\n",
    "        n_clusters=n_clusters, affinity='precomputed',\n",
    "        linkage='complete').fit_predict(distances)\n",
    "\n",
    "    id_cluster = np.repeat(labels_pred, n_samples)\n",
    "    data = Bunch(\n",
    "        X=X, y=y, id_cluster=labels_pred, samples_cluster=id_cluster, precs=np.array(thetas),\n",
    "        thetas=np.array(thetas), sparse_precs=np.array(thetas),\n",
    "        cluster_reps=adjacencies, cluster_series=cluster_series)\n",
    "    return data"
   ]
  },
  {
   "cell_type": "code",
   "execution_count": 16,
   "metadata": {},
   "outputs": [],
   "source": [
    "res = make_cluster_representative(n_samples=100)"
   ]
  },
  {
   "cell_type": "code",
   "execution_count": 59,
   "metadata": {},
   "outputs": [
    {
     "data": {
      "text/plain": [
       "array([[ 1, -1, -1, ...,  1, -1, -1],\n",
       "       [-1,  1,  1, ..., -1,  1,  1],\n",
       "       [ 1, -1, -1, ...,  1, -1, -1],\n",
       "       ...,\n",
       "       [-1, -1,  1, ..., -1, -1, -1],\n",
       "       [-1, -1,  1, ..., -1, -1, -1],\n",
       "       [-1, -1,  1, ..., -1, -1, -1]])"
      ]
     },
     "execution_count": 59,
     "metadata": {},
     "output_type": "execute_result"
    }
   ],
   "source": [
    "res['X']"
   ]
  },
  {
   "cell_type": "code",
   "execution_count": 86,
   "metadata": {},
   "outputs": [],
   "source": [
    "from importlib import reload\n",
    "import regain.generalized_temporal_linear_model.ising; reload(regain.generalized_temporal_linear_model.ising)\n",
    "from regain.generalized_temporal_linear_model.ising import SimilarityTemporalIsingModel, TemporalIsingModel"
   ]
  },
  {
   "cell_type": "code",
   "execution_count": 85,
   "metadata": {},
   "outputs": [],
   "source": [
    "# mdl_ = TemporalIsingModel(alpha=0.01, kernel=np.zeros((15, 15)), verbose=2)\n",
    "# mdl_.fit(res['X'], res['y'])"
   ]
  },
  {
   "cell_type": "code",
   "execution_count": 125,
   "metadata": {},
   "outputs": [
    {
     "name": "stdout",
     "output_type": "stream",
     "text": [
      "(15, 10, 10)\n",
      "obj: 7876.5621, rnorm: 0.0000, snorm: 3.4598,eps_pri: 0.0154, eps_dual: 0.0150\n",
      "(15, 10, 10)\n",
      "obj: 7876.3579, rnorm: 0.0000, snorm: 0.0001,eps_pri: 0.0154, eps_dual: 0.0150\n",
      "[[2.00000000e+00 6.06530660e-01 1.35335283e-01 1.11089965e-02\n",
      "  3.35462628e-04 1.00000373e+00 1.52299797e-08 1.00000000e+00\n",
      "  1.26641655e-14 2.57675711e-18 1.00000000e+00 5.31109225e-27\n",
      "  1.00000000e+00 2.00500878e-37 1.00000000e+00]\n",
      " [6.06530660e-01 2.00000000e+00 6.06530660e-01 1.35335283e-01\n",
      "  1.01110900e+00 3.35462628e-04 1.00000373e+00 1.52299797e-08\n",
      "  1.00000000e+00 1.26641655e-14 2.57675711e-18 1.00000000e+00\n",
      "  5.31109225e-27 1.00000000e+00 2.00500878e-37]\n",
      " [1.35335283e-01 6.06530660e-01 2.00000000e+00 1.60653066e+00\n",
      "  1.35335283e-01 1.11089965e-02 3.35462628e-04 3.72665317e-06\n",
      "  1.52299797e-08 1.00000000e+00 1.26641655e-14 2.57675711e-18\n",
      "  1.92874985e-22 5.31109225e-27 5.38018616e-32]\n",
      " [1.11089965e-02 1.35335283e-01 1.60653066e+00 2.00000000e+00\n",
      "  6.06530660e-01 1.35335283e-01 1.11089965e-02 3.35462628e-04\n",
      "  3.72665317e-06 1.00000002e+00 2.28973485e-11 1.26641655e-14\n",
      "  2.57675711e-18 1.92874985e-22 5.31109225e-27]\n",
      " [3.35462628e-04 1.01110900e+00 1.35335283e-01 6.06530660e-01\n",
      "  2.00000000e+00 6.06530660e-01 1.13533528e+00 1.11089965e-02\n",
      "  1.00033546e+00 3.72665317e-06 1.52299797e-08 1.00000000e+00\n",
      "  1.26641655e-14 1.00000000e+00 1.92874985e-22]\n",
      " [1.00000373e+00 3.35462628e-04 1.11089965e-02 1.35335283e-01\n",
      "  6.06530660e-01 2.00000000e+00 6.06530660e-01 1.13533528e+00\n",
      "  1.11089965e-02 3.35462628e-04 1.00000373e+00 1.52299797e-08\n",
      "  1.00000000e+00 1.26641655e-14 1.00000000e+00]\n",
      " [1.52299797e-08 1.00000373e+00 3.35462628e-04 1.11089965e-02\n",
      "  1.13533528e+00 6.06530660e-01 2.00000000e+00 6.06530660e-01\n",
      "  1.13533528e+00 1.11089965e-02 3.35462628e-04 1.00000373e+00\n",
      "  1.52299797e-08 1.00000000e+00 1.26641655e-14]\n",
      " [1.00000000e+00 1.52299797e-08 3.72665317e-06 3.35462628e-04\n",
      "  1.11089965e-02 1.13533528e+00 6.06530660e-01 2.00000000e+00\n",
      "  6.06530660e-01 1.35335283e-01 1.01110900e+00 3.35462628e-04\n",
      "  1.00000373e+00 1.52299797e-08 1.00000000e+00]\n",
      " [1.26641655e-14 1.00000000e+00 1.52299797e-08 3.72665317e-06\n",
      "  1.00033546e+00 1.11089965e-02 1.13533528e+00 6.06530660e-01\n",
      "  2.00000000e+00 6.06530660e-01 1.35335283e-01 1.01110900e+00\n",
      "  3.35462628e-04 1.00000373e+00 1.52299797e-08]\n",
      " [2.57675711e-18 1.26641655e-14 1.00000000e+00 1.00000002e+00\n",
      "  3.72665317e-06 3.35462628e-04 1.11089965e-02 1.35335283e-01\n",
      "  6.06530660e-01 2.00000000e+00 6.06530660e-01 1.35335283e-01\n",
      "  1.11089965e-02 3.35462628e-04 3.72665317e-06]\n",
      " [1.00000000e+00 2.57675711e-18 1.26641655e-14 2.28973485e-11\n",
      "  1.52299797e-08 1.00000373e+00 3.35462628e-04 1.01110900e+00\n",
      "  1.35335283e-01 6.06530660e-01 2.00000000e+00 6.06530660e-01\n",
      "  1.13533528e+00 1.11089965e-02 1.00033546e+00]\n",
      " [5.31109225e-27 1.00000000e+00 2.57675711e-18 1.26641655e-14\n",
      "  1.00000000e+00 1.52299797e-08 1.00000373e+00 3.35462628e-04\n",
      "  1.01110900e+00 1.35335283e-01 6.06530660e-01 2.00000000e+00\n",
      "  6.06530660e-01 1.13533528e+00 1.11089965e-02]\n",
      " [1.00000000e+00 5.31109225e-27 1.92874985e-22 2.57675711e-18\n",
      "  1.26641655e-14 1.00000000e+00 1.52299797e-08 1.00000373e+00\n",
      "  3.35462628e-04 1.11089965e-02 1.13533528e+00 6.06530660e-01\n",
      "  2.00000000e+00 6.06530660e-01 1.13533528e+00]\n",
      " [2.00500878e-37 1.00000000e+00 5.31109225e-27 1.92874985e-22\n",
      "  1.00000000e+00 1.26641655e-14 1.00000000e+00 1.52299797e-08\n",
      "  1.00000373e+00 3.35462628e-04 1.11089965e-02 1.13533528e+00\n",
      "  6.06530660e-01 2.00000000e+00 6.06530660e-01]\n",
      " [1.00000000e+00 2.00500878e-37 5.38018616e-32 5.31109225e-27\n",
      "  1.92874985e-22 1.00000000e+00 1.26641655e-14 1.00000000e+00\n",
      "  1.52299797e-08 3.72665317e-06 1.00033546e+00 1.11089965e-02\n",
      "  1.13533528e+00 6.06530660e-01 2.00000000e+00]]\n",
      "(15, 10, 10)\n",
      "obj: 7876.6809, rnorm: 1.5406, snorm: 3.0593,eps_pri: 0.0154, eps_dual: 0.0152\n",
      "(15, 10, 10)\n",
      "obj: 7876.6634, rnorm: 1.4990, snorm: 0.3481,eps_pri: 0.0154, eps_dual: 0.0153\n",
      "(15, 10, 10)\n",
      "obj: 7876.7144, rnorm: 1.4978, snorm: 0.0572,eps_pri: 0.0154, eps_dual: 0.0155\n",
      "(15, 10, 10)\n",
      "obj: 7876.8761, rnorm: 1.4782, snorm: 0.2660,eps_pri: 0.0154, eps_dual: 0.0157\n",
      "(15, 10, 10)\n",
      "obj: 7877.3137, rnorm: 1.4575, snorm: 0.4473,eps_pri: 0.0154, eps_dual: 0.0160\n",
      "(15, 10, 10)\n",
      "obj: 7877.8712, rnorm: 1.4305, snorm: 0.3940,eps_pri: 0.0154, eps_dual: 0.0163\n",
      "(15, 10, 10)\n",
      "obj: 7878.5532, rnorm: 1.4113, snorm: 0.4349,eps_pri: 0.0154, eps_dual: 0.0166\n",
      "(15, 10, 10)\n",
      "obj: 7878.7317, rnorm: 1.4089, snorm: 0.1481,eps_pri: 0.0154, eps_dual: 0.0169\n",
      "(15, 10, 10)\n",
      "obj: 7878.8518, rnorm: 1.4078, snorm: 0.0865,eps_pri: 0.0154, eps_dual: 0.0171\n",
      "(15, 10, 10)\n",
      "obj: 7879.4906, rnorm: 1.3880, snorm: 0.5722,eps_pri: 0.0154, eps_dual: 0.0177\n",
      "(15, 10, 10)\n",
      "obj: 7881.2981, rnorm: 1.3573, snorm: 0.9537,eps_pri: 0.0154, eps_dual: 0.0182\n",
      "(15, 10, 10)\n",
      "obj: 7882.8333, rnorm: 1.3353, snorm: 0.7554,eps_pri: 0.0154, eps_dual: 0.0187\n",
      "(15, 10, 10)\n",
      "obj: 7887.6420, rnorm: 1.2575, snorm: 1.3315,eps_pri: 0.0154, eps_dual: 0.0192\n",
      "(15, 10, 10)\n",
      "obj: 7898.1229, rnorm: 1.1110, snorm: 1.9061,eps_pri: 0.0154, eps_dual: 0.0196\n",
      "(15, 10, 10)\n",
      "obj: 7907.3815, rnorm: 0.9981, snorm: 1.6624,eps_pri: 0.0154, eps_dual: 0.0199\n",
      "(15, 10, 10)\n",
      "obj: 7914.3645, rnorm: 0.9088, snorm: 1.3907,eps_pri: 0.0154, eps_dual: 0.0202\n",
      "(15, 10, 10)\n",
      "obj: 7919.2855, rnorm: 0.8483, snorm: 1.0747,eps_pri: 0.0154, eps_dual: 0.0204\n",
      "(15, 10, 10)\n",
      "obj: 7923.1173, rnorm: 0.8026, snorm: 0.9149,eps_pri: 0.0154, eps_dual: 0.0207\n",
      "(15, 10, 10)\n",
      "obj: 7925.9543, rnorm: 0.7691, snorm: 0.7405,eps_pri: 0.0154, eps_dual: 0.0209\n",
      "(15, 10, 10)\n",
      "obj: 7930.5422, rnorm: 0.7042, snorm: 0.8889,eps_pri: 0.0154, eps_dual: 0.0211\n",
      "(15, 10, 10)\n",
      "obj: 7937.7427, rnorm: 0.6165, snorm: 1.1430,eps_pri: 0.0154, eps_dual: 0.0212\n",
      "(15, 10, 10)\n",
      "obj: 7943.3000, rnorm: 0.5435, snorm: 0.9574,eps_pri: 0.0154, eps_dual: 0.0214\n",
      "(15, 10, 10)\n",
      "obj: 7947.9510, rnorm: 0.4811, snorm: 0.8738,eps_pri: 0.0154, eps_dual: 0.0215\n",
      "(15, 10, 10)\n",
      "obj: 7951.0942, rnorm: 0.4349, snorm: 0.6919,eps_pri: 0.0154, eps_dual: 0.0216\n",
      "(15, 10, 10)\n",
      "obj: 7953.1036, rnorm: 0.4081, snorm: 0.5476,eps_pri: 0.0154, eps_dual: 0.0216\n",
      "(15, 10, 10)\n",
      "obj: 7954.0316, rnorm: 0.3945, snorm: 0.3696,eps_pri: 0.0154, eps_dual: 0.0217\n",
      "(15, 10, 10)\n",
      "obj: 7955.0462, rnorm: 0.3766, snorm: 0.3545,eps_pri: 0.0154, eps_dual: 0.0218\n",
      "(15, 10, 10)\n",
      "obj: 7956.2561, rnorm: 0.3600, snorm: 0.3901,eps_pri: 0.0154, eps_dual: 0.0219\n",
      "(15, 10, 10)\n",
      "obj: 7957.1717, rnorm: 0.3445, snorm: 0.3148,eps_pri: 0.0154, eps_dual: 0.0219\n",
      "(15, 10, 10)\n",
      "obj: 7958.5212, rnorm: 0.3215, snorm: 0.3606,eps_pri: 0.0154, eps_dual: 0.0220\n",
      "(15, 10, 10)\n",
      "obj: 7959.8139, rnorm: 0.3041, snorm: 0.3596,eps_pri: 0.0154, eps_dual: 0.0220\n",
      "(15, 10, 10)\n",
      "obj: 7961.1989, rnorm: 0.2811, snorm: 0.4097,eps_pri: 0.0154, eps_dual: 0.0221\n",
      "(15, 10, 10)\n",
      "obj: 7962.2481, rnorm: 0.2640, snorm: 0.3408,eps_pri: 0.0154, eps_dual: 0.0221\n",
      "(15, 10, 10)\n",
      "obj: 7962.7005, rnorm: 0.2570, snorm: 0.1959,eps_pri: 0.0154, eps_dual: 0.0222\n",
      "(15, 10, 10)\n",
      "obj: 7963.4583, rnorm: 0.2432, snorm: 0.2801,eps_pri: 0.0154, eps_dual: 0.0222\n",
      "(15, 10, 10)\n",
      "obj: 7963.9942, rnorm: 0.2347, snorm: 0.2152,eps_pri: 0.0154, eps_dual: 0.0222\n",
      "(15, 10, 10)\n",
      "obj: 7964.5840, rnorm: 0.2237, snorm: 0.2298,eps_pri: 0.0154, eps_dual: 0.0223\n",
      "(15, 10, 10)\n",
      "obj: 7965.2023, rnorm: 0.2125, snorm: 0.2218,eps_pri: 0.0154, eps_dual: 0.0223\n",
      "(15, 10, 10)\n",
      "obj: 7965.8267, rnorm: 0.2025, snorm: 0.2391,eps_pri: 0.0154, eps_dual: 0.0223\n",
      "(15, 10, 10)\n",
      "obj: 7966.1126, rnorm: 0.1969, snorm: 0.1485,eps_pri: 0.0154, eps_dual: 0.0224\n",
      "(15, 10, 10)\n",
      "obj: 7966.4410, rnorm: 0.1909, snorm: 0.1536,eps_pri: 0.0154, eps_dual: 0.0224\n",
      "(15, 10, 10)\n",
      "obj: 7966.8790, rnorm: 0.1821, snorm: 0.1762,eps_pri: 0.0154, eps_dual: 0.0224\n",
      "(15, 10, 10)\n",
      "obj: 7967.3959, rnorm: 0.1727, snorm: 0.1927,eps_pri: 0.0154, eps_dual: 0.0225\n",
      "(15, 10, 10)\n",
      "obj: 7967.8117, rnorm: 0.1644, snorm: 0.1621,eps_pri: 0.0154, eps_dual: 0.0225\n",
      "(15, 10, 10)\n",
      "obj: 7968.3072, rnorm: 0.1556, snorm: 0.1966,eps_pri: 0.0154, eps_dual: 0.0225\n",
      "(15, 10, 10)\n",
      "obj: 7968.5331, rnorm: 0.1508, snorm: 0.1235,eps_pri: 0.0154, eps_dual: 0.0225\n",
      "(15, 10, 10)\n",
      "obj: 7968.6813, rnorm: 0.1478, snorm: 0.0792,eps_pri: 0.0154, eps_dual: 0.0225\n",
      "(15, 10, 10)\n",
      "obj: 7969.0887, rnorm: 0.1389, snorm: 0.1691,eps_pri: 0.0154, eps_dual: 0.0226\n",
      "(15, 10, 10)\n",
      "obj: 7969.4207, rnorm: 0.1321, snorm: 0.1422,eps_pri: 0.0154, eps_dual: 0.0226\n",
      "(15, 10, 10)\n"
     ]
    },
    {
     "name": "stdout",
     "output_type": "stream",
     "text": [
      "obj: 7969.6418, rnorm: 0.1279, snorm: 0.1167,eps_pri: 0.0154, eps_dual: 0.0226\n",
      "(15, 10, 10)\n",
      "obj: 7969.7825, rnorm: 0.1250, snorm: 0.0968,eps_pri: 0.0154, eps_dual: 0.0226\n",
      "(15, 10, 10)\n",
      "obj: 7969.8927, rnorm: 0.1221, snorm: 0.0734,eps_pri: 0.0154, eps_dual: 0.0226\n",
      "(15, 10, 10)\n",
      "obj: 7970.1646, rnorm: 0.1160, snorm: 0.1307,eps_pri: 0.0154, eps_dual: 0.0226\n",
      "(15, 10, 10)\n",
      "obj: 7970.2859, rnorm: 0.1136, snorm: 0.0726,eps_pri: 0.0154, eps_dual: 0.0226\n",
      "(15, 10, 10)\n",
      "obj: 7970.4033, rnorm: 0.1109, snorm: 0.0784,eps_pri: 0.0154, eps_dual: 0.0227\n",
      "(15, 10, 10)\n",
      "obj: 7970.4906, rnorm: 0.1091, snorm: 0.0628,eps_pri: 0.0154, eps_dual: 0.0227\n",
      "(15, 10, 10)\n",
      "obj: 7970.6835, rnorm: 0.1042, snorm: 0.1047,eps_pri: 0.0154, eps_dual: 0.0227\n",
      "(15, 10, 10)\n",
      "obj: 7970.8719, rnorm: 0.1001, snorm: 0.1005,eps_pri: 0.0154, eps_dual: 0.0227\n",
      "(15, 10, 10)\n",
      "obj: 7971.0301, rnorm: 0.0967, snorm: 0.0988,eps_pri: 0.0154, eps_dual: 0.0227\n",
      "(15, 10, 10)\n",
      "obj: 7971.0687, rnorm: 0.0957, snorm: 0.0369,eps_pri: 0.0154, eps_dual: 0.0227\n",
      "(15, 10, 10)\n",
      "obj: 7971.1587, rnorm: 0.0935, snorm: 0.0695,eps_pri: 0.0154, eps_dual: 0.0227\n",
      "(15, 10, 10)\n",
      "obj: 7971.2311, rnorm: 0.0919, snorm: 0.0625,eps_pri: 0.0154, eps_dual: 0.0227\n",
      "(15, 10, 10)\n",
      "obj: 7971.3423, rnorm: 0.0889, snorm: 0.0779,eps_pri: 0.0154, eps_dual: 0.0227\n",
      "(15, 10, 10)\n",
      "obj: 7971.4146, rnorm: 0.0871, snorm: 0.0461,eps_pri: 0.0154, eps_dual: 0.0227\n",
      "(15, 10, 10)\n",
      "obj: 7971.5140, rnorm: 0.0850, snorm: 0.0693,eps_pri: 0.0154, eps_dual: 0.0228\n",
      "(15, 10, 10)\n",
      "obj: 7971.5759, rnorm: 0.0834, snorm: 0.0554,eps_pri: 0.0154, eps_dual: 0.0228\n",
      "(15, 10, 10)\n",
      "obj: 7971.6703, rnorm: 0.0807, snorm: 0.0624,eps_pri: 0.0154, eps_dual: 0.0228\n",
      "(15, 10, 10)\n",
      "obj: 7971.7415, rnorm: 0.0794, snorm: 0.0515,eps_pri: 0.0154, eps_dual: 0.0228\n",
      "(15, 10, 10)\n",
      "obj: 7971.8004, rnorm: 0.0778, snorm: 0.0544,eps_pri: 0.0154, eps_dual: 0.0228\n",
      "(15, 10, 10)\n",
      "obj: 7971.8407, rnorm: 0.0769, snorm: 0.0415,eps_pri: 0.0154, eps_dual: 0.0228\n",
      "(15, 10, 10)\n",
      "obj: 7971.8705, rnorm: 0.0761, snorm: 0.0316,eps_pri: 0.0154, eps_dual: 0.0228\n",
      "(15, 10, 10)\n",
      "obj: 7971.9114, rnorm: 0.0749, snorm: 0.0343,eps_pri: 0.0154, eps_dual: 0.0228\n",
      "(15, 10, 10)\n",
      "obj: 7971.9731, rnorm: 0.0736, snorm: 0.0503,eps_pri: 0.0154, eps_dual: 0.0228\n",
      "(15, 10, 10)\n",
      "obj: 7972.0330, rnorm: 0.0717, snorm: 0.0453,eps_pri: 0.0154, eps_dual: 0.0228\n",
      "(15, 10, 10)\n",
      "obj: 7972.1528, rnorm: 0.0688, snorm: 0.0722,eps_pri: 0.0154, eps_dual: 0.0228\n",
      "(15, 10, 10)\n",
      "obj: 7972.1954, rnorm: 0.0679, snorm: 0.0388,eps_pri: 0.0154, eps_dual: 0.0228\n",
      "(15, 10, 10)\n",
      "obj: 7972.2998, rnorm: 0.0645, snorm: 0.0632,eps_pri: 0.0154, eps_dual: 0.0228\n",
      "(15, 10, 10)\n",
      "obj: 7972.4051, rnorm: 0.0623, snorm: 0.0631,eps_pri: 0.0154, eps_dual: 0.0229\n",
      "(15, 10, 10)\n",
      "obj: 7972.4629, rnorm: 0.0603, snorm: 0.0438,eps_pri: 0.0154, eps_dual: 0.0229\n",
      "(15, 10, 10)\n",
      "obj: 7972.5232, rnorm: 0.0590, snorm: 0.0454,eps_pri: 0.0154, eps_dual: 0.0229\n",
      "(15, 10, 10)\n",
      "obj: 7972.5669, rnorm: 0.0577, snorm: 0.0418,eps_pri: 0.0154, eps_dual: 0.0229\n",
      "(15, 10, 10)\n",
      "obj: 7972.6041, rnorm: 0.0565, snorm: 0.0345,eps_pri: 0.0154, eps_dual: 0.0229\n",
      "(15, 10, 10)\n",
      "obj: 7972.6552, rnorm: 0.0553, snorm: 0.0464,eps_pri: 0.0154, eps_dual: 0.0229\n",
      "(15, 10, 10)\n",
      "obj: 7972.6770, rnorm: 0.0546, snorm: 0.0290,eps_pri: 0.0154, eps_dual: 0.0229\n",
      "(15, 10, 10)\n",
      "obj: 7972.7150, rnorm: 0.0533, snorm: 0.0359,eps_pri: 0.0154, eps_dual: 0.0229\n",
      "(15, 10, 10)\n",
      "obj: 7972.7512, rnorm: 0.0524, snorm: 0.0345,eps_pri: 0.0154, eps_dual: 0.0229\n",
      "(15, 10, 10)\n",
      "obj: 7972.7692, rnorm: 0.0519, snorm: 0.0235,eps_pri: 0.0154, eps_dual: 0.0229\n",
      "(15, 10, 10)\n",
      "obj: 7972.8096, rnorm: 0.0505, snorm: 0.0375,eps_pri: 0.0154, eps_dual: 0.0229\n",
      "(15, 10, 10)\n",
      "obj: 7972.8440, rnorm: 0.0496, snorm: 0.0310,eps_pri: 0.0154, eps_dual: 0.0229\n",
      "(15, 10, 10)\n",
      "obj: 7972.8811, rnorm: 0.0485, snorm: 0.0361,eps_pri: 0.0154, eps_dual: 0.0229\n",
      "(15, 10, 10)\n",
      "obj: 7972.8889, rnorm: 0.0484, snorm: 0.0135,eps_pri: 0.0154, eps_dual: 0.0229\n",
      "(15, 10, 10)\n",
      "obj: 7972.8958, rnorm: 0.0480, snorm: 0.0090,eps_pri: 0.0154, eps_dual: 0.0229\n",
      "(15, 10, 10)\n",
      "obj: 7972.9540, rnorm: 0.0462, snorm: 0.0460,eps_pri: 0.0154, eps_dual: 0.0229\n",
      "(15, 10, 10)\n",
      "obj: 7972.9749, rnorm: 0.0457, snorm: 0.0236,eps_pri: 0.0154, eps_dual: 0.0229\n",
      "(15, 10, 10)\n",
      "obj: 7972.9775, rnorm: 0.0457, snorm: 0.0036,eps_pri: 0.0154, eps_dual: 0.0229\n",
      "(15, 10, 10)\n",
      "obj: 7972.6903, rnorm: 0.0444, snorm: 0.0782,eps_pri: 0.0154, eps_dual: 0.0229\n",
      "(15, 10, 10)\n",
      "obj: 7972.7086, rnorm: 0.0438, snorm: 0.0386,eps_pri: 0.0154, eps_dual: 0.0229\n",
      "(15, 10, 10)\n",
      "obj: 7972.7515, rnorm: 0.0424, snorm: 0.0722,eps_pri: 0.0154, eps_dual: 0.0230\n",
      "(15, 10, 10)\n",
      "obj: 7972.7892, rnorm: 0.0413, snorm: 0.0661,eps_pri: 0.0154, eps_dual: 0.0230\n",
      "(15, 10, 10)\n",
      "obj: 7972.8049, rnorm: 0.0409, snorm: 0.0361,eps_pri: 0.0154, eps_dual: 0.0230\n"
     ]
    },
    {
     "name": "stderr",
     "output_type": "stream",
     "text": [
      "/home/vero/git_repos/regain/regain/generalized_temporal_linear_model/ising.py:243: UserWarning: Objective did not converge.\n",
      "  warnings.warn(\"Objective did not converge.\")\n"
     ]
    },
    {
     "data": {
      "text/plain": [
       "SimilarityTemporalIsingModel(alpha=0.5, assume_centered=False, beta=1,\n",
       "               compute_objective=True, eps=1e-06, init='empirical',\n",
       "               ker_param=1, kernel=None, max_iter=100, max_iter_ext=100,\n",
       "               n_clusters=3, psi='l1', return_history=False, rho=1.0,\n",
       "               rtol=0.0001, tol=0.0001, update_rho_options=None, verbose=1)"
      ]
     },
     "execution_count": 125,
     "metadata": {},
     "output_type": "execute_result"
    }
   ],
   "source": [
    "mdl = SimilarityTemporalIsingModel(alpha=0.5,n_clusters=3, beta=1, psi='l1', verbose=1)\n",
    "mdl.fit(res['X'], res['y'])"
   ]
  },
  {
   "cell_type": "code",
   "execution_count": 126,
   "metadata": {},
   "outputs": [],
   "source": [
    "\n",
    "\n",
    "labels_pred = AgglomerativeClustering(\n",
    "                    n_clusters=3, affinity='precomputed',\n",
    "                    linkage='complete').fit_predict(mdl.similarity_matrix_)"
   ]
  },
  {
   "cell_type": "code",
   "execution_count": 127,
   "metadata": {},
   "outputs": [
    {
     "data": {
      "image/png": "[encoded data removed]",
      "text/plain": [
       "<Figure size 432x288 with 1 Axes>"
      ]
     },
     "metadata": {},
     "output_type": "display_data"
    }
   ],
   "source": [
    "import matplotlib.pyplot as plt\n",
    "\n",
    "plt.imshow(mdl.similarity_matrix_)\n",
    "plt.show()"
   ]
  },
  {
   "cell_type": "code",
   "execution_count": 128,
   "metadata": {},
   "outputs": [
    {
     "data": {
      "image/png": "[encoded data removed]",
      "text/plain": [
       "<Figure size 432x288 with 1 Axes>"
      ]
     },
     "metadata": {},
     "output_type": "display_data"
    }
   ],
   "source": [
    "plt.imshow(1-squareform(\n",
    "        [l1_od_norm(t1 - t2) for t1, t2 in combinations(res['precs'], 2)]))\n",
    "plt.show()"
   ]
  },
  {
   "cell_type": "code",
   "execution_count": 129,
   "metadata": {},
   "outputs": [
    {
     "data": {
      "text/plain": [
       "array([0, 1, 2, 2, 1, 0, 1, 0, 1, 2, 0, 1, 0, 1, 0])"
      ]
     },
     "execution_count": 129,
     "metadata": {},
     "output_type": "execute_result"
    }
   ],
   "source": [
    "labels_pred"
   ]
  },
  {
   "cell_type": "code",
   "execution_count": 130,
   "metadata": {},
   "outputs": [
    {
     "data": {
      "text/plain": [
       "array([0, 0, 0, 1, 1, 1, 2, 2, 2, 0, 0, 0, 1, 1, 2])"
      ]
     },
     "execution_count": 130,
     "metadata": {},
     "output_type": "execute_result"
    }
   ],
   "source": [
    "res['id_cluster']"
   ]
  },
  {
   "cell_type": "code",
   "execution_count": 132,
   "metadata": {},
   "outputs": [
    {
     "data": {
      "text/plain": [
       "0.07382423648483274"
      ]
     },
     "execution_count": 132,
     "metadata": {},
     "output_type": "execute_result"
    }
   ],
   "source": [
    "from sklearn.metrics import v_measure_score\n",
    "v_measure_score(res['id_cluster'], labels_pred)"
   ]
  },
  {
   "cell_type": "code",
   "execution_count": 124,
   "metadata": {},
   "outputs": [
    {
     "data": {
      "text/plain": [
       "{'tp': 416,\n",
       " 'tn': 324,\n",
       " 'fp': 172,\n",
       " 'fn': 438,\n",
       " 'precision': 0.7074829931972789,\n",
       " 'recall': 0.48711943793911006,\n",
       " 'f1': 0.5769764216366159,\n",
       " 'accuracy': 0.49333333333333335,\n",
       " 'false_omission_rate': 0.5748031496062992,\n",
       " 'fdr': 0.2925170068027211,\n",
       " 'npv': 0.4251968503937008,\n",
       " 'prevalence': 0.5693333333333334,\n",
       " 'miss_rate': 0.5128805620608899,\n",
       " 'fall_out': 0.3467741935483871,\n",
       " 'specificity': 0.6532258064516129,\n",
       " 'plr': 1.4047165187081312,\n",
       " 'nlr': 0.7851504900685229,\n",
       " 'dor': 1.7891048104491873,\n",
       " 'balanced_accuracy': 0.5701726221953615,\n",
       " 'average_precision': 0.6227595124795988,\n",
       " 'mcc': 0.4283848758846295}"
      ]
     },
     "execution_count": 124,
     "metadata": {},
     "output_type": "execute_result"
    }
   ],
   "source": [
    "from regain.utils import structure_error\n",
    "\n",
    "structure_error(res['thetas'], mdl.precision_, no_diagonal=True)"
   ]
  },
  {
   "cell_type": "code",
   "execution_count": 137,
   "metadata": {},
   "outputs": [
    {
     "name": "stdout",
     "output_type": "stream",
     "text": [
      "(15, 10, 10)\n",
      "(15, 10, 10)\n",
      "(15, 10, 10)\n",
      "(15, 10, 10)\n",
      "(15, 10, 10)\n",
      "(15, 10, 10)\n",
      "(15, 10, 10)\n",
      "(15, 10, 10)\n",
      "(15, 10, 10)\n",
      "(15, 10, 10)\n",
      "(15, 10, 10)\n",
      "(15, 10, 10)\n",
      "(15, 10, 10)\n",
      "(15, 10, 10)\n",
      "(15, 10, 10)\n",
      "(15, 10, 10)\n"
     ]
    },
    {
     "data": {
      "text/plain": [
       "TemporalIsingModel(alpha=0.8, assume_centered=False, compute_objective=True,\n",
       "          distribution='ising', init='empirical', ker_param=1,\n",
       "          kernel=array([[1.     , 0.979  , ..., 0.86464, 0.81791],\n",
       "       [0.979  , 1.     , ..., 0.9261 , 0.86464],\n",
       "       ...,\n",
       "       [0.86464, 0.9261 , ..., 1.     , 0.979  ],\n",
       "       [0.81791, 0.86464, ..., 0.979  , 1.     ]]),\n",
       "          max_iter=100, max_iter_ext=100, n_cores=-1, psi='laplacian',\n",
       "          return_history=False, rho=1.0, rtol=0.0001, tol=0.0001,\n",
       "          update_rho_options=None, verbose=0)"
      ]
     },
     "execution_count": 137,
     "metadata": {},
     "output_type": "execute_result"
    }
   ],
   "source": [
    "from sklearn.gaussian_process import kernels\n",
    "temporal_kernel = kernels.ExpSineSquared(\n",
    "    periodicity=10,\n",
    "    length_scale=3)(np.arange(15)[:, None])\n",
    "mdl_ = TemporalIsingModel(alpha=0.8, kernel=temporal_kernel, verbose=0)\n",
    "mdl_.fit(res['X'], res['y'])"
   ]
  },
  {
   "cell_type": "code",
   "execution_count": 138,
   "metadata": {},
   "outputs": [
    {
     "data": {
      "text/plain": [
       "{'tp': 522,\n",
       " 'tn': 282,\n",
       " 'fp': 214,\n",
       " 'fn': 332,\n",
       " 'precision': 0.7092391304347826,\n",
       " 'recall': 0.6112412177985949,\n",
       " 'f1': 0.6566037735849056,\n",
       " 'accuracy': 0.536,\n",
       " 'false_omission_rate': 0.5407166123778502,\n",
       " 'fdr': 0.2907608695652174,\n",
       " 'npv': 0.4592833876221498,\n",
       " 'prevalence': 0.5693333333333334,\n",
       " 'miss_rate': 0.38875878220140514,\n",
       " 'fall_out': 0.4314516129032258,\n",
       " 'specificity': 0.5685483870967742,\n",
       " 'plr': 1.4167086169537526,\n",
       " 'nlr': 0.6837743119570813,\n",
       " 'dor': 2.0718950568629664,\n",
       " 'balanced_accuracy': 0.5898948024476846,\n",
       " 'average_precision': 0.6596295480998629,\n",
       " 'mcc': 0.46279061618302453}"
      ]
     },
     "execution_count": 138,
     "metadata": {},
     "output_type": "execute_result"
    }
   ],
   "source": [
    "structure_error(res['thetas'], mdl_.precision_, no_diagonal=True)"
   ]
  },
  {
   "cell_type": "code",
   "execution_count": 139,
   "metadata": {},
   "outputs": [
    {
     "data": {
      "image/png": "[encoded data removed]",
      "text/plain": [
       "<Figure size 432x288 with 1 Axes>"
      ]
     },
     "metadata": {},
     "output_type": "display_data"
    }
   ],
   "source": [
    "from regain.generalized_temporal_linear_model.ising import precision_similarity\n",
    "\n",
    "A = precision_similarity(mdl_.precision_)\n",
    "plt.imshow(A)\n",
    "plt.show()"
   ]
  },
  {
   "cell_type": "code",
   "execution_count": 144,
   "metadata": {},
   "outputs": [],
   "source": [
    "\n",
    "labels_pred2 = AgglomerativeClustering(\n",
    "                    n_clusters=3, affinity='precomputed',\n",
    "                    linkage='complete').fit_predict(A)"
   ]
  },
  {
   "cell_type": "code",
   "execution_count": 145,
   "metadata": {},
   "outputs": [
    {
     "data": {
      "text/plain": [
       "0.010536873366270065"
      ]
     },
     "execution_count": 145,
     "metadata": {},
     "output_type": "execute_result"
    }
   ],
   "source": [
    "v_measure_score(res['id_cluster'], labels_pred2)"
   ]
  },
  {
   "cell_type": "code",
   "execution_count": 146,
   "metadata": {},
   "outputs": [
    {
     "data": {
      "text/plain": [
       "array([1, 2, 1, 1, 2, 0, 2, 0, 1, 0, 0, 0, 0, 0, 0])"
      ]
     },
     "execution_count": 146,
     "metadata": {},
     "output_type": "execute_result"
    }
   ],
   "source": [
    "labels_pred2"
   ]
  },
  {
   "cell_type": "code",
   "execution_count": 143,
   "metadata": {},
   "outputs": [
    {
     "data": {
      "text/plain": [
       "array([0, 1, 2, 2, 1, 0, 1, 0, 1, 2, 0, 1, 0, 1, 0])"
      ]
     },
     "execution_count": 143,
     "metadata": {},
     "output_type": "execute_result"
    }
   ],
   "source": [
    "labels_pred"
   ]
  },
  {
   "cell_type": "code",
   "execution_count": 147,
   "metadata": {},
   "outputs": [
    {
     "data": {
      "text/plain": [
       "{'X': array([[ 1, -1, -1, ...,  1, -1, -1],\n",
       "        [-1,  1,  1, ..., -1,  1,  1],\n",
       "        [ 1, -1, -1, ...,  1, -1, -1],\n",
       "        ...,\n",
       "        [-1, -1,  1, ..., -1, -1, -1],\n",
       "        [-1, -1,  1, ..., -1, -1, -1],\n",
       "        [-1, -1,  1, ..., -1, -1, -1]]),\n",
       " 'y': array([ 0,  0,  0, ..., 14, 14, 14]),\n",
       " 'id_cluster': array([0, 0, 0, 1, 1, 1, 2, 2, 2, 0, 0, 0, 1, 1, 2]),\n",
       " 'samples_cluster': array([0, 0, 0, ..., 2, 2, 2]),\n",
       " 'precs': array([[[ 0.,  1.,  0., ...,  0., -1.,  0.],\n",
       "         [ 1.,  0.,  1., ..., -1.,  0.,  0.],\n",
       "         [ 0.,  1.,  0., ..., -1.,  1., -1.],\n",
       "         ...,\n",
       "         [ 0., -1., -1., ...,  0.,  0., -1.],\n",
       "         [-1.,  0.,  1., ...,  0.,  0.,  0.],\n",
       "         [ 0.,  0., -1., ..., -1.,  0.,  0.]],\n",
       " \n",
       "        [[ 0.,  1.,  0., ...,  0., -1.,  1.],\n",
       "         [ 1.,  0.,  1., ..., -1.,  0., -1.],\n",
       "         [ 0.,  1.,  0., ..., -1.,  1.,  0.],\n",
       "         ...,\n",
       "         [ 0., -1., -1., ...,  0.,  0.,  0.],\n",
       "         [-1.,  0.,  1., ...,  0.,  0.,  1.],\n",
       "         [ 1., -1.,  0., ...,  0.,  1.,  0.]],\n",
       " \n",
       "        [[ 0.,  0.,  0., ...,  0., -1.,  1.],\n",
       "         [ 0.,  0.,  0., ..., -1.,  1., -1.],\n",
       "         [ 0.,  0.,  0., ..., -1.,  1.,  0.],\n",
       "         ...,\n",
       "         [ 0., -1., -1., ...,  0.,  0.,  0.],\n",
       "         [-1.,  1.,  1., ...,  0.,  0.,  1.],\n",
       "         [ 1., -1.,  0., ...,  0.,  1.,  0.]],\n",
       " \n",
       "        ...,\n",
       " \n",
       "        [[ 0.,  0., -1., ...,  1.,  1., -1.],\n",
       "         [ 0.,  0.,  0., ...,  1., -1., -1.],\n",
       "         [-1.,  0.,  0., ...,  1.,  1.,  0.],\n",
       "         ...,\n",
       "         [ 1.,  1.,  1., ...,  0.,  1.,  0.],\n",
       "         [ 1., -1.,  1., ...,  1.,  0., -1.],\n",
       "         [-1., -1.,  0., ...,  0., -1.,  0.]],\n",
       " \n",
       "        [[ 0.,  1., -1., ...,  0.,  1., -1.],\n",
       "         [ 1.,  0., -1., ...,  1., -1.,  0.],\n",
       "         [-1., -1.,  0., ...,  1.,  1., -1.],\n",
       "         ...,\n",
       "         [ 0.,  1.,  1., ...,  0.,  1.,  0.],\n",
       "         [ 1., -1.,  1., ...,  1.,  0., -1.],\n",
       "         [-1.,  0., -1., ...,  0., -1.,  0.]],\n",
       " \n",
       "        [[ 0.,  1.,  0., ...,  0.,  1.,  1.],\n",
       "         [ 1.,  0., -1., ...,  0.,  1.,  0.],\n",
       "         [ 0., -1.,  0., ...,  1., -1., -1.],\n",
       "         ...,\n",
       "         [ 0.,  0.,  1., ...,  0.,  1.,  0.],\n",
       "         [ 1.,  1., -1., ...,  1.,  0.,  0.],\n",
       "         [ 1.,  0., -1., ...,  0.,  0.,  0.]]]),\n",
       " 'thetas': array([[[ 0.,  1.,  0., ...,  0., -1.,  0.],\n",
       "         [ 1.,  0.,  1., ..., -1.,  0.,  0.],\n",
       "         [ 0.,  1.,  0., ..., -1.,  1., -1.],\n",
       "         ...,\n",
       "         [ 0., -1., -1., ...,  0.,  0., -1.],\n",
       "         [-1.,  0.,  1., ...,  0.,  0.,  0.],\n",
       "         [ 0.,  0., -1., ..., -1.,  0.,  0.]],\n",
       " \n",
       "        [[ 0.,  1.,  0., ...,  0., -1.,  1.],\n",
       "         [ 1.,  0.,  1., ..., -1.,  0., -1.],\n",
       "         [ 0.,  1.,  0., ..., -1.,  1.,  0.],\n",
       "         ...,\n",
       "         [ 0., -1., -1., ...,  0.,  0.,  0.],\n",
       "         [-1.,  0.,  1., ...,  0.,  0.,  1.],\n",
       "         [ 1., -1.,  0., ...,  0.,  1.,  0.]],\n",
       " \n",
       "        [[ 0.,  0.,  0., ...,  0., -1.,  1.],\n",
       "         [ 0.,  0.,  0., ..., -1.,  1., -1.],\n",
       "         [ 0.,  0.,  0., ..., -1.,  1.,  0.],\n",
       "         ...,\n",
       "         [ 0., -1., -1., ...,  0.,  0.,  0.],\n",
       "         [-1.,  1.,  1., ...,  0.,  0.,  1.],\n",
       "         [ 1., -1.,  0., ...,  0.,  1.,  0.]],\n",
       " \n",
       "        ...,\n",
       " \n",
       "        [[ 0.,  0., -1., ...,  1.,  1., -1.],\n",
       "         [ 0.,  0.,  0., ...,  1., -1., -1.],\n",
       "         [-1.,  0.,  0., ...,  1.,  1.,  0.],\n",
       "         ...,\n",
       "         [ 1.,  1.,  1., ...,  0.,  1.,  0.],\n",
       "         [ 1., -1.,  1., ...,  1.,  0., -1.],\n",
       "         [-1., -1.,  0., ...,  0., -1.,  0.]],\n",
       " \n",
       "        [[ 0.,  1., -1., ...,  0.,  1., -1.],\n",
       "         [ 1.,  0., -1., ...,  1., -1.,  0.],\n",
       "         [-1., -1.,  0., ...,  1.,  1., -1.],\n",
       "         ...,\n",
       "         [ 0.,  1.,  1., ...,  0.,  1.,  0.],\n",
       "         [ 1., -1.,  1., ...,  1.,  0., -1.],\n",
       "         [-1.,  0., -1., ...,  0., -1.,  0.]],\n",
       " \n",
       "        [[ 0.,  1.,  0., ...,  0.,  1.,  1.],\n",
       "         [ 1.,  0., -1., ...,  0.,  1.,  0.],\n",
       "         [ 0., -1.,  0., ...,  1., -1., -1.],\n",
       "         ...,\n",
       "         [ 0.,  0.,  1., ...,  0.,  1.,  0.],\n",
       "         [ 1.,  1., -1., ...,  1.,  0.,  0.],\n",
       "         [ 1.,  0., -1., ...,  0.,  0.,  0.]]]),\n",
       " 'sparse_precs': array([[[ 0.,  1.,  0., ...,  0., -1.,  0.],\n",
       "         [ 1.,  0.,  1., ..., -1.,  0.,  0.],\n",
       "         [ 0.,  1.,  0., ..., -1.,  1., -1.],\n",
       "         ...,\n",
       "         [ 0., -1., -1., ...,  0.,  0., -1.],\n",
       "         [-1.,  0.,  1., ...,  0.,  0.,  0.],\n",
       "         [ 0.,  0., -1., ..., -1.,  0.,  0.]],\n",
       " \n",
       "        [[ 0.,  1.,  0., ...,  0., -1.,  1.],\n",
       "         [ 1.,  0.,  1., ..., -1.,  0., -1.],\n",
       "         [ 0.,  1.,  0., ..., -1.,  1.,  0.],\n",
       "         ...,\n",
       "         [ 0., -1., -1., ...,  0.,  0.,  0.],\n",
       "         [-1.,  0.,  1., ...,  0.,  0.,  1.],\n",
       "         [ 1., -1.,  0., ...,  0.,  1.,  0.]],\n",
       " \n",
       "        [[ 0.,  0.,  0., ...,  0., -1.,  1.],\n",
       "         [ 0.,  0.,  0., ..., -1.,  1., -1.],\n",
       "         [ 0.,  0.,  0., ..., -1.,  1.,  0.],\n",
       "         ...,\n",
       "         [ 0., -1., -1., ...,  0.,  0.,  0.],\n",
       "         [-1.,  1.,  1., ...,  0.,  0.,  1.],\n",
       "         [ 1., -1.,  0., ...,  0.,  1.,  0.]],\n",
       " \n",
       "        ...,\n",
       " \n",
       "        [[ 0.,  0., -1., ...,  1.,  1., -1.],\n",
       "         [ 0.,  0.,  0., ...,  1., -1., -1.],\n",
       "         [-1.,  0.,  0., ...,  1.,  1.,  0.],\n",
       "         ...,\n",
       "         [ 1.,  1.,  1., ...,  0.,  1.,  0.],\n",
       "         [ 1., -1.,  1., ...,  1.,  0., -1.],\n",
       "         [-1., -1.,  0., ...,  0., -1.,  0.]],\n",
       " \n",
       "        [[ 0.,  1., -1., ...,  0.,  1., -1.],\n",
       "         [ 1.,  0., -1., ...,  1., -1.,  0.],\n",
       "         [-1., -1.,  0., ...,  1.,  1., -1.],\n",
       "         ...,\n",
       "         [ 0.,  1.,  1., ...,  0.,  1.,  0.],\n",
       "         [ 1., -1.,  1., ...,  1.,  0., -1.],\n",
       "         [-1.,  0., -1., ...,  0., -1.,  0.]],\n",
       " \n",
       "        [[ 0.,  1.,  0., ...,  0.,  1.,  1.],\n",
       "         [ 1.,  0., -1., ...,  0.,  1.,  0.],\n",
       "         [ 0., -1.,  0., ...,  1., -1., -1.],\n",
       "         ...,\n",
       "         [ 0.,  0.,  1., ...,  0.,  1.,  0.],\n",
       "         [ 1.,  1., -1., ...,  1.,  0.,  0.],\n",
       "         [ 1.,  0., -1., ...,  0.,  0.,  0.]]]),\n",
       " 'cluster_reps': [array([[ 0.,  1.,  0., -1.,  0.,  0.,  1.,  0., -1.,  0.],\n",
       "         [ 1.,  0.,  1., -1.,  1.,  1., -1., -1.,  0.,  0.],\n",
       "         [ 0.,  1.,  0.,  0.,  1., -1.,  0., -1.,  1., -1.],\n",
       "         [-1., -1.,  0.,  0.,  0.,  0., -1., -1.,  0.,  0.],\n",
       "         [ 0.,  1.,  1.,  0.,  0.,  1., -1., -1.,  1.,  0.],\n",
       "         [ 0.,  1., -1.,  0.,  1.,  0.,  1.,  1., -1.,  0.],\n",
       "         [ 1., -1.,  0., -1., -1.,  1.,  0.,  0.,  0., -1.],\n",
       "         [ 0., -1., -1., -1., -1.,  1.,  0.,  0.,  0., -1.],\n",
       "         [-1.,  0.,  1.,  0.,  1., -1.,  0.,  0.,  0.,  0.],\n",
       "         [ 0.,  0., -1.,  0.,  0.,  0., -1., -1.,  0.,  0.]]),\n",
       "  array([[ 0.,  0., -1.,  0.,  1.,  0.,  1.,  1.,  1., -1.],\n",
       "         [ 0.,  0.,  0.,  1.,  1.,  1.,  0.,  1., -1., -1.],\n",
       "         [-1.,  0.,  0.,  1.,  0.,  1.,  1.,  1.,  1.,  0.],\n",
       "         [ 0.,  1.,  1.,  0.,  1.,  1.,  1.,  0.,  1.,  0.],\n",
       "         [ 1.,  1.,  0.,  1.,  0.,  1., -1., -1.,  0., -1.],\n",
       "         [ 0.,  1.,  1.,  1.,  1.,  0., -1.,  0.,  1.,  0.],\n",
       "         [ 1.,  0.,  1.,  1., -1., -1.,  0.,  1., -1.,  0.],\n",
       "         [ 1.,  1.,  1.,  0., -1.,  0.,  1.,  0.,  1.,  0.],\n",
       "         [ 1., -1.,  1.,  1.,  0.,  1., -1.,  1.,  0., -1.],\n",
       "         [-1., -1.,  0.,  0., -1.,  0.,  0.,  0., -1.,  0.]]),\n",
       "  array([[ 0.,  1.,  0., -1., -1.,  1.,  0.,  0.,  1.,  1.],\n",
       "         [ 1.,  0., -1., -1.,  1.,  0.,  1.,  0.,  1.,  0.],\n",
       "         [ 0., -1.,  0.,  1.,  0., -1., -1.,  1., -1., -1.],\n",
       "         [-1., -1.,  1.,  0.,  0.,  0.,  1.,  0.,  1.,  0.],\n",
       "         [-1.,  1.,  0.,  0.,  0., -1.,  0.,  1.,  1.,  1.],\n",
       "         [ 1.,  0., -1.,  0., -1.,  0.,  1.,  1.,  1.,  0.],\n",
       "         [ 0.,  1., -1.,  1.,  0.,  1.,  0.,  1., -1.,  0.],\n",
       "         [ 0.,  0.,  1.,  0.,  1.,  1.,  1.,  0.,  1.,  0.],\n",
       "         [ 1.,  1., -1.,  1.,  1.,  1., -1.,  1.,  0.,  0.],\n",
       "         [ 1.,  0., -1.,  0.,  1.,  0.,  0.,  0.,  0.,  0.]])],\n",
       " 'cluster_series': array([0, 1, 2, 0, 1, 2])}"
      ]
     },
     "execution_count": 147,
     "metadata": {},
     "output_type": "execute_result"
    }
   ],
   "source": [
    "res"
   ]
  },
  {
   "cell_type": "code",
   "execution_count": null,
   "metadata": {},
   "outputs": [],
   "source": []
  }
 ],
 "metadata": {
  "kernelspec": {
   "display_name": "Python 3",
   "language": "python",
   "name": "python3"
  },
  "language_info": {
   "codemirror_mode": {
    "name": "ipython",
    "version": 3
   },
   "file_extension": ".py",
   "mimetype": "text/x-python",
   "name": "python",
   "nbconvert_exporter": "python",
   "pygments_lexer": "ipython3",
   "version": "3.6.5"
  }
 },
 "nbformat": 4,
 "nbformat_minor": 2
}
