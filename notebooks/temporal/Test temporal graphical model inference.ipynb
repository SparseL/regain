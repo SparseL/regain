{
 "cells": [
  {
   "cell_type": "code",
   "execution_count": 1,
   "metadata": {},
   "outputs": [],
   "source": [
    "%matplotlib inline\n",
    "from importlib import reload\n",
    "from __future__ import print_function, division\n",
    "\n",
    "import numpy as np\n",
    "import matplotlib.pyplot as plt\n",
    "import pandas as pd\n",
    "\n",
    "from itertools import product\n",
    "from functools import partial\n",
    "from sklearn.datasets import make_sparse_spd_matrix\n",
    "from sklearn.datasets.base import Bunch\n",
    "from sklearn.utils.extmath import squared_norm\n",
    "from sklearn.covariance import GraphLasso, empirical_covariance\n",
    "from sklearn.datasets.base import Bunch\n",
    "from sklearn.model_selection import GridSearchCV, ShuffleSplit\n",
    "from sklearn.gaussian_process import kernels\n",
    "\n",
    "from regain import prox; reload(prox)\n",
    "from regain.covariance import time_graphical_lasso_; reload(time_graphical_lasso_);\n",
    "import time\n",
    "\n",
    "from regain.bayesian import wishart_process_; reload(wishart_process_)\n",
    "from regain.bayesian import stats; reload(stats)\n",
    "\n",
    "from regain import utils; reload(utils);\n"
   ]
  },
  {
   "cell_type": "markdown",
   "metadata": {},
   "source": [
    "# ISING"
   ]
  },
  {
   "cell_type": "code",
   "execution_count": 2,
   "metadata": {},
   "outputs": [
    {
     "name": "stdout",
     "output_type": "stream",
     "text": [
      "l1\n"
     ]
    }
   ],
   "source": [
    "#devo generare dati temporali.. nel dubbio potrei farli tutti uguali, per cominciare\n",
    "#import regain.datasets.time; reload(regain.datasets.time)\n",
    "import regain._datasets.ising; reload(regain._datasets.ising)\n",
    "import regain.datasets; reload(regain.datasets)\n",
    "from regain.datasets import make_dataset\n",
    "\n",
    "samples, thetas = make_dataset(\n",
    "        n_samples=100, n_dim_obs=5,  T=10,  update_theta='l1',\n",
    " distribution='ising', change=2)"
   ]
  },
  {
   "cell_type": "code",
   "execution_count": 3,
   "metadata": {},
   "outputs": [],
   "source": [
    "import regain.generalized_linear_model.ising; reload(regain.generalized_linear_model.ising)\n",
    "from regain.generalized_linear_model.ising import Ising_GLM_GM\n",
    "precisions = []\n",
    "for i in range(10):\n",
    "    ising_mdl = Ising_GLM_GM(alpha=0.7, mode='symmetric_fbs', verbose=0)\n",
    "    ising_mdl.fit(samples[0])\n",
    "    precisions.append(ising_mdl.precision_)"
   ]
  },
  {
   "cell_type": "code",
   "execution_count": 4,
   "metadata": {},
   "outputs": [
    {
     "data": {
      "text/plain": [
       "{'tp': 34,\n",
       " 'tn': 64,\n",
       " 'fp': 26,\n",
       " 'fn': 76,\n",
       " 'precision': 0.5666666666666667,\n",
       " 'recall': 0.3090909090909091,\n",
       " 'f1': 0.39999999999999997,\n",
       " 'accuracy': 0.392,\n",
       " 'false_omission_rate': 0.5428571428571428,\n",
       " 'fdr': 0.43333333333333335,\n",
       " 'npv': 0.45714285714285713,\n",
       " 'prevalence': 0.44,\n",
       " 'miss_rate': 0.6909090909090909,\n",
       " 'fall_out': 0.28888888888888886,\n",
       " 'specificity': 0.7111111111111111,\n",
       " 'plr': 1.06993006993007,\n",
       " 'nlr': 0.9715909090909091,\n",
       " 'dor': 1.1012145748987856,\n",
       " 'balanced_accuracy': 0.5101010101010102,\n",
       " 'average_precision': 0.21444444444444447}"
      ]
     },
     "execution_count": 4,
     "metadata": {},
     "output_type": "execute_result"
    }
   ],
   "source": [
    "utils.structure_error(np.array(thetas), np.array(precisions), no_diagonal=True)"
   ]
  },
  {
   "cell_type": "code",
   "execution_count": 126,
   "metadata": {},
   "outputs": [
    {
     "data": {
      "text/plain": [
       "array([[[-1, -1, -1, -1,  1],\n",
       "        [ 1, -1,  1,  1, -1],\n",
       "        [ 1,  1,  1,  1, -1],\n",
       "        ...,\n",
       "        [ 1,  1, -1, -1, -1],\n",
       "        [ 1, -1, -1, -1,  1],\n",
       "        [-1, -1,  1, -1,  1]],\n",
       "\n",
       "       [[-1, -1, -1, -1,  1],\n",
       "        [-1, -1,  1,  1,  1],\n",
       "        [ 1,  1, -1,  1, -1],\n",
       "        ...,\n",
       "        [-1, -1,  1,  1, -1],\n",
       "        [ 1, -1,  1,  1, -1],\n",
       "        [-1, -1,  1,  1,  1]],\n",
       "\n",
       "       [[ 1,  1, -1, -1,  1],\n",
       "        [ 1,  1, -1, -1, -1],\n",
       "        [ 1, -1, -1, -1,  1],\n",
       "        ...,\n",
       "        [ 1,  1, -1, -1, -1],\n",
       "        [ 1,  1, -1, -1, -1],\n",
       "        [ 1,  1, -1, -1,  1]],\n",
       "\n",
       "       ...,\n",
       "\n",
       "       [[ 1, -1, -1,  1, -1],\n",
       "        [-1,  1,  1,  1, -1],\n",
       "        [ 1,  1, -1, -1,  1],\n",
       "        ...,\n",
       "        [-1, -1,  1,  1, -1],\n",
       "        [-1, -1,  1,  1, -1],\n",
       "        [ 1, -1, -1, -1,  1]],\n",
       "\n",
       "       [[-1,  1,  1,  1, -1],\n",
       "        [ 1,  1, -1, -1,  1],\n",
       "        [-1, -1,  1,  1, -1],\n",
       "        ...,\n",
       "        [-1, -1,  1,  1, -1],\n",
       "        [ 1,  1, -1, -1,  1],\n",
       "        [ 1,  1, -1, -1,  1]],\n",
       "\n",
       "       [[ 1,  1, -1,  1, -1],\n",
       "        [-1, -1,  1, -1,  1],\n",
       "        [ 1,  1, -1,  1, -1],\n",
       "        ...,\n",
       "        [-1, -1,  1,  1,  1],\n",
       "        [-1, -1,  1, -1,  1],\n",
       "        [ 1,  1, -1,  1, -1]]])"
      ]
     },
     "execution_count": 126,
     "metadata": {},
     "output_type": "execute_result"
    }
   ],
   "source": [
    "X = np.array([X[y == cl] for cl in np.unique(y)])\n",
    "X"
   ]
  },
  {
   "cell_type": "code",
   "execution_count": 164,
   "metadata": {},
   "outputs": [],
   "source": [
    "import regain.covariance.time_graphical_lasso_; reload(regain.covariance.time_graphical_lasso_)\n",
    "import regain.generalized_linear_model.ising; reload(regain.generalized_linear_model.ising)\n",
    "import regain.generalized_linear_model.time; reload(regain.generalized_linear_model.time)\n",
    "from regain.generalized_linear_model.time import TemporalIsingModel\n",
    "import regain.model_selection.stability_optimization; reload(regain.model_selection.stability_optimization)\n",
    "\n",
    "from regain.model_selection.stability_optimization import GraphicalModelStabilitySelection\n",
    "\n",
    "kernel = np.zeros((10,10))*1e-5\n",
    "np.fill_diagonal(kernel, 1)\n",
    "mdl = TemporalIsingModel(distribution='ising',\n",
    "        alpha=0.7, psi='l1', assume_centered=0, rtol=1e-5, tol=1e-4,\n",
    "        max_iter=300, rho=1., kernel=kernel, init='zeros', verbose=0)\n",
    "\n",
    "X = np.vstack(samples)\n",
    "y = np.array([np.ones(x.shape[0]) * i\n",
    "              for i, x in enumerate(samples)]).flatten().astype(int)\n",
    "#base_results(mdl, X, y, K, thetas, ells, search_spaces=None)"
   ]
  },
  {
   "cell_type": "code",
   "execution_count": 156,
   "metadata": {},
   "outputs": [
    {
     "data": {
      "text/plain": [
       "310"
      ]
     },
     "execution_count": 156,
     "metadata": {},
     "output_type": "execute_result"
    }
   ],
   "source": [
    "int(10*np.sqrt(1000))//10*10"
   ]
  },
  {
   "cell_type": "code",
   "execution_count": 165,
   "metadata": {},
   "outputs": [
    {
     "name": "stdout",
     "output_type": "stream",
     "text": [
      "Fitting 100 folds for each of 100 candidates, totalling 10000 fits\n"
     ]
    },
    {
     "name": "stderr",
     "output_type": "stream",
     "text": [
      "/home/vero/miniconda2/envs/py36/lib/python3.6/site-packages/sklearn/model_selection/_split.py:1678: FutureWarning: From version 0.21, test_size will always complement train_size unless both are specified.\n",
      "  FutureWarning)\n",
      "/home/vero/git_repos/regain/regain/model_selection/stability_optimization.py:187: UserWarning: Changing sampling size, divisible for the number of classes.\n",
      "  warnings.warn(\"Changing sampling size, divisible for the \"\n",
      "[Parallel(n_jobs=8)]: Using backend LokyBackend with 8 concurrent workers.\n",
      "[Parallel(n_jobs=8)]: Done  34 tasks      | elapsed:    2.8s\n",
      "[Parallel(n_jobs=8)]: Done 184 tasks      | elapsed:  4.3min\n",
      "[Parallel(n_jobs=8)]: Done 434 tasks      | elapsed: 22.4min\n",
      "[Parallel(n_jobs=8)]: Done 784 tasks      | elapsed: 63.8min\n",
      "[Parallel(n_jobs=8)]: Done 1234 tasks      | elapsed: 139.2min\n",
      "[Parallel(n_jobs=8)]: Done 1784 tasks      | elapsed: 256.8min\n",
      "[Parallel(n_jobs=8)]: Done 2434 tasks      | elapsed: 422.0min\n",
      "[Parallel(n_jobs=8)]: Done 3184 tasks      | elapsed: 630.7min\n",
      "[Parallel(n_jobs=8)]: Done 4034 tasks      | elapsed: 880.6min\n",
      "[Parallel(n_jobs=8)]: Done 4984 tasks      | elapsed: 1176.8min\n",
      "[Parallel(n_jobs=8)]: Done 6034 tasks      | elapsed: 1618.4min\n",
      "[Parallel(n_jobs=8)]: Done 7184 tasks      | elapsed: 1994.4min\n",
      "[Parallel(n_jobs=8)]: Done 8434 tasks      | elapsed: 2404.7min\n",
      "[Parallel(n_jobs=8)]: Done 9784 tasks      | elapsed: 2876.9min\n",
      "[Parallel(n_jobs=8)]: Done 10000 out of 10000 | elapsed: 2947.7min finished\n"
     ]
    },
    {
     "name": "stdout",
     "output_type": "stream",
     "text": [
      "[0.       0.       0.243938 0.245594 0.245594 0.245594 0.245594 0.245594\n",
      " 0.245594 0.245594 0.245594 0.245594 0.245594 0.245594 0.245594 0.245594\n",
      " 0.245594 0.245594 0.245594 0.245594 0.245594 0.245594 0.245594 0.245594\n",
      " 0.245594 0.245594 0.245594 0.245594 0.245594 0.245594 0.245594 0.245594\n",
      " 0.245594 0.245594 0.245594 0.245594 0.245594 0.245594 0.245594 0.245594\n",
      " 0.245594 0.245594 0.245594 0.245594 0.245594 0.245594 0.245594 0.245594\n",
      " 0.245594 0.245594 0.245594 0.245594 0.245594 0.245594 0.245594 0.245594\n",
      " 0.245594 0.245594 0.245594 0.245594 0.245594 0.245594 0.245594 0.245594\n",
      " 0.245594 0.245594 0.245594 0.245594 0.245594 0.245594 0.245594 0.245594\n",
      " 0.245594 0.245594 0.245594 0.245594 0.245594 0.245594 0.245594 0.245594\n",
      " 0.245594 0.245594 0.245594 0.245594 0.245594 0.245594 0.245594 0.245594\n",
      " 0.245594 0.245594 0.245594 0.245594 0.245594 0.245594 0.245594 0.245594\n",
      " 0.245594 0.245594 0.245594 0.245594]\n"
     ]
    },
    {
     "data": {
      "text/plain": [
       "GraphicalModelStabilitySelection(cv=StratifiedShuffleSplit(n_splits=100, random_state=None, test_size=690,\n",
       "            train_size=310),\n",
       "                 error_score='raise-deprecating',\n",
       "                 estimator=TemporalIsingModel(alpha=0.7, assume_centered=0, compute_objective=True,\n",
       "          distribution='ising', init='zeros', ker_param=1,\n",
       "          kernel=array([[1., 0., ..., 0., 0.],\n",
       "       [0., 1., ..., 0., 0.],\n",
       "       ...,\n",
       "       [0., 0., ..., 1., 0.],\n",
       "       [0., 0., ..., 0., 1.]]),\n",
       "          max_iter=300, max_iter_ext=100, psi='l1', return_history=False,\n",
       "          rho=1.0, rtol=1e-05, tol=0.0001, update_rho_options=None,\n",
       "          verbose=0),\n",
       "                 iid='deprecated', n_jobs=8, n_repetitions=100,\n",
       "                 param_grid={'alpha': array([1.00000e+05, 9.89999e-02, ..., 1.01020e-03, 1.00000e-03])},\n",
       "                 pre_dispatch='2*n_jobs', refit=True,\n",
       "                 return_train_score=False, sampling_size=310, scoring=None,\n",
       "                 verbose=1)"
      ]
     },
     "execution_count": 165,
     "metadata": {},
     "output_type": "execute_result"
    }
   ],
   "source": [
    "sampling_size = min(int(10*np.sqrt(1000)), 900)\n",
    "        \n",
    "ss = GraphicalModelStabilitySelection(mdl, n_repetitions=100, sampling_size=sampling_size, \n",
    "                                              param_grid={'alpha':np.linspace(1e-5, 1e3, 100)},\n",
    "                                     verbose=1, n_jobs=8)\n",
    "ss.fit(X, y)"
   ]
  },
  {
   "cell_type": "code",
   "execution_count": 166,
   "metadata": {},
   "outputs": [
    {
     "data": {
      "text/plain": [
       "{'tp': 0,\n",
       " 'tn': 90,\n",
       " 'fp': 0,\n",
       " 'fn': 110,\n",
       " 'precision': 0,\n",
       " 'recall': 0.0,\n",
       " 'f1': 0,\n",
       " 'accuracy': 0.36,\n",
       " 'false_omission_rate': 0.55,\n",
       " 'fdr': 1,\n",
       " 'npv': 0.45,\n",
       " 'prevalence': 0.44,\n",
       " 'miss_rate': 1.0,\n",
       " 'fall_out': 0.0,\n",
       " 'specificity': 1.0,\n",
       " 'plr': 0,\n",
       " 'nlr': 1.0,\n",
       " 'dor': 0.0,\n",
       " 'balanced_accuracy': 0.5,\n",
       " 'average_precision': 0.18}"
      ]
     },
     "execution_count": 166,
     "metadata": {},
     "output_type": "execute_result"
    }
   ],
   "source": [
    "utils.structure_error(np.array(thetas), np.array(ss.best_estimator_.precision_), no_diagonal=True)"
   ]
  },
  {
   "cell_type": "code",
   "execution_count": 148,
   "metadata": {},
   "outputs": [
    {
     "data": {
      "text/plain": [
       "{'alpha': 1e-05}"
      ]
     },
     "execution_count": 148,
     "metadata": {},
     "output_type": "execute_result"
    }
   ],
   "source": [
    "ss.best_params_"
   ]
  },
  {
   "cell_type": "code",
   "execution_count": null,
   "metadata": {},
   "outputs": [],
   "source": [
    "X.shape"
   ]
  },
  {
   "cell_type": "code",
   "execution_count": null,
   "metadata": {},
   "outputs": [],
   "source": [
    "samples[0].shape"
   ]
  },
  {
   "cell_type": "code",
   "execution_count": null,
   "metadata": {},
   "outputs": [],
   "source": [
    "len(samples)"
   ]
  },
  {
   "cell_type": "code",
   "execution_count": null,
   "metadata": {},
   "outputs": [],
   "source": []
  }
 ],
 "metadata": {
  "kernelspec": {
   "display_name": "Python 3",
   "language": "python",
   "name": "python3"
  },
  "language_info": {
   "codemirror_mode": {
    "name": "ipython",
    "version": 3
   },
   "file_extension": ".py",
   "mimetype": "text/x-python",
   "name": "python",
   "nbconvert_exporter": "python",
   "pygments_lexer": "ipython3",
   "version": "3.6.5"
  }
 },
 "nbformat": 4,
 "nbformat_minor": 2
}
