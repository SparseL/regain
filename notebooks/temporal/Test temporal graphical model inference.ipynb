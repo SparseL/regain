{
 "cells": [
  {
   "cell_type": "code",
   "execution_count": 1,
   "metadata": {},
   "outputs": [],
   "source": [
    "%matplotlib inline\n",
    "from importlib import reload\n",
    "from __future__ import print_function, division\n",
    "\n",
    "import numpy as np\n",
    "import matplotlib.pyplot as plt\n",
    "import pandas as pd\n",
    "\n",
    "from itertools import product\n",
    "from functools import partial\n",
    "from sklearn.datasets import make_sparse_spd_matrix\n",
    "from sklearn.datasets.base import Bunch\n",
    "from sklearn.utils.extmath import squared_norm\n",
    "from sklearn.covariance import GraphLasso, empirical_covariance\n",
    "from sklearn.datasets.base import Bunch\n",
    "from sklearn.model_selection import GridSearchCV, ShuffleSplit\n",
    "from sklearn.gaussian_process import kernels\n",
    "\n",
    "from regain import prox; reload(prox)\n",
    "from regain.covariance import time_graphical_lasso_; reload(time_graphical_lasso_);\n",
    "import time\n",
    "\n",
    "from regain.bayesian import wishart_process_; reload(wishart_process_)\n",
    "from regain.bayesian import stats; reload(stats)\n",
    "\n",
    "from regain import utils; reload(utils);\n"
   ]
  },
  {
   "cell_type": "code",
   "execution_count": 2,
   "metadata": {},
   "outputs": [],
   "source": [
    "def base_results(mdl, X, y, K, K_obs, ells, search_spaces=None, **params):\n",
    "    ll = mdl.set_params(**params)\n",
    "\n",
    "    tic = time.time()\n",
    "    if search_spaces is None:\n",
    "        ll.fit(X, y)\n",
    "    else:\n",
    "        ll = use_bscv(ll, search_spaces, X, y)\n",
    "    tac = time.time()\n",
    "\n",
    "    ss = utils.structure_error(K, ll.precision_)\n",
    "    MSE_precision = utils.error_norm(K, ll.precision_, upper_triangular=True)\n",
    "\n",
    "    res = dict(\n",
    "        n_dim_obs=K.shape[1], time=tac - tic, iterations=ll.n_iter_,\n",
    "        MSE_precision=MSE_precision, estimator=ll, likelihood=ll.score(X, y))\n",
    "\n",
    "    if hasattr(ll, 'latent_'):\n",
    "        res['MSE_observed'] = utils.error_norm(\n",
    "            K_obs, ll.precision_ - ll.latent_)\n",
    "        res['MSE_latent'] = utils.error_norm(ells, ll.latent_)\n",
    "        res['mean_rank_error'] = utils.error_rank(ells, ll.latent_)\n",
    "\n",
    "    res = dict(res, **ss)\n",
    "    return res"
   ]
  },
  {
   "cell_type": "code",
   "execution_count": 3,
   "metadata": {},
   "outputs": [
    {
     "data": {
      "text/plain": [
       "<matplotlib.axes._subplots.AxesSubplot at 0x11b468518>"
      ]
     },
     "execution_count": 3,
     "metadata": {},
     "output_type": "execute_result"
    },
    {
     "data": {
      "image/png": "[encoded data removed]",
      "text/plain": [
       "<Figure size 432x288 with 2 Axes>"
      ]
     },
     "metadata": {},
     "output_type": "display_data"
    }
   ],
   "source": [
    "import seaborn as sns\n",
    "# kernel used to generate data\n",
    "sns.heatmap(kernels.ExpSineSquared(periodicity=np.pi,\n",
    "                                      length_scale=2)(np.arange(10)[:,None]))\n"
   ]
  },
  {
   "cell_type": "code",
   "execution_count": 4,
   "metadata": {},
   "outputs": [
    {
     "ename": "NameError",
     "evalue": "name 'datasets' is not defined",
     "output_type": "error",
     "traceback": [
      "\u001b[0;31m---------------------------------------------------------------------------\u001b[0m",
      "\u001b[0;31mNameError\u001b[0m                                 Traceback (most recent call last)",
      "\u001b[0;32m<ipython-input-4-165ac3b5c1ee>\u001b[0m in \u001b[0;36m<module>\u001b[0;34m()\u001b[0m\n\u001b[1;32m      9\u001b[0m \u001b[0mnp\u001b[0m\u001b[0;34m.\u001b[0m\u001b[0mrandom\u001b[0m\u001b[0;34m.\u001b[0m\u001b[0mseed\u001b[0m\u001b[0;34m(\u001b[0m\u001b[0;36m0\u001b[0m\u001b[0;34m)\u001b[0m\u001b[0;34m\u001b[0m\u001b[0m\n\u001b[1;32m     10\u001b[0m \u001b[0;34m\u001b[0m\u001b[0m\n\u001b[0;32m---> 11\u001b[0;31m \u001b[0mreload\u001b[0m\u001b[0;34m(\u001b[0m\u001b[0mdatasets\u001b[0m\u001b[0;34m)\u001b[0m\u001b[0;34m\u001b[0m\u001b[0m\n\u001b[0m\u001b[1;32m     12\u001b[0m data = {(dim, T) : datasets.make_dataset(\n\u001b[1;32m     13\u001b[0m     \u001b[0mmode\u001b[0m\u001b[0;34m=\u001b[0m\u001b[0;34m'sin'\u001b[0m\u001b[0;34m,\u001b[0m \u001b[0mshape\u001b[0m\u001b[0;34m=\u001b[0m\u001b[0;34m'smooth'\u001b[0m\u001b[0;34m,\u001b[0m\u001b[0;34m\u001b[0m\u001b[0m\n",
      "\u001b[0;31mNameError\u001b[0m: name 'datasets' is not defined"
     ]
    }
   ],
   "source": [
    "\n",
    "# setting 1\n",
    "n_samples = 100\n",
    "T = 10\n",
    "n_dim_obs = 5\n",
    "\n",
    "k = (n_dim_obs, T)\n",
    "\n",
    "np.random.seed(0)\n",
    "\n",
    "reload(datasets)\n",
    "data = {(dim, T) : datasets.make_dataset(\n",
    "    mode='sin', shape='smooth',\n",
    "    update_theta='l2', normalize_starting_matrices=False,\n",
    "    n_samples=n_samples, n_dim_lat=0, n_dim_obs=dim,  T=T, epsilon=1e-1,\n",
    "    proportional=True, degree=2, keep_sparsity=True)\n",
    "    for dim in [n_dim_obs]}"
   ]
  },
  {
   "cell_type": "code",
   "execution_count": null,
   "metadata": {},
   "outputs": [],
   "source": [
    "data"
   ]
  },
  {
   "cell_type": "code",
   "execution_count": null,
   "metadata": {},
   "outputs": [],
   "source": [
    "# info on the data set\n",
    "K = data[(5, 10)].thetas\n",
    "print (\"Percentual of non-zero components at each time: {}\".format(\n",
    "    [(i!=0).sum() / i.size for i in K]))\n",
    "\n",
    "print (\"Percentual of total non-zero components: {}\".format(\n",
    "    (K != 0).sum() / (n_dim_obs ** 2 * T)))"
   ]
  },
  {
   "cell_type": "code",
   "execution_count": null,
   "metadata": {},
   "outputs": [],
   "source": [
    "d"
   ]
  },
  {
   "cell_type": "code",
   "execution_count": null,
   "metadata": {},
   "outputs": [],
   "source": [
    "# run_results(data[:2], dff, scores)\n",
    "\n",
    "idx = pd.IndexSlice\n",
    "for i, res in enumerate(data.values()):\n",
    "    #if i > 5 or i < 2: continue\n",
    "    # dim = k[0]\n",
    "    data_list = res.data\n",
    "    K = res.thetas\n",
    "    K_obs = res.thetas_observed\n",
    "    ells = res.ells\n",
    "    # to use it later for grid search\n",
    "    data_grid = np.array(data_list).transpose(1, 2, 0)\n",
    "    T = data_list.shape[0]\n",
    "    print(\"Start with: dim=%d, T=%d (it %d)\" % (data_list.shape[-1], T, i))"
   ]
  },
  {
   "cell_type": "code",
   "execution_count": null,
   "metadata": {},
   "outputs": [],
   "source": [
    "import regain.generalized_linear_model.time; reload(regain.generalized_linear_model.time)\n",
    "from regain.generalized_linear_model.time import TemporalGraphicalModel\n",
    "mdl = TemporalGraphicalModel(distribution='gaussian',\n",
    "        alpha=0.5, psi='laplacian', assume_centered=0, rtol=1e-5, tol=1e-5,\n",
    "        max_iter=1000, rho=1. / np.sqrt(data_list.shape[1]),\n",
    "        update_rho_options=dict(mu=5), kernel=partial(\n",
    "            kernels.ExpSineSquared, periodicity=np.pi), ker_param=2)\n",
    "\n",
    "X = np.vstack(data_list)\n",
    "y = np.array([np.ones(x.shape[0]) * i\n",
    "              for i, x in enumerate(data_list)]).flatten().astype(int)\n",
    "base_results(mdl, X, y, K, K_obs, ells, search_spaces=None)"
   ]
  },
  {
   "cell_type": "markdown",
   "metadata": {},
   "source": [
    "# ISING"
   ]
  },
  {
   "cell_type": "code",
   "execution_count": null,
   "metadata": {},
   "outputs": [],
   "source": [
    "from regain._datasets.ising import ising_theta_generator\n",
    "\n",
    "thetas = ising_theta_generator(p=5, n=100, T=10, mode='l1', time_on_axis='first',\n",
    "          change=4, responses=[-1,1])\n"
   ]
  },
  {
   "cell_type": "code",
   "execution_count": null,
   "metadata": {},
   "outputs": [],
   "source": [
    "from regain.generalized_linear_model.sampling import ising_sampler\n",
    "\n",
    "np.array([ising_sampler(t, np.zeros(5), n=100,\n",
    "                        responses=[-1,1]) for t in thetas])"
   ]
  },
  {
   "cell_type": "code",
   "execution_count": 5,
   "metadata": {},
   "outputs": [
    {
     "name": "stdout",
     "output_type": "stream",
     "text": [
      "l1\n"
     ]
    }
   ],
   "source": [
    "#devo generare dati temporali.. nel dubbio potrei farli tutti uguali, per cominciare\n",
    "#import regain.datasets.time; reload(regain.datasets.time)\n",
    "import regain._datasets.ising; reload(regain._datasets.ising)\n",
    "import regain.datasets; reload(regain.datasets)\n",
    "from regain.datasets import make_dataset\n",
    "\n",
    "samples, thetas = make_dataset(\n",
    "        n_samples=100, n_dim_obs=5,  T=10,  update_theta='l1',\n",
    " distribution='ising', change=2)"
   ]
  },
  {
   "cell_type": "code",
   "execution_count": 6,
   "metadata": {},
   "outputs": [
    {
     "data": {
      "text/plain": [
       "Ising_GLM_GM(alpha=0.25, compute_objective=True, max_iter=100,\n",
       "       mode='symmetric_fbs', reconstruction='union', return_history=True,\n",
       "       return_n_iter=False, rho=1, rtol=0.0001, tol=0.0001, verbose=0)"
      ]
     },
     "execution_count": 6,
     "metadata": {},
     "output_type": "execute_result"
    }
   ],
   "source": [
    "import regain.generalized_linear_model.ising; reload(regain.generalized_linear_model.ising)\n",
    "from regain.generalized_linear_model.ising import Ising_GLM_GM\n",
    "ising_mdl = Ising_GLM_GM(alpha=0.25, mode='symmetric_fbs', verbose=0)\n",
    "ising_mdl.fit(samples[3])"
   ]
  },
  {
   "cell_type": "code",
   "execution_count": null,
   "metadata": {},
   "outputs": [],
   "source": [
    "thetas[0].shape"
   ]
  },
  {
   "cell_type": "code",
   "execution_count": null,
   "metadata": {},
   "outputs": [],
   "source": [
    "utils.structure_error(np.array(thetas[3]), ising_mdl.precision_, no_diagonal=True)"
   ]
  },
  {
   "cell_type": "code",
   "execution_count": null,
   "metadata": {},
   "outputs": [],
   "source": [
    "import regain.covariance.time_graphical_lasso_; reload(regain.covariance.time_graphical_lasso_)\n",
    "import regain.generalized_linear_model.ising; reload(regain.generalized_linear_model.ising)\n",
    "import regain.generalized_linear_model.time; reload(regain.generalized_linear_model.time)\n",
    "from regain.generalized_linear_model.time import TemporalGraphicalModel\n",
    "\n",
    "kernel = np.ones((10,10))*1e-5\n",
    "np.fill_diagonal(kernel, 1)\n",
    "mdl = TemporalGraphicalModel(distribution='ising',\n",
    "        alpha=10, psi='l1', assume_centered=0, rtol=1e-5, tol=1e-5,\n",
    "        max_iter=300, rho=1.,\n",
    "        update_rho_options=dict(mu=5), kernel=kernel, init='zeros', verbose=1)\n",
    "\n",
    "X = np.vstack(samples)\n",
    "y = np.array([np.ones(x.shape[0]) * i\n",
    "              for i, x in enumerate(samples)]).flatten().astype(int)\n",
    "#base_results(mdl, X, y, K, thetas, ells, search_spaces=None)"
   ]
  },
  {
   "cell_type": "code",
   "execution_count": null,
   "metadata": {},
   "outputs": [],
   "source": [
    "mdl.fit(X, y)"
   ]
  },
  {
   "cell_type": "code",
   "execution_count": null,
   "metadata": {},
   "outputs": [],
   "source": [
    "for p in mdl.precision_:\n",
    "    plt.imshow(p)\n",
    "    plt.colorbar()\n",
    "    plt.show()"
   ]
  },
  {
   "cell_type": "code",
   "execution_count": null,
   "metadata": {},
   "outputs": [],
   "source": [
    "ss = utils.structure_error(np.array(thetas), mdl.precision_, no_diagonal=True)\n",
    "MSE_precision = utils.error_norm(np.array(thetas), mdl.precision_, upper_triangular=True)"
   ]
  },
  {
   "cell_type": "code",
   "execution_count": null,
   "metadata": {},
   "outputs": [],
   "source": [
    "ss"
   ]
  },
  {
   "cell_type": "code",
   "execution_count": null,
   "metadata": {},
   "outputs": [],
   "source": [
    "K.shape"
   ]
  },
  {
   "cell_type": "code",
   "execution_count": null,
   "metadata": {},
   "outputs": [],
   "source": [
    "X.shape"
   ]
  },
  {
   "cell_type": "code",
   "execution_count": null,
   "metadata": {},
   "outputs": [],
   "source": [
    "samples[0].shape"
   ]
  },
  {
   "cell_type": "code",
   "execution_count": null,
   "metadata": {},
   "outputs": [],
   "source": [
    "len(samples)"
   ]
  },
  {
   "cell_type": "code",
   "execution_count": null,
   "metadata": {},
   "outputs": [],
   "source": []
  }
 ],
 "metadata": {
  "kernelspec": {
   "display_name": "Python 3",
   "language": "python",
   "name": "python3"
  },
  "language_info": {
   "codemirror_mode": {
    "name": "ipython",
    "version": 3
   },
   "file_extension": ".py",
   "mimetype": "text/x-python",
   "name": "python",
   "nbconvert_exporter": "python",
   "pygments_lexer": "ipython3",
   "version": "3.6.6"
  }
 },
 "nbformat": 4,
 "nbformat_minor": 2
}
