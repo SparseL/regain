{
 "cells": [
  {
   "cell_type": "code",
   "execution_count": null,
   "metadata": {},
   "outputs": [],
   "source": [
    "%pylab inline\n",
    "import networkx as nx\n",
    "\n",
    "from sklearn.datasets import make_sparse_spd_matrix\n",
    "\n",
    "from regain import datasets, plot; reload(datasets)\n",
    "from regain.datasets import is_pos_semidef, is_pos_def"
   ]
  },
  {
   "cell_type": "code",
   "execution_count": null,
   "metadata": {},
   "outputs": [],
   "source": [
    "import matplotlib.pylab as plt\n",
    "x = np.linspace(-np.pi, np.pi, 10)\n",
    "y = np.sin((x))*2\n",
    "print(y)\n",
    "plt.plot(x,y )\n",
    "plt.xlabel('Angle [rad]')\n",
    "plt.ylabel('sin(x)')\n",
    "plt.axis('tight')\n",
    "plt.ylim((0,1))\n",
    "plt.show()"
   ]
  },
  {
   "cell_type": "code",
   "execution_count": null,
   "metadata": {},
   "outputs": [],
   "source": [
    "from regain.datasets import make_ell"
   ]
  },
  {
   "cell_type": "code",
   "execution_count": null,
   "metadata": {},
   "outputs": [],
   "source": [
    "def generate_dataset_sin_cos(n_dim_obs=100, n_dim_lat=10, T=10, sparsity=0.95):\n",
    "    L, K_OH = make_ell(n_dim_obs, n_dim_lat=n_dim_lat)\n",
    "    \n",
    "    phase = np.random.randn(n_dim_obs, n_dim_obs)*np.pi\n",
    "    phase[np.triu_indices(n_dim_obs)[::-1]] = phase[np.triu_indices(n_dim_obs)]\n",
    "\n",
    "    clip = np.zeros((n_dim_obs, n_dim_obs))\n",
    "    picks = np.random.permutation(len(np.triu_indices(n_dim_obs,1)[0]))\n",
    "    dim = int(len(np.triu_indices(n_dim_obs,1)[0])*sparsity)\n",
    "    picks = picks[:dim]\n",
    "    clip1 = clip[np.triu_indices(n_dim_obs,1)].ravel()\n",
    "    clip1[picks] = 1\n",
    "    clip[np.triu_indices(n_dim_obs,1)[::-1]] = clip[np.triu_indices(n_dim_obs,1)] = clip1\n",
    "    \n",
    "   \n",
    "    thetas = np.array([np.eye(n_dim_obs) for i in range(T)])\n",
    "    \n",
    "    x = np.linspace(-np.pi, np.pi, T)\n",
    "    plt.plot(x, np.sin((x+phase[1,2])/T**2)*(0.5/T))\n",
    "    plt.show()\n",
    "    for i in range(T):\n",
    "        for r in range(thetas[i].shape[0]):\n",
    "            for c in range(thetas[i].shape[1]):\n",
    "                if r==c:\n",
    "                    continue\n",
    "                if clip[r,c]:\n",
    "                    thetas[i,r,c] = np.sin((x[i]+phase[r,c])/T**2)*(0.5/T)\n",
    "                else:\n",
    "                    thetas[i,r,c] = np.sin((x[i]+phase[r,c]))*(0.5/T)\n",
    "        thetas[i][clip==1] = np.clip(thetas[i][clip==1],0,1)\n",
    "        thetas[i][np.abs(thetas[i])<1e-2]=0\n",
    "        \n",
    "        assert(is_pos_def(thetas[i]))\n",
    "        theta_observed = thetas[i] - L\n",
    "        assert(is_pos_def(theta_observed))\n",
    "        thetas_obs = [theta_observed]\n",
    "\n",
    "    return thetas, thetas_obs, L"
   ]
  },
  {
   "cell_type": "code",
   "execution_count": null,
   "metadata": {},
   "outputs": [],
   "source": [
    "K, K_obs, L = generate_dataset_sin_cos(n_dim_obs=100, n_dim_lat=2,sparsity=0.99)"
   ]
  },
  {
   "cell_type": "code",
   "execution_count": null,
   "metadata": {
    "scrolled": true
   },
   "outputs": [],
   "source": [
    "reload(plot)\n",
    "for i, theta in enumerate(K):\n",
    "   # theta[np.abs(theta)<1e-2] = 0\n",
    "    plot.plot_graph_with_latent_variables(theta, 0, 100, \"Network at time \"+str(i+1))"
   ]
  },
  {
   "cell_type": "code",
   "execution_count": null,
   "metadata": {
    "scrolled": true
   },
   "outputs": [],
   "source": [
    "from regain.admm import time_graph_lasso_; reload(time_graph_lasso_)\n",
    "# from regain import latent_time_graph_lasso_admm; reload(latent_time_graph_lasso_admm)\n",
    "Theta, S = time_graph_lasso_.time_graph_lasso(data_list, lamda=5, verbose=1, psi='l1')\n",
    "# Theta, L, S = latent_time_graph_lasso_admm.time_latent_graph_lasso(data_list, alpha=5, verbose=1)"
   ]
  },
  {
   "cell_type": "code",
   "execution_count": null,
   "metadata": {},
   "outputs": [],
   "source": [
    "from sklearn.utils.extmath import squared_norm\n",
    "np.sqrt(np.sum(squared_norm(t2 - t1[2:, 2:]) for t1, t2 in zip(thetas, Theta)))"
   ]
  },
  {
   "cell_type": "code",
   "execution_count": null,
   "metadata": {
    "scrolled": false
   },
   "outputs": [],
   "source": [
    "from regain.forward_backward import time_graph_lasso_ as tglf; reload(tglf)\n",
    "from regain import utils; reload(utils)\n",
    "from regain import prox; reload(prox)\n",
    "TT, SS = tglf.time_graph_lasso(data_list, lamda=5, verbose=1, max_iter=4)"
   ]
  },
  {
   "cell_type": "code",
   "execution_count": null,
   "metadata": {
    "scrolled": true
   },
   "outputs": [],
   "source": [
    "for i, (theta_true, theta_inferred) in enumerate(zip(thetas, Theta)):\n",
    "    print(theta_true[2:, 2:])\n",
    "    print(theta_inferred)\n",
    "    plot_graph_with_latent_variables(theta_true[2:, 2:], 2,3, \"Network at time \"+str(i+1)+ \" true\")\n",
    "    plot_graph_with_latent_variables(theta_inferred, 2,3, \"Network at time \"+str(i+1)+ \" inferred\")"
   ]
  },
  {
   "cell_type": "code",
   "execution_count": null,
   "metadata": {},
   "outputs": [],
   "source": [
    "import sys\n",
    "sys.path.insert(0, \"/home/fede/src/TVGL/\")\n",
    "\n",
    "import TVGL; reload(TVGL)\n",
    "thetaSet, empCovSet, status = TVGL.tvgl_hallac(data_list, lamb=5, beta=1, indexOfPenalty=3,\n",
    "                                               verbose=1, max_iter=250)"
   ]
  },
  {
   "cell_type": "code",
   "execution_count": null,
   "metadata": {},
   "outputs": [],
   "source": [
    "from sklearn.utils.extmath import squared_norm\n",
    "np.sqrt(np.sum(squared_norm(t2 - t1) for t1, t2 in zip(thetas, thetaSet)))"
   ]
  },
  {
   "cell_type": "code",
   "execution_count": null,
   "metadata": {},
   "outputs": [],
   "source": []
  }
 ],
 "metadata": {
  "kernelspec": {
   "display_name": "Python 3",
   "language": "python",
   "name": "python3"
  },
  "language_info": {
   "codemirror_mode": {
    "name": "ipython",
    "version": 3
   },
   "file_extension": ".py",
   "mimetype": "text/x-python",
   "name": "python",
   "nbconvert_exporter": "python",
   "pygments_lexer": "ipython3",
   "version": "3.7.3"
  }
 },
 "nbformat": 4,
 "nbformat_minor": 2
}
