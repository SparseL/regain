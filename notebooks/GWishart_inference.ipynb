{
 "cells": [
  {
   "cell_type": "markdown",
   "metadata": {},
   "source": [
    "# G-Wishart Inference\n",
    "\n",
    "## 1. Static Inference"
   ]
  },
  {
   "cell_type": "code",
   "execution_count": null,
   "metadata": {},
   "outputs": [],
   "source": [
    "import numpy as np\n",
    "import scipy as sp\n",
    "from sklearn.covariance import GraphLasso\n",
    "from sklearn.datasets import make_spd_matrix, make_sparse_spd_matrix\n",
    "from sklearn.linear_model import LassoLars"
   ]
  },
  {
   "cell_type": "code",
   "execution_count": null,
   "metadata": {
    "scrolled": true
   },
   "outputs": [],
   "source": [
    "tol = 1e-8\n",
    "\n",
    "n_dim = 5\n",
    "n_samples = 100\n",
    "\n",
    "np.random.seed(0)\n",
    "K = make_sparse_spd_matrix(n_dim, alpha=0.75)\n",
    "Sigma = sp.linalg.pinvh(K)\n",
    "\n",
    "X = np.random.multivariate_normal(np.zeros(n_dim), Sigma, size=n_samples)"
   ]
  },
  {
   "cell_type": "code",
   "execution_count": null,
   "metadata": {},
   "outputs": [],
   "source": [
    "from regain.bayesian import gwishart_inference; reload(gwishart_inference)\n",
    "from regain.bayesian.gwishart_inference import *\n",
    "n_samples, n_dim = X.shape\n",
    "alphas = np.logspace(-2, 0, 20)\n",
    "\n",
    "# get a series of Markov blankets for vaiours alphas\n",
    "mdl = GraphLasso(verbose=False)\n",
    "precisions = [\n",
    "    mdl.set_params(alpha=a).fit(X).precision_\n",
    "    for a in alphas]\n",
    "mblankets = markov_blankets(precisions, tol=tol, unique=1)"
   ]
  },
  {
   "cell_type": "code",
   "execution_count": null,
   "metadata": {},
   "outputs": [],
   "source": [
    "normalized_scores = score_blankets(mblankets, X=X, alphas=[0.01, 0.5, 1])\n",
    "\n",
    "graphs = get_graphs(mblankets, normalized_scores, n_dim=n_dim,\n",
    "                    n_resampling=200)\n",
    "\n",
    "nonzeros_all = [np.triu(g, 1) + np.eye(n_dim, dtype=bool) for g in graphs]\n",
    "\n",
    "# Roverato'02: convert from HIW to G-Wishart (delta + |V| - 1)\n",
    "d0 = 3 + n_dim - 1\n",
    "S0 = np.eye(n_dim)  # same as Roverato'02\n",
    "\n",
    "# Find non-zero elements of upper triangle of G\n",
    "# make sure diagonal is non-zero\n",
    "# G = nonzeros_all[1] # probably can discard if all zeros?\n",
    "res = [GWishartScore(X, G, d0=d0, S0=S0, mode='gl', score_method='diaglaplace')\n",
    "       for G in nonzeros_all]\n",
    "\n",
    "sorted(res, key=lambda x: x.score)[::-1][0].P"
   ]
  },
  {
   "cell_type": "code",
   "execution_count": null,
   "metadata": {},
   "outputs": [],
   "source": [
    "res[0]"
   ]
  },
  {
   "cell_type": "code",
   "execution_count": null,
   "metadata": {},
   "outputs": [],
   "source": [
    "K"
   ]
  },
  {
   "cell_type": "markdown",
   "metadata": {},
   "source": [
    "## Use GL with fixed graph. Time comparison"
   ]
  },
  {
   "cell_type": "code",
   "execution_count": null,
   "metadata": {},
   "outputs": [],
   "source": [
    "from sklearn.utils import Bunch\n",
    "GWprior = Bunch(d0=d0, S0=S0, lognormconst=0, lognormconstDiag=0)"
   ]
  },
  {
   "cell_type": "code",
   "execution_count": null,
   "metadata": {},
   "outputs": [],
   "source": [
    "%timeit gwishart.GWishartFit(X, G, GWprior, mode='covsel')"
   ]
  },
  {
   "cell_type": "code",
   "execution_count": null,
   "metadata": {},
   "outputs": [],
   "source": [
    "%timeit gwishart.GWishartFit(X, G, GWprior, mode='gl')"
   ]
  },
  {
   "cell_type": "markdown",
   "metadata": {},
   "source": [
    "## Plotting of 2-d covariance matrices"
   ]
  },
  {
   "cell_type": "code",
   "execution_count": null,
   "metadata": {},
   "outputs": [],
   "source": [
    "from regain.plot import *\n",
    "Cov = make_spd_matrix(2)\n",
    "Cov"
   ]
  },
  {
   "cell_type": "code",
   "execution_count": null,
   "metadata": {},
   "outputs": [],
   "source": [
    "show2d(np.array([2,4]), Cov, sdwidth=2)"
   ]
  },
  {
   "cell_type": "code",
   "execution_count": null,
   "metadata": {},
   "outputs": [],
   "source": []
  }
 ],
 "metadata": {
  "kernelspec": {
   "display_name": "Python 3",
   "language": "python",
   "name": "python3"
  },
  "language_info": {
   "codemirror_mode": {
    "name": "ipython",
    "version": 3
   },
   "file_extension": ".py",
   "mimetype": "text/x-python",
   "name": "python",
   "nbconvert_exporter": "python",
   "pygments_lexer": "ipython3",
   "version": "3.7.3"
  }
 },
 "nbformat": 4,
 "nbformat_minor": 4
}
