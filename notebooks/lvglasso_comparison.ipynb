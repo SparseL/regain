{
 "cells": [
  {
   "cell_type": "code",
   "execution_count": 1,
   "metadata": {},
   "outputs": [],
   "source": [
    "%matplotlib inline\n",
    "import numpy as np\n",
    "from sklearn.covariance import empirical_covariance\n",
    "\n",
    "from regain import datasets\n",
    "from regain.covariance import latent_graphical_lasso_, latent_time_graphical_lasso_\n",
    "\n",
    "# config\n",
    "np.random.seed(0)\n",
    "n_samples = 100\n",
    "n_dim_obs = 10\n",
    "n_dim_lat = 2\n",
    "T = 8\n",
    "tau = 0.1\n",
    "alpha = 0.1\n",
    "\n",
    "dataset = datasets.make_dataset(\n",
    "        n_samples=n_samples, n_dim_lat=n_dim_lat, update_ell='fixed',\n",
    "        update_theta='l2', normalize_starting_matrices=True, n_dim_obs=n_dim_obs, T=T)"
   ]
  },
  {
   "cell_type": "markdown",
   "metadata": {},
   "source": [
    "## 1. Single timestamp\n",
    "Check if, with only one timestamp, the method behave the same as Chandrasekaran/Ma."
   ]
  },
  {
   "cell_type": "code",
   "execution_count": 2,
   "metadata": {},
   "outputs": [],
   "source": [
    "emp_cov = empirical_covariance(dataset.data[0], assume_centered=False)"
   ]
  },
  {
   "cell_type": "markdown",
   "metadata": {},
   "source": [
    "### 1.1 Do we behave as ourselves with the same functional as Ma?\n",
    "The following is the latent time graphical model inference with only one covariance matrix."
   ]
  },
  {
   "cell_type": "code",
   "execution_count": 3,
   "metadata": {
    "scrolled": true
   },
   "outputs": [],
   "source": [
    "results_time = latent_time_graphical_lasso_.latent_time_graphical_lasso(\n",
    "    emp_cov[None, ...], alpha=alpha, tau=tau,\n",
    "    tol=1e-5, rtol=1e-5, rho=1./ emp_cov.shape[0],\n",
    "    verbose=0, max_iter=500)"
   ]
  },
  {
   "cell_type": "markdown",
   "metadata": {},
   "source": [
    "We compare it with the code for the latent graphical model inference (without time). <br>\n",
    "Since there is only one covariance matrix, we expect to obtain the same results."
   ]
  },
  {
   "cell_type": "code",
   "execution_count": 4,
   "metadata": {
    "scrolled": true
   },
   "outputs": [],
   "source": [
    "results_static = latent_graphical_lasso_.latent_graphical_lasso(\n",
    "    emp_cov, alpha=alpha, tau=tau, \n",
    "    tol=1e-5, rtol=1e-5, rho=1. / emp_cov.shape[0],\n",
    "    verbose=0, max_iter=500)"
   ]
  },
  {
   "cell_type": "code",
   "execution_count": 5,
   "metadata": {},
   "outputs": [],
   "source": [
    "assert np.all([np.allclose(x, y) for x, y in zip(results_static, results_time)])\n",
    "assert np.linalg.matrix_rank(results_static[1]) == np.linalg.matrix_rank(results_time[1][0])"
   ]
  },
  {
   "cell_type": "markdown",
   "metadata": {},
   "source": [
    "### Optional (requires Matlab/Octave installed)\n",
    "Now we check if the result is the same as the LVGLASSO Matlab algorithm. To do that, we implemented a simple wrapper which rely on `matlab.engine` or `oct2py`, to run Matlab code directly from Python. For `matlab.engine`, It requires Matlab 2016 or higher installed."
   ]
  },
  {
   "cell_type": "code",
   "execution_count": 10,
   "metadata": {},
   "outputs": [],
   "source": [
    "from regain.wrapper import lvglasso\n",
    "from sklearn.datasets.base import Bunch\n",
    "\n",
    "result = lvglasso(emp_cov, alpha, tau, 1. / emp_cov.shape[0])\n",
    "ma_output = Bunch(**result)\n",
    "\n",
    "assert np.all([np.allclose(x, y, atol=1e-3) for x, y in zip(results_static[:2], (ma_output.S, ma_output.L))])\n",
    "assert np.linalg.matrix_rank(ma_output.L) == np.linalg.matrix_rank(results_time[1][0])"
   ]
  },
  {
   "cell_type": "markdown",
   "metadata": {},
   "source": [
    "## 2. Time-varying vs separate for each time\n",
    "This is to justify the choice of the additional penalties which constrain subsequent matrices in time to behave similarly."
   ]
  },
  {
   "cell_type": "code",
   "execution_count": 11,
   "metadata": {},
   "outputs": [],
   "source": [
    "# config\n",
    "n_samples = 100\n",
    "n_dim_obs = 10\n",
    "n_dim_lat = 2\n",
    "T = 8\n",
    "\n",
    "np.random.seed(0)\n",
    "\n",
    "dataset = datasets.make_dataset(\n",
    "        n_samples=n_samples, n_dim_lat=n_dim_lat, update_ell='fixed',\n",
    "        update_theta='l2', normalize_starting_matrices=True, n_dim_obs=n_dim_obs, T=T)\n",
    "\n",
    "X, y = dataset.X, dataset.y"
   ]
  },
  {
   "cell_type": "markdown",
   "metadata": {},
   "source": [
    "First, we check again if the results are the same with beta and eta is 0."
   ]
  },
  {
   "cell_type": "code",
   "execution_count": 12,
   "metadata": {},
   "outputs": [],
   "source": [
    "emp_cov = np.array([empirical_covariance(data, assume_centered=False) for data in dataset.data])\n",
    "emp_list = np.array(emp_cov).transpose(1,2,0)"
   ]
  },
  {
   "cell_type": "code",
   "execution_count": 13,
   "metadata": {
    "scrolled": true
   },
   "outputs": [],
   "source": [
    "results_time = latent_time_graphical_lasso_.latent_time_graphical_lasso(\n",
    "    emp_cov, alpha=alpha, tau=tau, tol=1e-5, rtol=1e-5, rho=1./ emp_cov.shape[0],\n",
    "    beta=0, eta=0,\n",
    "    verbose=0, max_iter=500)\n",
    "\n",
    "results_static = [latent_graphical_lasso_.latent_graphical_lasso(\n",
    "    x, alpha=alpha, tau=tau, tol=1e-5, rtol=1e-5, rho=1. / emp_cov.shape[0],\n",
    "    verbose=0, max_iter=500) for x in emp_cov]"
   ]
  },
  {
   "cell_type": "code",
   "execution_count": 18,
   "metadata": {},
   "outputs": [],
   "source": [
    "assert np.all([np.allclose(results_static[i][0], results_time[0][i], atol=1e-2) for i in range(T)])\n",
    "assert np.all([np.linalg.matrix_rank(results_static[i][1]) == np.linalg.matrix_rank(results_time[1][i])\n",
    "        for i in range(T)])"
   ]
  },
  {
   "cell_type": "markdown",
   "metadata": {},
   "source": [
    "Again, optional: it requires Matlab or Octave installed."
   ]
  },
  {
   "cell_type": "code",
   "execution_count": 20,
   "metadata": {},
   "outputs": [],
   "source": [
    "result = lvglasso(emp_list, alpha, tau, rho=1. / emp_list[0].shape[0])\n",
    "ma_output = Bunch(**result)\n",
    "\n",
    "# note time is the last dim, as emp_list\n",
    "ma_output.R = np.array(ma_output.R.T)\n",
    "ma_output.S = np.array(ma_output.S.T)\n",
    "ma_output.L = np.array(ma_output.L.T)\n",
    "\n",
    "assert np.allclose(results_time[0], ma_output.R + ma_output.L, atol=1e-2)"
   ]
  },
  {
   "cell_type": "code",
   "execution_count": 21,
   "metadata": {},
   "outputs": [
    {
     "data": {
      "text/plain": [
       "3.29630654553604e-05"
      ]
     },
     "execution_count": 21,
     "metadata": {},
     "output_type": "execute_result"
    }
   ],
   "source": [
    "np.mean(results_time[0] - (ma_output.R + ma_output.L))"
   ]
  },
  {
   "cell_type": "code",
   "execution_count": 22,
   "metadata": {},
   "outputs": [],
   "source": [
    "L = np.array(ma_output.L)\n",
    "LL = results_time[1]\n",
    "\n",
    "ranks_ma = [np.linalg.matrix_rank(l)for l in L]\n",
    "ranks_ours = [np.linalg.matrix_rank(l)for l in LL]\n",
    "assert np.all([np.linalg.matrix_rank(l) == np.linalg.matrix_rank(ll) for l, ll in zip(L, LL)])"
   ]
  },
  {
   "cell_type": "markdown",
   "metadata": {},
   "source": [
    "# Penalty contribution\n",
    "\n",
    "We now checked that in the limit case of one time and in the case in which we do not consider the penalties that involve time we perform equivalentely. Now, with CV on the parameters on synhtetic data generated with norm2 we want to see if our method performs better than LVGLASSO applied on different time stamps. "
   ]
  },
  {
   "cell_type": "code",
   "execution_count": null,
   "metadata": {
    "scrolled": true
   },
   "outputs": [],
   "source": [
    "from sklearn.model_selection import GridSearchCV, StratifiedShuffleSplit\n",
    "from regain import utils\n",
    "from regain.covariance import LatentTimeGraphicalLasso\n",
    "\n",
    "ltgl = GridSearchCV(\n",
    "    LatentTimeGraphicalLasso(),\n",
    "    dict(tau=np.logspace(-2,np.log(.5),10), alpha=np.logspace(-2,np.log(.5),10)),\n",
    "    cv=StratifiedShuffleSplit(10), return_train_score=True).fit(X, y)"
   ]
  },
  {
   "cell_type": "code",
   "execution_count": null,
   "metadata": {},
   "outputs": [],
   "source": [
    "emp_list = list(ltgl.best_estimator_.covariance_)\n",
    "alpha = ltgl.best_params_['alpha']\n",
    "tau = ltgl.best_params_['tau']"
   ]
  },
  {
   "cell_type": "code",
   "execution_count": null,
   "metadata": {},
   "outputs": [],
   "source": [
    "precs = []\n",
    "lats = []\n",
    "covss = []\n",
    "for data in dataset.data:\n",
    "    lgl = LatentGraphicalLasso(tau=tau, alpha=alpha, assume_centered=False).fit(X, y)\n",
    "    precs.append(lgl.precision_)\n",
    "    lats.append(lgl.latent_)\n",
    "    covss.append(lgl.covariance_)"
   ]
  },
  {
   "cell_type": "markdown",
   "metadata": {},
   "source": [
    "### Error obtained w.r.t. the observed data"
   ]
  },
  {
   "cell_type": "code",
   "execution_count": null,
   "metadata": {},
   "outputs": [],
   "source": [
    "from regain.utils import error_norm_time\n",
    "print(\"Error norm time with observed precision: \\n LTGL: {:.3f}\\n LVGLASSO: {:.3f}\".format(\n",
    "      error_norm_time(ltgl.best_estimator_.precision_ - ltgl.best_estimator_.latent_, dataset.thetas_observed),\n",
    "      error_norm_time(np.array(precs) - np.array(lats), dataset.thetas_observed)))"
   ]
  },
  {
   "cell_type": "markdown",
   "metadata": {},
   "source": [
    "### Error obtained w.r.t. the real data"
   ]
  },
  {
   "cell_type": "code",
   "execution_count": null,
   "metadata": {},
   "outputs": [],
   "source": [
    "print(\"Error norm time of LTGL: \\n Precision: {:.3f}\\n Latent: {:.3f}\\n\".format(\n",
    "      error_norm_time(ltgl.best_estimator_.precision_, dataset.thetas),\n",
    "      error_norm_time(ltgl.best_estimator_.latent_, dataset.ells)))\n",
    "\n",
    "print(\"Error norm time of LVGLASSO: \\n Precision: {:.3f}\\n Latent: {:.3f}\".format(\n",
    "      error_norm_time(np.array(precs), dataset.thetas),\n",
    "      error_norm_time(np.array(lats), dataset.ells)))"
   ]
  },
  {
   "cell_type": "markdown",
   "metadata": {},
   "source": [
    "### Error in ranks"
   ]
  },
  {
   "cell_type": "code",
   "execution_count": null,
   "metadata": {},
   "outputs": [],
   "source": [
    "# ltgl.best_estimator_.set_params(beta=1e12,eta=1e12).fit(data_grid)\n",
    "print(\"Rank latent matrices LTGL: {}\".format([np.linalg.matrix_rank(i) for i in ltgl.best_estimator_.latent_]))\n",
    "print(\"Rank latent matrices LVGLASSO: {}\".format([np.linalg.matrix_rank(i) for i in lats]))\n",
    "print(\"Rank true latent matrices: {}\".format(np.linalg.matrix_rank(dataset.ells)))"
   ]
  },
  {
   "cell_type": "markdown",
   "metadata": {},
   "source": [
    "### Error in structure"
   ]
  },
  {
   "cell_type": "code",
   "execution_count": null,
   "metadata": {},
   "outputs": [],
   "source": [
    "from regain.utils import structure_error\n",
    "\n",
    "print(\"f1 score LTGL: {:.2f}\".format(structure_error(\n",
    "    dataset.thetas, ltgl.best_estimator_.precision_, thresholding=1, eps=1e-2)['f1']))\n",
    "print(\"f1 score LVGLASSO: {:.2f}\".format(structure_error(\n",
    "    dataset.thetas, np.array(precs), thresholding=1, eps=1e-2)['f1']))"
   ]
  },
  {
   "cell_type": "markdown",
   "metadata": {},
   "source": [
    "# Scalability"
   ]
  },
  {
   "cell_type": "code",
   "execution_count": 24,
   "metadata": {},
   "outputs": [],
   "source": [
    "from tqdm import tqdm"
   ]
  },
  {
   "cell_type": "code",
   "execution_count": 25,
   "metadata": {},
   "outputs": [
    {
     "name": "stderr",
     "output_type": "stream",
     "text": [
      "100%|██████████| 5/5 [03:08<00:00, 37.61s/it]\n"
     ]
    }
   ],
   "source": [
    "n_samples = 100\n",
    "# n_dim_obs = 10\n",
    "n_dim_lat = 2\n",
    "T = 10\n",
    "np.random.seed(0)\n",
    "import time\n",
    "results = {}\n",
    "    \n",
    "for n_dim_obs in tqdm(np.logspace(1, 2, 5)):\n",
    "    dataset = datasets.make_dataset(\n",
    "        n_samples=n_samples, n_dim_lat=n_dim_lat, update_ell='fixed',\n",
    "        update_theta='l2', normalize_starting_matrices=True, n_dim_obs=n_dim_obs, T=T)\n",
    "\n",
    "    X, y = dataset.X, dataset.y\n",
    "\n",
    "    emp_cov = np.array([empirical_covariance(data, assume_centered=False) for data in dataset.data])\n",
    "    emp_list = np.array(emp_cov).transpose(1,2,0)\n",
    "\n",
    "    res, elapsed_time = [], []\n",
    "    for x in emp_cov:\n",
    "        tic = time.time()\n",
    "        results_static = latent_graphical_lasso_.latent_graphical_lasso(\n",
    "            x, alpha=alpha, tau=tau, tol=1e-5, rtol=1e-5, rho=1. / emp_cov.shape[0],\n",
    "        verbose=0, max_iter=500)\n",
    "        tac = time.time() - tic\n",
    "        \n",
    "        res.append(results_static)\n",
    "        elapsed_time.append(tac)\n",
    "        \n",
    "    results[('lgl', n_dim_obs)] = dict(res=res, elapsed_time=elapsed_time)\n",
    "    \n",
    "    res, elapsed_time = [], []\n",
    "    for x in emp_cov:\n",
    "        tic = time.time()\n",
    "        result = lvglasso(x, alpha, tau, 1. / x.shape[0])\n",
    "        ma_output = Bunch(**result)\n",
    "\n",
    "        ma_output.R = np.array(ma_output.R)\n",
    "        ma_output.S = np.array(ma_output.S)\n",
    "        ma_output.L = np.array(ma_output.L)\n",
    "        tac = ma_output.elapsed_time #time.time() - tic\n",
    "        \n",
    "        res.append(ma_output)\n",
    "        elapsed_time.append(tac)\n",
    "    \n",
    "\n",
    "    results[('lvglasso', n_dim_obs)] = dict(res=ma_output, elapsed_time=elapsed_time)\n",
    "#     results[('lvglasso', n_dim_obs)] = ma_output\n",
    "\n",
    "    # assert np.allclose(results_time[0], ma_output.R + ma_output.L, atol=1e-3)\n",
    "\n",
    "#     L = np.array(ma_output.L)\n",
    "#     LL = results_time[1]\n",
    "\n",
    "#     ranks_ma = [np.linalg.matrix_rank(l)for l in L]\n",
    "#     ranks_ours = [np.linalg.matrix_rank(l)for l in LL]\n",
    "    # assert np.all([np.linalg.matrix_rank(l) == np.linalg.matrix_rank(ll) for l, ll in zip(L, LL)])"
   ]
  },
  {
   "cell_type": "code",
   "execution_count": 63,
   "metadata": {},
   "outputs": [],
   "source": [
    "import pandas as pd"
   ]
  },
  {
   "cell_type": "code",
   "execution_count": 69,
   "metadata": {},
   "outputs": [],
   "source": [
    "import pandas as pd"
   ]
  },
  {
   "cell_type": "code",
   "execution_count": 76,
   "metadata": {},
   "outputs": [],
   "source": [
    "df = pd.DataFrame({k: (results[k]['elapsed_time']) for k in results}).T.unstack(level=0)# .plot(logy=True)"
   ]
  },
  {
   "cell_type": "code",
   "execution_count": 82,
   "metadata": {},
   "outputs": [],
   "source": [
    "df = df.stack()"
   ]
  },
  {
   "cell_type": "code",
   "execution_count": 95,
   "metadata": {},
   "outputs": [
    {
     "data": {
      "image/png": "[encoded data removed]",
      "text/plain": [
       "<Figure size 432x288 with 1 Axes>"
      ]
     },
     "metadata": {
      "needs_background": "light"
     },
     "output_type": "display_data"
    }
   ],
   "source": [
    "from regain.utils import flatten\n",
    "df = pd.DataFrame(\n",
    "    flatten([[(k[0], int(k[1] * k[1]-1) // 2 * T, x) \n",
    "              for x in results[k]['elapsed_time']] for k in results]),\n",
    "    columns=['method', 'n_unknowns', 'time'])\n",
    "\n",
    "import seaborn as sns\n",
    "from matplotlib import pyplot as plt\n",
    "f, ax = plt.subplots()\n",
    "g = sns.pointplot(data=df, hue='method', x='n_unknowns', y='time')\n",
    "g.set_yscale(\"log\");"
   ]
  },
  {
   "cell_type": "code",
   "execution_count": 128,
   "metadata": {},
   "outputs": [
    {
     "data": {
      "text/plain": [
       "Index(['lgl', 'lvglasso'], dtype='object')"
      ]
     },
     "execution_count": 128,
     "metadata": {},
     "output_type": "execute_result"
    }
   ],
   "source": [
    "df.index.levels[1]"
   ]
  },
  {
   "cell_type": "code",
   "execution_count": 137,
   "metadata": {},
   "outputs": [
    {
     "data": {
      "text/html": [
       "<div>\n",
       "<style scoped>\n",
       "    .dataframe tbody tr th:only-of-type {\n",
       "        vertical-align: middle;\n",
       "    }\n",
       "\n",
       "    .dataframe tbody tr th {\n",
       "        vertical-align: top;\n",
       "    }\n",
       "\n",
       "    .dataframe thead tr th {\n",
       "        text-align: left;\n",
       "    }\n",
       "</style>\n",
       "<table border=\"1\" class=\"dataframe\">\n",
       "  <thead>\n",
       "    <tr>\n",
       "      <th></th>\n",
       "      <th colspan=\"5\" halign=\"left\">0</th>\n",
       "      <th colspan=\"5\" halign=\"left\">1</th>\n",
       "      <th>...</th>\n",
       "      <th colspan=\"5\" halign=\"left\">8</th>\n",
       "      <th colspan=\"5\" halign=\"left\">9</th>\n",
       "    </tr>\n",
       "    <tr>\n",
       "      <th></th>\n",
       "      <th>10.000000</th>\n",
       "      <th>17.782794</th>\n",
       "      <th>31.622777</th>\n",
       "      <th>56.234133</th>\n",
       "      <th>100.000000</th>\n",
       "      <th>10.000000</th>\n",
       "      <th>17.782794</th>\n",
       "      <th>31.622777</th>\n",
       "      <th>56.234133</th>\n",
       "      <th>100.000000</th>\n",
       "      <th>...</th>\n",
       "      <th>10.000000</th>\n",
       "      <th>17.782794</th>\n",
       "      <th>31.622777</th>\n",
       "      <th>56.234133</th>\n",
       "      <th>100.000000</th>\n",
       "      <th>10.000000</th>\n",
       "      <th>17.782794</th>\n",
       "      <th>31.622777</th>\n",
       "      <th>56.234133</th>\n",
       "      <th>100.000000</th>\n",
       "    </tr>\n",
       "  </thead>\n",
       "  <tbody>\n",
       "    <tr>\n",
       "      <th>lgl</th>\n",
       "      <td>0.021276</td>\n",
       "      <td>0.030052</td>\n",
       "      <td>0.029721</td>\n",
       "      <td>0.046583</td>\n",
       "      <td>0.139973</td>\n",
       "      <td>0.019926</td>\n",
       "      <td>0.025479</td>\n",
       "      <td>0.025369</td>\n",
       "      <td>0.046815</td>\n",
       "      <td>0.147044</td>\n",
       "      <td>...</td>\n",
       "      <td>0.015779</td>\n",
       "      <td>0.014611</td>\n",
       "      <td>0.026669</td>\n",
       "      <td>0.042431</td>\n",
       "      <td>0.133297</td>\n",
       "      <td>0.015443</td>\n",
       "      <td>0.013424</td>\n",
       "      <td>0.027896</td>\n",
       "      <td>0.046859</td>\n",
       "      <td>0.134067</td>\n",
       "    </tr>\n",
       "    <tr>\n",
       "      <th>lvglasso</th>\n",
       "      <td>0.023085</td>\n",
       "      <td>0.086299</td>\n",
       "      <td>0.235088</td>\n",
       "      <td>0.757566</td>\n",
       "      <td>1.903312</td>\n",
       "      <td>0.023612</td>\n",
       "      <td>0.084791</td>\n",
       "      <td>0.194852</td>\n",
       "      <td>0.723097</td>\n",
       "      <td>2.129311</td>\n",
       "      <td>...</td>\n",
       "      <td>0.020990</td>\n",
       "      <td>0.093061</td>\n",
       "      <td>0.234053</td>\n",
       "      <td>0.698075</td>\n",
       "      <td>1.968895</td>\n",
       "      <td>0.023706</td>\n",
       "      <td>0.065906</td>\n",
       "      <td>0.189966</td>\n",
       "      <td>0.753133</td>\n",
       "      <td>1.974160</td>\n",
       "    </tr>\n",
       "  </tbody>\n",
       "</table>\n",
       "<p>2 rows × 50 columns</p>\n",
       "</div>"
      ],
      "text/plain": [
       "                  0                                                      1  \\\n",
       "         10.000000  17.782794  31.622777  56.234133  100.000000 10.000000    \n",
       "lgl        0.021276   0.030052   0.029721   0.046583   0.139973   0.019926   \n",
       "lvglasso   0.023085   0.086299   0.235088   0.757566   1.903312   0.023612   \n",
       "\n",
       "                                                        ...              8  \\\n",
       "         17.782794  31.622777  56.234133  100.000000    ...     10.000000    \n",
       "lgl        0.025479   0.025369   0.046815   0.147044    ...       0.015779   \n",
       "lvglasso   0.084791   0.194852   0.723097   2.129311    ...       0.020990   \n",
       "\n",
       "                                                              9             \\\n",
       "         17.782794  31.622777  56.234133  100.000000 10.000000  17.782794    \n",
       "lgl        0.014611   0.026669   0.042431   0.133297   0.015443   0.013424   \n",
       "lvglasso   0.093061   0.234053   0.698075   1.968895   0.023706   0.065906   \n",
       "\n",
       "                                           \n",
       "         31.622777  56.234133  100.000000  \n",
       "lgl        0.027896   0.046859   0.134067  \n",
       "lvglasso   0.189966   0.753133   1.974160  \n",
       "\n",
       "[2 rows x 50 columns]"
      ]
     },
     "execution_count": 137,
     "metadata": {},
     "output_type": "execute_result"
    }
   ],
   "source": [
    "df.unstack(level=0)"
   ]
  },
  {
   "cell_type": "code",
   "execution_count": 147,
   "metadata": {},
   "outputs": [
    {
     "data": {
      "text/plain": [
       "<matplotlib.axes._subplots.AxesSubplot at 0x7f9b8ac0b1d0>"
      ]
     },
     "execution_count": 147,
     "metadata": {},
     "output_type": "execute_result"
    },
    {
     "data": {
      "image/png": "[encoded data removed]",
      "text/plain": [
       "<Figure size 432x288 with 1 Axes>"
      ]
     },
     "metadata": {},
     "output_type": "display_data"
    }
   ],
   "source": [
    "sns.pointplot(data=df.T.unstack(level=0))"
   ]
  },
  {
   "cell_type": "code",
   "execution_count": 92,
   "metadata": {},
   "outputs": [
    {
     "data": {
      "text/plain": [
       "<matplotlib.axes._subplots.AxesSubplot at 0x7f9b8ba56c50>"
      ]
     },
     "execution_count": 92,
     "metadata": {},
     "output_type": "execute_result"
    },
    {
     "data": {
      "image/png": "[encoded data removed]",
      "text/plain": [
       "<Figure size 432x288 with 1 Axes>"
      ]
     },
     "metadata": {},
     "output_type": "display_data"
    }
   ],
   "source": [
    "import seaborn as sns\n",
    "sns.pointplot(x=df.index.levels[0], data=df)\n"
   ]
  },
  {
   "cell_type": "code",
   "execution_count": null,
   "metadata": {},
   "outputs": [],
   "source": []
  }
 ],
 "metadata": {
  "kernelspec": {
   "display_name": "Python 3",
   "language": "python",
   "name": "python3"
  },
  "language_info": {
   "codemirror_mode": {
    "name": "ipython",
    "version": 3
   },
   "file_extension": ".py",
   "mimetype": "text/x-python",
   "name": "python",
   "nbconvert_exporter": "python",
   "pygments_lexer": "ipython3",
   "version": "3.7.4"
  }
 },
 "nbformat": 4,
 "nbformat_minor": 4
}
