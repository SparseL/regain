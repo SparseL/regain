{
 "cells": [
  {
   "cell_type": "code",
   "execution_count": 5,
   "metadata": {},
   "outputs": [],
   "source": [
    "%matplotlib inline\n",
    "import numpy as np\n",
    "from sklearn.covariance import empirical_covariance\n",
    "\n",
    "from regain import datasets\n",
    "from regain.covariance import latent_graphical_lasso_, latent_time_graphical_lasso_\n",
    "\n",
    "# config\n",
    "np.random.seed(0)\n",
    "n_samples = 100\n",
    "n_dim_obs = 10\n",
    "n_dim_lat = 2\n",
    "T = 8\n",
    "tau = 0.1\n",
    "alpha = 0.1\n",
    "\n",
    "dataset = datasets.make_dataset(\n",
    "        n_samples=n_samples, n_dim_lat=n_dim_lat, update_ell='fixed',\n",
    "        update_theta='l2', normalize_starting_matrices=True, n_dim_obs=n_dim_obs, T=T)"
   ]
  },
  {
   "cell_type": "markdown",
   "metadata": {},
   "source": [
    "## 1. Single timestamp\n",
    "Check if, with only one timestamp, the method behave the same as Chandrasekaran/Ma."
   ]
  },
  {
   "cell_type": "code",
   "execution_count": 6,
   "metadata": {},
   "outputs": [],
   "source": [
    "emp_cov = empirical_covariance(dataset.data[0], assume_centered=False)"
   ]
  },
  {
   "cell_type": "markdown",
   "metadata": {},
   "source": [
    "### 1.1 Do we behave as ourselves with the same functional as Ma?\n",
    "The following is the latent time graphical model inference with only one covariance matrix."
   ]
  },
  {
   "cell_type": "code",
   "execution_count": 7,
   "metadata": {
    "scrolled": true
   },
   "outputs": [],
   "source": [
    "results_time = latent_time_graphical_lasso_.latent_time_graphical_lasso(\n",
    "    emp_cov[None, ...], alpha=alpha, tau=tau,\n",
    "    tol=1e-5, rtol=1e-5, rho=1./ emp_cov.shape[0],\n",
    "    verbose=0, max_iter=500)"
   ]
  },
  {
   "cell_type": "markdown",
   "metadata": {},
   "source": [
    "We compare it with the code for the latent graphical model inference (without time). <br>\n",
    "Since there is only one covariance matrix, we expect to obtain the same results."
   ]
  },
  {
   "cell_type": "code",
   "execution_count": 8,
   "metadata": {
    "scrolled": true
   },
   "outputs": [],
   "source": [
    "results_static = latent_graphical_lasso_.latent_graphical_lasso(\n",
    "    emp_cov, alpha=alpha, tau=tau, \n",
    "    tol=1e-5, rtol=1e-5, rho=1. / emp_cov.shape[0],\n",
    "    verbose=0, max_iter=500)"
   ]
  },
  {
   "cell_type": "code",
   "execution_count": 9,
   "metadata": {},
   "outputs": [],
   "source": [
    "assert np.all([np.allclose(x, y) for x, y in zip(results_static, results_time)])\n",
    "assert np.linalg.matrix_rank(results_static[1]) == np.linalg.matrix_rank(results_time[1][0])"
   ]
  },
  {
   "cell_type": "markdown",
   "metadata": {},
   "source": [
    "### Optional (requires Matlab/Octave installed)\n",
    "Now we check if the result is the same as the LVGLASSO Matlab algorithm. To do that, we implemented a simple wrapper which rely on `matlab.engine` or `oct2py`, to run Matlab code directly from Python. For `matlab.engine`, It requires Matlab 2016 or higher installed."
   ]
  },
  {
   "cell_type": "code",
   "execution_count": 10,
   "metadata": {},
   "outputs": [],
   "source": [
    "from regain.wrapper import lvglasso\n",
    "from sklearn.datasets.base import Bunch\n",
    "\n",
    "result = lvglasso(emp_cov, alpha, tau, 1. / emp_cov.shape[0])\n",
    "ma_output = Bunch(**result)\n",
    "\n",
    "assert np.all([np.allclose(x, y, atol=1e-3) for x, y in zip(results_static[:2], (ma_output.S, ma_output.L))])\n",
    "assert np.linalg.matrix_rank(ma_output.L) == np.linalg.matrix_rank(results_time[1][0])"
   ]
  },
  {
   "cell_type": "markdown",
   "metadata": {},
   "source": [
    "## 2. Time-varying vs separate for each time\n",
    "This is to justify the choice of the additional penalties which constrain subsequent matrices in time to behave similarly."
   ]
  },
  {
   "cell_type": "code",
   "execution_count": 11,
   "metadata": {},
   "outputs": [],
   "source": [
    "# config\n",
    "n_samples = 100\n",
    "n_dim_obs = 10\n",
    "n_dim_lat = 2\n",
    "T = 8\n",
    "\n",
    "np.random.seed(0)\n",
    "\n",
    "dataset = datasets.make_dataset(\n",
    "        n_samples=n_samples, n_dim_lat=n_dim_lat, update_ell='fixed',\n",
    "        update_theta='l2', normalize_starting_matrices=True, n_dim_obs=n_dim_obs, T=T)\n",
    "\n",
    "X, y = dataset.X, dataset.y"
   ]
  },
  {
   "cell_type": "markdown",
   "metadata": {},
   "source": [
    "First, we check again if the results are the same with beta and eta is 0."
   ]
  },
  {
   "cell_type": "code",
   "execution_count": 12,
   "metadata": {},
   "outputs": [],
   "source": [
    "emp_cov = np.array([empirical_covariance(data, assume_centered=False) for data in dataset.data])\n",
    "emp_list = np.array(emp_cov).transpose(1,2,0)"
   ]
  },
  {
   "cell_type": "code",
   "execution_count": 13,
   "metadata": {
    "scrolled": true
   },
   "outputs": [],
   "source": [
    "results_time = latent_time_graphical_lasso_.latent_time_graphical_lasso(\n",
    "    emp_cov, alpha=alpha, tau=tau, tol=1e-5, rtol=1e-5, rho=1./ emp_cov.shape[0],\n",
    "    beta=0, eta=0,\n",
    "    verbose=0, max_iter=500)\n",
    "\n",
    "results_static = [latent_graphical_lasso_.latent_graphical_lasso(\n",
    "    x, alpha=alpha, tau=tau, tol=1e-5, rtol=1e-5, rho=1. / emp_cov.shape[0],\n",
    "    verbose=0, max_iter=500) for x in emp_cov]"
   ]
  },
  {
   "cell_type": "code",
   "execution_count": 14,
   "metadata": {},
   "outputs": [],
   "source": [
    "assert np.all([np.allclose(results_static[i][0], results_time[0][i], atol=1e-2) for i in range(T)])\n",
    "assert np.all([np.linalg.matrix_rank(results_static[i][1]) == np.linalg.matrix_rank(results_time[1][i])\n",
    "        for i in range(T)])"
   ]
  },
  {
   "cell_type": "markdown",
   "metadata": {},
   "source": [
    "Again, optional: it requires Matlab or Octave installed."
   ]
  },
  {
   "cell_type": "code",
   "execution_count": 15,
   "metadata": {},
   "outputs": [],
   "source": [
    "result = lvglasso(emp_list, alpha, tau, rho=1. / emp_list[0].shape[0])\n",
    "ma_output = Bunch(**result)\n",
    "\n",
    "# note time is the last dim, as emp_list\n",
    "ma_output.R = np.array(ma_output.R.T)\n",
    "ma_output.S = np.array(ma_output.S.T)\n",
    "ma_output.L = np.array(ma_output.L.T)\n",
    "\n",
    "assert np.allclose(results_time[0], ma_output.R + ma_output.L, atol=1e-2)"
   ]
  },
  {
   "cell_type": "code",
   "execution_count": 16,
   "metadata": {},
   "outputs": [
    {
     "data": {
      "text/plain": [
       "3.296306545535881e-05"
      ]
     },
     "execution_count": 16,
     "metadata": {},
     "output_type": "execute_result"
    }
   ],
   "source": [
    "np.mean(results_time[0] - (ma_output.R + ma_output.L))"
   ]
  },
  {
   "cell_type": "code",
   "execution_count": 17,
   "metadata": {},
   "outputs": [],
   "source": [
    "L = np.array(ma_output.L)\n",
    "LL = results_time[1]\n",
    "\n",
    "ranks_ma = [np.linalg.matrix_rank(l)for l in L]\n",
    "ranks_ours = [np.linalg.matrix_rank(l)for l in LL]\n",
    "assert np.all([np.linalg.matrix_rank(l) == np.linalg.matrix_rank(ll) for l, ll in zip(L, LL)])"
   ]
  },
  {
   "cell_type": "markdown",
   "metadata": {},
   "source": [
    "# Penalty contribution\n",
    "\n",
    "We now checked that in the limit case of one time and in the case in which we do not consider the penalties that involve time we perform equivalentely. Now, with CV on the parameters on synhtetic data generated with norm2 we want to see if our method performs better than LVGLASSO applied on different time stamps. "
   ]
  },
  {
   "cell_type": "code",
   "execution_count": 18,
   "metadata": {
    "scrolled": true
   },
   "outputs": [
    {
     "name": "stderr",
     "output_type": "stream",
     "text": [
      "/Users/federicot/src/fdtomasi/regain/regain/covariance/latent_time_graphical_lasso_.py:252: UserWarning: Objective did not converge.\n",
      "  warnings.warn(\"Objective did not converge.\")\n",
      "/Users/federicot/src/fdtomasi/regain/regain/covariance/latent_time_graphical_lasso_.py:252: UserWarning: Objective did not converge.\n",
      "  warnings.warn(\"Objective did not converge.\")\n",
      "/Users/federicot/src/fdtomasi/regain/regain/covariance/latent_time_graphical_lasso_.py:252: UserWarning: Objective did not converge.\n",
      "  warnings.warn(\"Objective did not converge.\")\n",
      "/Users/federicot/src/fdtomasi/regain/regain/covariance/latent_time_graphical_lasso_.py:252: UserWarning: Objective did not converge.\n",
      "  warnings.warn(\"Objective did not converge.\")\n",
      "/Users/federicot/src/fdtomasi/regain/regain/covariance/latent_time_graphical_lasso_.py:252: UserWarning: Objective did not converge.\n",
      "  warnings.warn(\"Objective did not converge.\")\n",
      "/Users/federicot/src/fdtomasi/regain/regain/covariance/latent_time_graphical_lasso_.py:252: UserWarning: Objective did not converge.\n",
      "  warnings.warn(\"Objective did not converge.\")\n",
      "/Users/federicot/src/fdtomasi/regain/regain/covariance/latent_time_graphical_lasso_.py:252: UserWarning: Objective did not converge.\n",
      "  warnings.warn(\"Objective did not converge.\")\n",
      "/Users/federicot/src/fdtomasi/regain/regain/covariance/latent_time_graphical_lasso_.py:252: UserWarning: Objective did not converge.\n",
      "  warnings.warn(\"Objective did not converge.\")\n",
      "/Users/federicot/src/fdtomasi/regain/regain/covariance/latent_time_graphical_lasso_.py:252: UserWarning: Objective did not converge.\n",
      "  warnings.warn(\"Objective did not converge.\")\n",
      "/Users/federicot/src/fdtomasi/regain/regain/covariance/latent_time_graphical_lasso_.py:252: UserWarning: Objective did not converge.\n",
      "  warnings.warn(\"Objective did not converge.\")\n",
      "/Users/federicot/src/fdtomasi/regain/regain/covariance/latent_time_graphical_lasso_.py:252: UserWarning: Objective did not converge.\n",
      "  warnings.warn(\"Objective did not converge.\")\n",
      "/Users/federicot/src/fdtomasi/regain/regain/covariance/latent_time_graphical_lasso_.py:252: UserWarning: Objective did not converge.\n",
      "  warnings.warn(\"Objective did not converge.\")\n",
      "/Users/federicot/src/fdtomasi/regain/regain/covariance/latent_time_graphical_lasso_.py:252: UserWarning: Objective did not converge.\n",
      "  warnings.warn(\"Objective did not converge.\")\n",
      "/Users/federicot/src/fdtomasi/regain/regain/covariance/latent_time_graphical_lasso_.py:252: UserWarning: Objective did not converge.\n",
      "  warnings.warn(\"Objective did not converge.\")\n",
      "/Users/federicot/src/fdtomasi/regain/regain/covariance/latent_time_graphical_lasso_.py:252: UserWarning: Objective did not converge.\n",
      "  warnings.warn(\"Objective did not converge.\")\n",
      "/Users/federicot/src/fdtomasi/regain/regain/covariance/latent_time_graphical_lasso_.py:252: UserWarning: Objective did not converge.\n",
      "  warnings.warn(\"Objective did not converge.\")\n",
      "/Users/federicot/src/fdtomasi/regain/regain/covariance/latent_time_graphical_lasso_.py:252: UserWarning: Objective did not converge.\n",
      "  warnings.warn(\"Objective did not converge.\")\n",
      "/Users/federicot/src/fdtomasi/regain/regain/covariance/latent_time_graphical_lasso_.py:252: UserWarning: Objective did not converge.\n",
      "  warnings.warn(\"Objective did not converge.\")\n",
      "/Users/federicot/src/fdtomasi/regain/regain/covariance/latent_time_graphical_lasso_.py:252: UserWarning: Objective did not converge.\n",
      "  warnings.warn(\"Objective did not converge.\")\n",
      "/Users/federicot/src/fdtomasi/regain/regain/covariance/latent_time_graphical_lasso_.py:252: UserWarning: Objective did not converge.\n",
      "  warnings.warn(\"Objective did not converge.\")\n",
      "/Users/federicot/src/fdtomasi/regain/regain/covariance/latent_time_graphical_lasso_.py:252: UserWarning: Objective did not converge.\n",
      "  warnings.warn(\"Objective did not converge.\")\n",
      "/Users/federicot/src/fdtomasi/regain/regain/covariance/latent_time_graphical_lasso_.py:252: UserWarning: Objective did not converge.\n",
      "  warnings.warn(\"Objective did not converge.\")\n"
     ]
    },
    {
     "ename": "KeyboardInterrupt",
     "evalue": "",
     "output_type": "error",
     "traceback": [
      "\u001b[0;31m---------------------------------------------------------------------------\u001b[0m",
      "\u001b[0;31mKeyboardInterrupt\u001b[0m                         Traceback (most recent call last)",
      "\u001b[0;32m<ipython-input-18-dd29c5575a6d>\u001b[0m in \u001b[0;36m<module>\u001b[0;34m\u001b[0m\n\u001b[1;32m      6\u001b[0m     \u001b[0mLatentTimeGraphicalLasso\u001b[0m\u001b[0;34m(\u001b[0m\u001b[0;34m)\u001b[0m\u001b[0;34m,\u001b[0m\u001b[0;34m\u001b[0m\u001b[0;34m\u001b[0m\u001b[0m\n\u001b[1;32m      7\u001b[0m     \u001b[0mdict\u001b[0m\u001b[0;34m(\u001b[0m\u001b[0mtau\u001b[0m\u001b[0;34m=\u001b[0m\u001b[0mnp\u001b[0m\u001b[0;34m.\u001b[0m\u001b[0mlogspace\u001b[0m\u001b[0;34m(\u001b[0m\u001b[0;34m-\u001b[0m\u001b[0;36m2\u001b[0m\u001b[0;34m,\u001b[0m\u001b[0mnp\u001b[0m\u001b[0;34m.\u001b[0m\u001b[0mlog\u001b[0m\u001b[0;34m(\u001b[0m\u001b[0;36m.5\u001b[0m\u001b[0;34m)\u001b[0m\u001b[0;34m,\u001b[0m\u001b[0;36m10\u001b[0m\u001b[0;34m)\u001b[0m\u001b[0;34m,\u001b[0m \u001b[0malpha\u001b[0m\u001b[0;34m=\u001b[0m\u001b[0mnp\u001b[0m\u001b[0;34m.\u001b[0m\u001b[0mlogspace\u001b[0m\u001b[0;34m(\u001b[0m\u001b[0;34m-\u001b[0m\u001b[0;36m2\u001b[0m\u001b[0;34m,\u001b[0m\u001b[0mnp\u001b[0m\u001b[0;34m.\u001b[0m\u001b[0mlog\u001b[0m\u001b[0;34m(\u001b[0m\u001b[0;36m.5\u001b[0m\u001b[0;34m)\u001b[0m\u001b[0;34m,\u001b[0m\u001b[0;36m10\u001b[0m\u001b[0;34m)\u001b[0m\u001b[0;34m)\u001b[0m\u001b[0;34m,\u001b[0m\u001b[0;34m\u001b[0m\u001b[0;34m\u001b[0m\u001b[0m\n\u001b[0;32m----> 8\u001b[0;31m     cv=StratifiedShuffleSplit(10), return_train_score=True).fit(X, y)\n\u001b[0m",
      "\u001b[0;32m~/miniconda3/lib/python3.7/site-packages/sklearn/model_selection/_search.py\u001b[0m in \u001b[0;36mfit\u001b[0;34m(self, X, y, groups, **fit_params)\u001b[0m\n\u001b[1;32m    685\u001b[0m                 \u001b[0;32mreturn\u001b[0m \u001b[0mresults\u001b[0m\u001b[0;34m\u001b[0m\u001b[0;34m\u001b[0m\u001b[0m\n\u001b[1;32m    686\u001b[0m \u001b[0;34m\u001b[0m\u001b[0m\n\u001b[0;32m--> 687\u001b[0;31m             \u001b[0mself\u001b[0m\u001b[0;34m.\u001b[0m\u001b[0m_run_search\u001b[0m\u001b[0;34m(\u001b[0m\u001b[0mevaluate_candidates\u001b[0m\u001b[0;34m)\u001b[0m\u001b[0;34m\u001b[0m\u001b[0;34m\u001b[0m\u001b[0m\n\u001b[0m\u001b[1;32m    688\u001b[0m \u001b[0;34m\u001b[0m\u001b[0m\n\u001b[1;32m    689\u001b[0m         \u001b[0;31m# For multi-metric evaluation, store the best_index_, best_params_ and\u001b[0m\u001b[0;34m\u001b[0m\u001b[0;34m\u001b[0m\u001b[0;34m\u001b[0m\u001b[0m\n",
      "\u001b[0;32m~/miniconda3/lib/python3.7/site-packages/sklearn/model_selection/_search.py\u001b[0m in \u001b[0;36m_run_search\u001b[0;34m(self, evaluate_candidates)\u001b[0m\n\u001b[1;32m   1146\u001b[0m     \u001b[0;32mdef\u001b[0m \u001b[0m_run_search\u001b[0m\u001b[0;34m(\u001b[0m\u001b[0mself\u001b[0m\u001b[0;34m,\u001b[0m \u001b[0mevaluate_candidates\u001b[0m\u001b[0;34m)\u001b[0m\u001b[0;34m:\u001b[0m\u001b[0;34m\u001b[0m\u001b[0;34m\u001b[0m\u001b[0m\n\u001b[1;32m   1147\u001b[0m         \u001b[0;34m\"\"\"Search all candidates in param_grid\"\"\"\u001b[0m\u001b[0;34m\u001b[0m\u001b[0;34m\u001b[0m\u001b[0m\n\u001b[0;32m-> 1148\u001b[0;31m         \u001b[0mevaluate_candidates\u001b[0m\u001b[0;34m(\u001b[0m\u001b[0mParameterGrid\u001b[0m\u001b[0;34m(\u001b[0m\u001b[0mself\u001b[0m\u001b[0;34m.\u001b[0m\u001b[0mparam_grid\u001b[0m\u001b[0;34m)\u001b[0m\u001b[0;34m)\u001b[0m\u001b[0;34m\u001b[0m\u001b[0;34m\u001b[0m\u001b[0m\n\u001b[0m\u001b[1;32m   1149\u001b[0m \u001b[0;34m\u001b[0m\u001b[0m\n\u001b[1;32m   1150\u001b[0m \u001b[0;34m\u001b[0m\u001b[0m\n",
      "\u001b[0;32m~/miniconda3/lib/python3.7/site-packages/sklearn/model_selection/_search.py\u001b[0m in \u001b[0;36mevaluate_candidates\u001b[0;34m(candidate_params)\u001b[0m\n\u001b[1;32m    664\u001b[0m                                \u001b[0;32mfor\u001b[0m \u001b[0mparameters\u001b[0m\u001b[0;34m,\u001b[0m \u001b[0;34m(\u001b[0m\u001b[0mtrain\u001b[0m\u001b[0;34m,\u001b[0m \u001b[0mtest\u001b[0m\u001b[0;34m)\u001b[0m\u001b[0;34m\u001b[0m\u001b[0;34m\u001b[0m\u001b[0m\n\u001b[1;32m    665\u001b[0m                                in product(candidate_params,\n\u001b[0;32m--> 666\u001b[0;31m                                           cv.split(X, y, groups)))\n\u001b[0m\u001b[1;32m    667\u001b[0m \u001b[0;34m\u001b[0m\u001b[0m\n\u001b[1;32m    668\u001b[0m                 \u001b[0;32mif\u001b[0m \u001b[0mlen\u001b[0m\u001b[0;34m(\u001b[0m\u001b[0mout\u001b[0m\u001b[0;34m)\u001b[0m \u001b[0;34m<\u001b[0m \u001b[0;36m1\u001b[0m\u001b[0;34m:\u001b[0m\u001b[0;34m\u001b[0m\u001b[0;34m\u001b[0m\u001b[0m\n",
      "\u001b[0;32m~/miniconda3/lib/python3.7/site-packages/joblib/parallel.py\u001b[0m in \u001b[0;36m__call__\u001b[0;34m(self, iterable)\u001b[0m\n\u001b[1;32m    922\u001b[0m                 \u001b[0mself\u001b[0m\u001b[0;34m.\u001b[0m\u001b[0m_iterating\u001b[0m \u001b[0;34m=\u001b[0m \u001b[0mself\u001b[0m\u001b[0;34m.\u001b[0m\u001b[0m_original_iterator\u001b[0m \u001b[0;32mis\u001b[0m \u001b[0;32mnot\u001b[0m \u001b[0;32mNone\u001b[0m\u001b[0;34m\u001b[0m\u001b[0;34m\u001b[0m\u001b[0m\n\u001b[1;32m    923\u001b[0m \u001b[0;34m\u001b[0m\u001b[0m\n\u001b[0;32m--> 924\u001b[0;31m             \u001b[0;32mwhile\u001b[0m \u001b[0mself\u001b[0m\u001b[0;34m.\u001b[0m\u001b[0mdispatch_one_batch\u001b[0m\u001b[0;34m(\u001b[0m\u001b[0miterator\u001b[0m\u001b[0;34m)\u001b[0m\u001b[0;34m:\u001b[0m\u001b[0;34m\u001b[0m\u001b[0;34m\u001b[0m\u001b[0m\n\u001b[0m\u001b[1;32m    925\u001b[0m                 \u001b[0;32mpass\u001b[0m\u001b[0;34m\u001b[0m\u001b[0;34m\u001b[0m\u001b[0m\n\u001b[1;32m    926\u001b[0m \u001b[0;34m\u001b[0m\u001b[0m\n",
      "\u001b[0;32m~/miniconda3/lib/python3.7/site-packages/joblib/parallel.py\u001b[0m in \u001b[0;36mdispatch_one_batch\u001b[0;34m(self, iterator)\u001b[0m\n\u001b[1;32m    757\u001b[0m                 \u001b[0;32mreturn\u001b[0m \u001b[0;32mFalse\u001b[0m\u001b[0;34m\u001b[0m\u001b[0;34m\u001b[0m\u001b[0m\n\u001b[1;32m    758\u001b[0m             \u001b[0;32melse\u001b[0m\u001b[0;34m:\u001b[0m\u001b[0;34m\u001b[0m\u001b[0;34m\u001b[0m\u001b[0m\n\u001b[0;32m--> 759\u001b[0;31m                 \u001b[0mself\u001b[0m\u001b[0;34m.\u001b[0m\u001b[0m_dispatch\u001b[0m\u001b[0;34m(\u001b[0m\u001b[0mtasks\u001b[0m\u001b[0;34m)\u001b[0m\u001b[0;34m\u001b[0m\u001b[0;34m\u001b[0m\u001b[0m\n\u001b[0m\u001b[1;32m    760\u001b[0m                 \u001b[0;32mreturn\u001b[0m \u001b[0;32mTrue\u001b[0m\u001b[0;34m\u001b[0m\u001b[0;34m\u001b[0m\u001b[0m\n\u001b[1;32m    761\u001b[0m \u001b[0;34m\u001b[0m\u001b[0m\n",
      "\u001b[0;32m~/miniconda3/lib/python3.7/site-packages/joblib/parallel.py\u001b[0m in \u001b[0;36m_dispatch\u001b[0;34m(self, batch)\u001b[0m\n\u001b[1;32m    714\u001b[0m         \u001b[0;32mwith\u001b[0m \u001b[0mself\u001b[0m\u001b[0;34m.\u001b[0m\u001b[0m_lock\u001b[0m\u001b[0;34m:\u001b[0m\u001b[0;34m\u001b[0m\u001b[0;34m\u001b[0m\u001b[0m\n\u001b[1;32m    715\u001b[0m             \u001b[0mjob_idx\u001b[0m \u001b[0;34m=\u001b[0m \u001b[0mlen\u001b[0m\u001b[0;34m(\u001b[0m\u001b[0mself\u001b[0m\u001b[0;34m.\u001b[0m\u001b[0m_jobs\u001b[0m\u001b[0;34m)\u001b[0m\u001b[0;34m\u001b[0m\u001b[0;34m\u001b[0m\u001b[0m\n\u001b[0;32m--> 716\u001b[0;31m             \u001b[0mjob\u001b[0m \u001b[0;34m=\u001b[0m \u001b[0mself\u001b[0m\u001b[0;34m.\u001b[0m\u001b[0m_backend\u001b[0m\u001b[0;34m.\u001b[0m\u001b[0mapply_async\u001b[0m\u001b[0;34m(\u001b[0m\u001b[0mbatch\u001b[0m\u001b[0;34m,\u001b[0m \u001b[0mcallback\u001b[0m\u001b[0;34m=\u001b[0m\u001b[0mcb\u001b[0m\u001b[0;34m)\u001b[0m\u001b[0;34m\u001b[0m\u001b[0;34m\u001b[0m\u001b[0m\n\u001b[0m\u001b[1;32m    717\u001b[0m             \u001b[0;31m# A job can complete so quickly than its callback is\u001b[0m\u001b[0;34m\u001b[0m\u001b[0;34m\u001b[0m\u001b[0;34m\u001b[0m\u001b[0m\n\u001b[1;32m    718\u001b[0m             \u001b[0;31m# called before we get here, causing self._jobs to\u001b[0m\u001b[0;34m\u001b[0m\u001b[0;34m\u001b[0m\u001b[0;34m\u001b[0m\u001b[0m\n",
      "\u001b[0;32m~/miniconda3/lib/python3.7/site-packages/joblib/_parallel_backends.py\u001b[0m in \u001b[0;36mapply_async\u001b[0;34m(self, func, callback)\u001b[0m\n\u001b[1;32m    180\u001b[0m     \u001b[0;32mdef\u001b[0m \u001b[0mapply_async\u001b[0m\u001b[0;34m(\u001b[0m\u001b[0mself\u001b[0m\u001b[0;34m,\u001b[0m \u001b[0mfunc\u001b[0m\u001b[0;34m,\u001b[0m \u001b[0mcallback\u001b[0m\u001b[0;34m=\u001b[0m\u001b[0;32mNone\u001b[0m\u001b[0;34m)\u001b[0m\u001b[0;34m:\u001b[0m\u001b[0;34m\u001b[0m\u001b[0;34m\u001b[0m\u001b[0m\n\u001b[1;32m    181\u001b[0m         \u001b[0;34m\"\"\"Schedule a func to be run\"\"\"\u001b[0m\u001b[0;34m\u001b[0m\u001b[0;34m\u001b[0m\u001b[0m\n\u001b[0;32m--> 182\u001b[0;31m         \u001b[0mresult\u001b[0m \u001b[0;34m=\u001b[0m \u001b[0mImmediateResult\u001b[0m\u001b[0;34m(\u001b[0m\u001b[0mfunc\u001b[0m\u001b[0;34m)\u001b[0m\u001b[0;34m\u001b[0m\u001b[0;34m\u001b[0m\u001b[0m\n\u001b[0m\u001b[1;32m    183\u001b[0m         \u001b[0;32mif\u001b[0m \u001b[0mcallback\u001b[0m\u001b[0;34m:\u001b[0m\u001b[0;34m\u001b[0m\u001b[0;34m\u001b[0m\u001b[0m\n\u001b[1;32m    184\u001b[0m             \u001b[0mcallback\u001b[0m\u001b[0;34m(\u001b[0m\u001b[0mresult\u001b[0m\u001b[0;34m)\u001b[0m\u001b[0;34m\u001b[0m\u001b[0;34m\u001b[0m\u001b[0m\n",
      "\u001b[0;32m~/miniconda3/lib/python3.7/site-packages/joblib/_parallel_backends.py\u001b[0m in \u001b[0;36m__init__\u001b[0;34m(self, batch)\u001b[0m\n\u001b[1;32m    547\u001b[0m         \u001b[0;31m# Don't delay the application, to avoid keeping the input\u001b[0m\u001b[0;34m\u001b[0m\u001b[0;34m\u001b[0m\u001b[0;34m\u001b[0m\u001b[0m\n\u001b[1;32m    548\u001b[0m         \u001b[0;31m# arguments in memory\u001b[0m\u001b[0;34m\u001b[0m\u001b[0;34m\u001b[0m\u001b[0;34m\u001b[0m\u001b[0m\n\u001b[0;32m--> 549\u001b[0;31m         \u001b[0mself\u001b[0m\u001b[0;34m.\u001b[0m\u001b[0mresults\u001b[0m \u001b[0;34m=\u001b[0m \u001b[0mbatch\u001b[0m\u001b[0;34m(\u001b[0m\u001b[0;34m)\u001b[0m\u001b[0;34m\u001b[0m\u001b[0;34m\u001b[0m\u001b[0m\n\u001b[0m\u001b[1;32m    550\u001b[0m \u001b[0;34m\u001b[0m\u001b[0m\n\u001b[1;32m    551\u001b[0m     \u001b[0;32mdef\u001b[0m \u001b[0mget\u001b[0m\u001b[0;34m(\u001b[0m\u001b[0mself\u001b[0m\u001b[0;34m)\u001b[0m\u001b[0;34m:\u001b[0m\u001b[0;34m\u001b[0m\u001b[0;34m\u001b[0m\u001b[0m\n",
      "\u001b[0;32m~/miniconda3/lib/python3.7/site-packages/joblib/parallel.py\u001b[0m in \u001b[0;36m__call__\u001b[0;34m(self)\u001b[0m\n\u001b[1;32m    223\u001b[0m         \u001b[0;32mwith\u001b[0m \u001b[0mparallel_backend\u001b[0m\u001b[0;34m(\u001b[0m\u001b[0mself\u001b[0m\u001b[0;34m.\u001b[0m\u001b[0m_backend\u001b[0m\u001b[0;34m,\u001b[0m \u001b[0mn_jobs\u001b[0m\u001b[0;34m=\u001b[0m\u001b[0mself\u001b[0m\u001b[0;34m.\u001b[0m\u001b[0m_n_jobs\u001b[0m\u001b[0;34m)\u001b[0m\u001b[0;34m:\u001b[0m\u001b[0;34m\u001b[0m\u001b[0;34m\u001b[0m\u001b[0m\n\u001b[1;32m    224\u001b[0m             return [func(*args, **kwargs)\n\u001b[0;32m--> 225\u001b[0;31m                     for func, args, kwargs in self.items]\n\u001b[0m\u001b[1;32m    226\u001b[0m \u001b[0;34m\u001b[0m\u001b[0m\n\u001b[1;32m    227\u001b[0m     \u001b[0;32mdef\u001b[0m \u001b[0m__len__\u001b[0m\u001b[0;34m(\u001b[0m\u001b[0mself\u001b[0m\u001b[0;34m)\u001b[0m\u001b[0;34m:\u001b[0m\u001b[0;34m\u001b[0m\u001b[0;34m\u001b[0m\u001b[0m\n",
      "\u001b[0;32m~/miniconda3/lib/python3.7/site-packages/joblib/parallel.py\u001b[0m in \u001b[0;36m<listcomp>\u001b[0;34m(.0)\u001b[0m\n\u001b[1;32m    223\u001b[0m         \u001b[0;32mwith\u001b[0m \u001b[0mparallel_backend\u001b[0m\u001b[0;34m(\u001b[0m\u001b[0mself\u001b[0m\u001b[0;34m.\u001b[0m\u001b[0m_backend\u001b[0m\u001b[0;34m,\u001b[0m \u001b[0mn_jobs\u001b[0m\u001b[0;34m=\u001b[0m\u001b[0mself\u001b[0m\u001b[0;34m.\u001b[0m\u001b[0m_n_jobs\u001b[0m\u001b[0;34m)\u001b[0m\u001b[0;34m:\u001b[0m\u001b[0;34m\u001b[0m\u001b[0;34m\u001b[0m\u001b[0m\n\u001b[1;32m    224\u001b[0m             return [func(*args, **kwargs)\n\u001b[0;32m--> 225\u001b[0;31m                     for func, args, kwargs in self.items]\n\u001b[0m\u001b[1;32m    226\u001b[0m \u001b[0;34m\u001b[0m\u001b[0m\n\u001b[1;32m    227\u001b[0m     \u001b[0;32mdef\u001b[0m \u001b[0m__len__\u001b[0m\u001b[0;34m(\u001b[0m\u001b[0mself\u001b[0m\u001b[0;34m)\u001b[0m\u001b[0;34m:\u001b[0m\u001b[0;34m\u001b[0m\u001b[0;34m\u001b[0m\u001b[0m\n",
      "\u001b[0;32m~/miniconda3/lib/python3.7/site-packages/sklearn/model_selection/_validation.py\u001b[0m in \u001b[0;36m_fit_and_score\u001b[0;34m(estimator, X, y, scorer, train, test, verbose, parameters, fit_params, return_train_score, return_parameters, return_n_test_samples, return_times, return_estimator, error_score)\u001b[0m\n\u001b[1;32m    512\u001b[0m             \u001b[0mestimator\u001b[0m\u001b[0;34m.\u001b[0m\u001b[0mfit\u001b[0m\u001b[0;34m(\u001b[0m\u001b[0mX_train\u001b[0m\u001b[0;34m,\u001b[0m \u001b[0;34m**\u001b[0m\u001b[0mfit_params\u001b[0m\u001b[0;34m)\u001b[0m\u001b[0;34m\u001b[0m\u001b[0;34m\u001b[0m\u001b[0m\n\u001b[1;32m    513\u001b[0m         \u001b[0;32melse\u001b[0m\u001b[0;34m:\u001b[0m\u001b[0;34m\u001b[0m\u001b[0;34m\u001b[0m\u001b[0m\n\u001b[0;32m--> 514\u001b[0;31m             \u001b[0mestimator\u001b[0m\u001b[0;34m.\u001b[0m\u001b[0mfit\u001b[0m\u001b[0;34m(\u001b[0m\u001b[0mX_train\u001b[0m\u001b[0;34m,\u001b[0m \u001b[0my_train\u001b[0m\u001b[0;34m,\u001b[0m \u001b[0;34m**\u001b[0m\u001b[0mfit_params\u001b[0m\u001b[0;34m)\u001b[0m\u001b[0;34m\u001b[0m\u001b[0;34m\u001b[0m\u001b[0m\n\u001b[0m\u001b[1;32m    515\u001b[0m \u001b[0;34m\u001b[0m\u001b[0m\n\u001b[1;32m    516\u001b[0m     \u001b[0;32mexcept\u001b[0m \u001b[0mException\u001b[0m \u001b[0;32mas\u001b[0m \u001b[0me\u001b[0m\u001b[0;34m:\u001b[0m\u001b[0;34m\u001b[0m\u001b[0;34m\u001b[0m\u001b[0m\n",
      "\u001b[0;32m~/src/fdtomasi/regain/regain/covariance/time_graphical_lasso_.py\u001b[0m in \u001b[0;36mfit\u001b[0;34m(self, X, y)\u001b[0m\n\u001b[1;32m    421\u001b[0m             ])\n\u001b[1;32m    422\u001b[0m \u001b[0;34m\u001b[0m\u001b[0m\n\u001b[0;32m--> 423\u001b[0;31m         \u001b[0;32mreturn\u001b[0m \u001b[0mself\u001b[0m\u001b[0;34m.\u001b[0m\u001b[0m_fit\u001b[0m\u001b[0;34m(\u001b[0m\u001b[0memp_cov\u001b[0m\u001b[0;34m,\u001b[0m \u001b[0mn_samples\u001b[0m\u001b[0;34m)\u001b[0m\u001b[0;34m\u001b[0m\u001b[0;34m\u001b[0m\u001b[0m\n\u001b[0m\u001b[1;32m    424\u001b[0m \u001b[0;34m\u001b[0m\u001b[0m\n\u001b[1;32m    425\u001b[0m     \u001b[0;32mdef\u001b[0m \u001b[0mscore\u001b[0m\u001b[0;34m(\u001b[0m\u001b[0mself\u001b[0m\u001b[0;34m,\u001b[0m \u001b[0mX\u001b[0m\u001b[0;34m,\u001b[0m \u001b[0my\u001b[0m\u001b[0;34m)\u001b[0m\u001b[0;34m:\u001b[0m\u001b[0;34m\u001b[0m\u001b[0;34m\u001b[0m\u001b[0m\n",
      "\u001b[0;32m~/src/fdtomasi/regain/regain/covariance/latent_time_graphical_lasso_.py\u001b[0m in \u001b[0;36m_fit\u001b[0;34m(self, emp_cov, n_samples)\u001b[0m\n\u001b[1;32m    388\u001b[0m                 \u001b[0mreturn_n_iter\u001b[0m\u001b[0;34m=\u001b[0m\u001b[0;32mTrue\u001b[0m\u001b[0;34m,\u001b[0m \u001b[0mreturn_history\u001b[0m\u001b[0;34m=\u001b[0m\u001b[0;32mFalse\u001b[0m\u001b[0;34m,\u001b[0m\u001b[0;34m\u001b[0m\u001b[0;34m\u001b[0m\u001b[0m\n\u001b[1;32m    389\u001b[0m                 \u001b[0mupdate_rho_options\u001b[0m\u001b[0;34m=\u001b[0m\u001b[0mself\u001b[0m\u001b[0;34m.\u001b[0m\u001b[0mupdate_rho_options\u001b[0m\u001b[0;34m,\u001b[0m\u001b[0;34m\u001b[0m\u001b[0;34m\u001b[0m\u001b[0m\n\u001b[0;32m--> 390\u001b[0;31m                 compute_objective=self.compute_objective, init=self.init)\n\u001b[0m\u001b[1;32m    391\u001b[0m         \u001b[0;32mreturn\u001b[0m \u001b[0mself\u001b[0m\u001b[0;34m\u001b[0m\u001b[0;34m\u001b[0m\u001b[0m\n",
      "\u001b[0;32m~/src/fdtomasi/regain/regain/covariance/latent_time_graphical_lasso_.py\u001b[0m in \u001b[0;36mlatent_time_graphical_lasso\u001b[0;34m(emp_cov, alpha, tau, rho, beta, eta, max_iter, n_samples, verbose, psi, phi, mode, tol, rtol, return_history, return_n_iter, update_rho_options, compute_objective, init)\u001b[0m\n\u001b[1;32m    243\u001b[0m             **(update_rho_options or {}))\n\u001b[1;32m    244\u001b[0m         \u001b[0;31m# scaled dual variables should be also rescaled\u001b[0m\u001b[0;34m\u001b[0m\u001b[0;34m\u001b[0m\u001b[0;34m\u001b[0m\u001b[0m\n\u001b[0;32m--> 245\u001b[0;31m         \u001b[0mX_0\u001b[0m \u001b[0;34m*=\u001b[0m \u001b[0mrho\u001b[0m \u001b[0;34m/\u001b[0m \u001b[0mrho_new\u001b[0m\u001b[0;34m\u001b[0m\u001b[0;34m\u001b[0m\u001b[0m\n\u001b[0m\u001b[1;32m    246\u001b[0m         \u001b[0mX_1\u001b[0m \u001b[0;34m*=\u001b[0m \u001b[0mrho\u001b[0m \u001b[0;34m/\u001b[0m \u001b[0mrho_new\u001b[0m\u001b[0;34m\u001b[0m\u001b[0;34m\u001b[0m\u001b[0m\n\u001b[1;32m    247\u001b[0m         \u001b[0mX_2\u001b[0m \u001b[0;34m*=\u001b[0m \u001b[0mrho\u001b[0m \u001b[0;34m/\u001b[0m \u001b[0mrho_new\u001b[0m\u001b[0;34m\u001b[0m\u001b[0;34m\u001b[0m\u001b[0m\n",
      "\u001b[0;31mKeyboardInterrupt\u001b[0m: "
     ]
    }
   ],
   "source": [
    "from sklearn.model_selection import GridSearchCV, StratifiedShuffleSplit\n",
    "from regain import utils\n",
    "from regain.covariance import LatentTimeGraphicalLasso\n",
    "\n",
    "ltgl = GridSearchCV(\n",
    "    LatentTimeGraphicalLasso(),\n",
    "    dict(tau=np.logspace(-2,np.log(.5),10), alpha=np.logspace(-2,np.log(.5),10)),\n",
    "    cv=StratifiedShuffleSplit(10), return_train_score=True).fit(X, y)"
   ]
  },
  {
   "cell_type": "code",
   "execution_count": null,
   "metadata": {},
   "outputs": [],
   "source": [
    "emp_list = list(ltgl.best_estimator_.covariance_)\n",
    "alpha = ltgl.best_params_['alpha']\n",
    "tau = ltgl.best_params_['tau']"
   ]
  },
  {
   "cell_type": "code",
   "execution_count": null,
   "metadata": {},
   "outputs": [],
   "source": [
    "precs = []\n",
    "lats = []\n",
    "covss = []\n",
    "for data in dataset.data:\n",
    "    lgl = LatentGraphicalLasso(tau=tau, alpha=alpha, assume_centered=False).fit(X, y)\n",
    "    precs.append(lgl.precision_)\n",
    "    lats.append(lgl.latent_)\n",
    "    covss.append(lgl.covariance_)"
   ]
  },
  {
   "cell_type": "markdown",
   "metadata": {},
   "source": [
    "### Error obtained w.r.t. the observed data"
   ]
  },
  {
   "cell_type": "code",
   "execution_count": null,
   "metadata": {},
   "outputs": [],
   "source": [
    "from regain.utils import error_norm_time\n",
    "print(\"Error norm time with observed precision: \\n LTGL: {:.3f}\\n LVGLASSO: {:.3f}\".format(\n",
    "      error_norm_time(ltgl.best_estimator_.precision_ - ltgl.best_estimator_.latent_, dataset.thetas_observed),\n",
    "      error_norm_time(np.array(precs) - np.array(lats), dataset.thetas_observed)))"
   ]
  },
  {
   "cell_type": "markdown",
   "metadata": {},
   "source": [
    "### Error obtained w.r.t. the real data"
   ]
  },
  {
   "cell_type": "code",
   "execution_count": null,
   "metadata": {},
   "outputs": [],
   "source": [
    "print(\"Error norm time of LTGL: \\n Precision: {:.3f}\\n Latent: {:.3f}\\n\".format(\n",
    "      error_norm_time(ltgl.best_estimator_.precision_, dataset.thetas),\n",
    "      error_norm_time(ltgl.best_estimator_.latent_, dataset.ells)))\n",
    "\n",
    "print(\"Error norm time of LVGLASSO: \\n Precision: {:.3f}\\n Latent: {:.3f}\".format(\n",
    "      error_norm_time(np.array(precs), dataset.thetas),\n",
    "      error_norm_time(np.array(lats), dataset.ells)))"
   ]
  },
  {
   "cell_type": "markdown",
   "metadata": {},
   "source": [
    "### Error in ranks"
   ]
  },
  {
   "cell_type": "code",
   "execution_count": null,
   "metadata": {},
   "outputs": [],
   "source": [
    "# ltgl.best_estimator_.set_params(beta=1e12,eta=1e12).fit(data_grid)\n",
    "print(\"Rank latent matrices LTGL: {}\".format([np.linalg.matrix_rank(i) for i in ltgl.best_estimator_.latent_]))\n",
    "print(\"Rank latent matrices LVGLASSO: {}\".format([np.linalg.matrix_rank(i) for i in lats]))\n",
    "print(\"Rank true latent matrices: {}\".format(np.linalg.matrix_rank(dataset.ells)))"
   ]
  },
  {
   "cell_type": "markdown",
   "metadata": {},
   "source": [
    "### Error in structure"
   ]
  },
  {
   "cell_type": "code",
   "execution_count": null,
   "metadata": {},
   "outputs": [],
   "source": [
    "from regain.utils import structure_error\n",
    "\n",
    "print(\"f1 score LTGL: {:.2f}\".format(structure_error(\n",
    "    dataset.thetas, ltgl.best_estimator_.precision_, thresholding=1, eps=1e-2)['f1']))\n",
    "print(\"f1 score LVGLASSO: {:.2f}\".format(structure_error(\n",
    "    dataset.thetas, np.array(precs), thresholding=1, eps=1e-2)['f1']))"
   ]
  },
  {
   "cell_type": "markdown",
   "metadata": {},
   "source": [
    "# Scalability"
   ]
  },
  {
   "cell_type": "code",
   "execution_count": 19,
   "metadata": {},
   "outputs": [
    {
     "name": "stderr",
     "output_type": "stream",
     "text": [
      "  0%|          | 0/10 [00:00<?, ?it/s]"
     ]
    },
    {
     "name": "stdout",
     "output_type": "stream",
     "text": [
      "\n"
     ]
    },
    {
     "ename": "TypeError",
     "evalue": "type object argument after ** must be a mapping, not NoneType",
     "output_type": "error",
     "traceback": [
      "\u001b[0;31m---------------------------------------------------------------------------\u001b[0m",
      "\u001b[0;31mTypeError\u001b[0m                                 Traceback (most recent call last)",
      "\u001b[0;32m<ipython-input-19-146f25841b0a>\u001b[0m in \u001b[0;36m<module>\u001b[0;34m\u001b[0m\n\u001b[1;32m     36\u001b[0m         \u001b[0mtic\u001b[0m \u001b[0;34m=\u001b[0m \u001b[0mtime\u001b[0m\u001b[0;34m.\u001b[0m\u001b[0mtime\u001b[0m\u001b[0;34m(\u001b[0m\u001b[0;34m)\u001b[0m\u001b[0;34m\u001b[0m\u001b[0;34m\u001b[0m\u001b[0m\n\u001b[1;32m     37\u001b[0m         \u001b[0mresult\u001b[0m \u001b[0;34m=\u001b[0m \u001b[0mlvglasso\u001b[0m\u001b[0;34m(\u001b[0m\u001b[0mx\u001b[0m\u001b[0;34m,\u001b[0m \u001b[0malpha\u001b[0m\u001b[0;34m,\u001b[0m \u001b[0mtau\u001b[0m\u001b[0;34m,\u001b[0m \u001b[0;36m1.\u001b[0m \u001b[0;34m/\u001b[0m \u001b[0mx\u001b[0m\u001b[0;34m.\u001b[0m\u001b[0mshape\u001b[0m\u001b[0;34m[\u001b[0m\u001b[0;36m0\u001b[0m\u001b[0;34m]\u001b[0m\u001b[0;34m)\u001b[0m\u001b[0;34m\u001b[0m\u001b[0;34m\u001b[0m\u001b[0m\n\u001b[0;32m---> 38\u001b[0;31m         \u001b[0mma_output\u001b[0m \u001b[0;34m=\u001b[0m \u001b[0mBunch\u001b[0m\u001b[0;34m(\u001b[0m\u001b[0;34m**\u001b[0m\u001b[0mresult\u001b[0m\u001b[0;34m)\u001b[0m\u001b[0;34m\u001b[0m\u001b[0;34m\u001b[0m\u001b[0m\n\u001b[0m\u001b[1;32m     39\u001b[0m \u001b[0;34m\u001b[0m\u001b[0m\n\u001b[1;32m     40\u001b[0m         \u001b[0mma_output\u001b[0m\u001b[0;34m.\u001b[0m\u001b[0mR\u001b[0m \u001b[0;34m=\u001b[0m \u001b[0mnp\u001b[0m\u001b[0;34m.\u001b[0m\u001b[0marray\u001b[0m\u001b[0;34m(\u001b[0m\u001b[0mma_output\u001b[0m\u001b[0;34m.\u001b[0m\u001b[0mR\u001b[0m\u001b[0;34m)\u001b[0m\u001b[0;34m\u001b[0m\u001b[0;34m\u001b[0m\u001b[0m\n",
      "\u001b[0;31mTypeError\u001b[0m: type object argument after ** must be a mapping, not NoneType"
     ]
    }
   ],
   "source": [
    "from tqdm import tqdm\n",
    "\n",
    "n_samples = 100\n",
    "# n_dim_obs = 10\n",
    "n_dim_lat = 2\n",
    "T = 10\n",
    "np.random.seed(0)\n",
    "import time\n",
    "results = {}\n",
    "    \n",
    "for n_dim_obs in tqdm(np.logspace(3, 6, 10)):\n",
    "    dataset = datasets.make_dataset(\n",
    "        n_samples=n_samples, n_dim_lat=n_dim_lat, update_ell='fixed',\n",
    "        update_theta='l2', normalize_starting_matrices=True, n_dim_obs=n_dim_obs, T=T)\n",
    "\n",
    "    X, y = dataset.X, dataset.y\n",
    "\n",
    "    emp_cov = np.array([empirical_covariance(data, assume_centered=False) for data in dataset.data])\n",
    "    emp_list = np.array(emp_cov).transpose(1,2,0)\n",
    "\n",
    "    res, elapsed_time = [], []\n",
    "    for x in emp_cov:\n",
    "        tic = time.time()\n",
    "        results_static = latent_graphical_lasso_.latent_graphical_lasso(\n",
    "            x, alpha=alpha, tau=tau, tol=1e-5, rtol=1e-5, rho=1. / emp_cov.shape[0],\n",
    "        verbose=0, max_iter=500)\n",
    "        tac = time.time() - tic\n",
    "        \n",
    "        res.append(results_static)\n",
    "        elapsed_time.append(tac)\n",
    "        \n",
    "    results[('lgl', n_dim_obs)] = dict(res=res, elapsed_time=elapsed_time)\n",
    "    \n",
    "    res, elapsed_time = [], []\n",
    "    for x in emp_cov:\n",
    "        tic = time.time()\n",
    "        result = lvglasso(x, alpha, tau, 1. / x.shape[0])\n",
    "        ma_output = Bunch(**result)\n",
    "\n",
    "        ma_output.R = np.array(ma_output.R)\n",
    "        ma_output.S = np.array(ma_output.S)\n",
    "        ma_output.L = np.array(ma_output.L)\n",
    "        tac = ma_output.elapsed_time #time.time() - tic\n",
    "        \n",
    "        res.append(ma_output)\n",
    "        elapsed_time.append(tac)\n",
    "    \n",
    "\n",
    "    results[('lvglasso', n_dim_obs)] = dict(res=ma_output, elapsed_time=elapsed_time)\n",
    "#     results[('lvglasso', n_dim_obs)] = ma_output\n",
    "\n",
    "    # assert np.allclose(results_time[0], ma_output.R + ma_output.L, atol=1e-3)\n",
    "\n",
    "#     L = np.array(ma_output.L)\n",
    "#     LL = results_time[1]\n",
    "\n",
    "#     ranks_ma = [np.linalg.matrix_rank(l)for l in L]\n",
    "#     ranks_ours = [np.linalg.matrix_rank(l)for l in LL]\n",
    "    # assert np.all([np.linalg.matrix_rank(l) == np.linalg.matrix_rank(ll) for l, ll in zip(L, LL)])"
   ]
  },
  {
   "cell_type": "code",
   "execution_count": 63,
   "metadata": {},
   "outputs": [
    {
     "data": {
      "image/png": "[encoded data removed]",
      "text/plain": [
       "<Figure size 432x288 with 1 Axes>"
      ]
     },
     "metadata": {
      "needs_background": "light"
     },
     "output_type": "display_data"
    }
   ],
   "source": [
    "from regain.utils import flatten\n",
    "df = pd.DataFrame(\n",
    "    flatten([[(k[0], int(k[1] * k[1]-1) // 2 * T, x) \n",
    "              for x in results[k]['elapsed_time']] for k in results]),\n",
    "    columns=['method', 'n_unknowns', 'time'])\n",
    "\n",
    "import seaborn as sns\n",
    "from matplotlib import pyplot as plt\n",
    "f, ax = plt.subplots()\n",
    "g = sns.pointplot(data=df, hue='method', x='n_unknowns', y='time')\n",
    "g.set_yscale(\"log\");"
   ]
  },
  {
   "cell_type": "code",
   "execution_count": null,
   "metadata": {},
   "outputs": [],
   "source": []
  }
 ],
 "metadata": {
  "kernelspec": {
   "display_name": "Python 3",
   "language": "python",
   "name": "python3"
  },
  "language_info": {
   "codemirror_mode": {
    "name": "ipython",
    "version": 3
   },
   "file_extension": ".py",
   "mimetype": "text/x-python",
   "name": "python",
   "nbconvert_exporter": "python",
   "pygments_lexer": "ipython3",
   "version": "3.7.4"
  }
 },
 "nbformat": 4,
 "nbformat_minor": 4
}
