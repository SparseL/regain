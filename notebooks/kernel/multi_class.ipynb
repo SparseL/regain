{
 "cells": [
  {
   "cell_type": "code",
   "execution_count": 1,
   "metadata": {},
   "outputs": [],
   "source": [
    "import networkx as nx \n",
    "import numpy as np\n",
    "import matplotlib.pyplot as plt\n",
    "\n",
    "from regain.datasets.multi_class import make_multiclass_dataset"
   ]
  },
  {
   "cell_type": "markdown",
   "metadata": {},
   "source": [
    "# Data generation"
   ]
  },
  {
   "cell_type": "code",
   "execution_count": 2,
   "metadata": {},
   "outputs": [],
   "source": [
    "res, binaries = make_multiclass_dataset(n_samples=100, n_dim_obs=20, \n",
    "                                                             n_classes=5,_type='erdos-renyi', n_edges=1)"
   ]
  },
  {
   "cell_type": "code",
   "execution_count": 3,
   "metadata": {},
   "outputs": [],
   "source": [
    "def multi_class_kernel(n_classes=5, beta=1):\n",
    "    kernel = np.ones((n_classes, n_classes))*beta\n",
    "    np.fill_diagonal(kernel, 1)\n",
    "    return kernel"
   ]
  },
  {
   "cell_type": "code",
   "execution_count": 4,
   "metadata": {},
   "outputs": [],
   "source": [
    "kernel = multi_class_kernel(beta=10)"
   ]
  },
  {
   "cell_type": "markdown",
   "metadata": {},
   "source": [
    "# Fitting"
   ]
  },
  {
   "cell_type": "code",
   "execution_count": 5,
   "metadata": {},
   "outputs": [],
   "source": [
    "from regain.covariance.kernel_time_graphical_lasso_ import KernelTimeGraphicalLasso\n",
    "from regain.generalized_temporal_linear_model.poisson import TemporalPoissonModel\n",
    "from regain.generalized_temporal_linear_model.ising import TemporalIsingModel\n",
    "from regain.utils import structure_error"
   ]
  },
  {
   "cell_type": "code",
   "execution_count": 7,
   "metadata": {
    "scrolled": false
   },
   "outputs": [],
   "source": [
    "tglk = KernelTimeGraphicalLasso(alpha=8, kernel=kernel, psi='l1')\n",
    "tigmk = TemporalIsingModel(alpha=8, kernel=kernel, psi='l1')\n",
    "tpgmk = TemporalPoissonModel(alpha=8, kernel=kernel, psi='l1')\n",
    "\n",
    "from sklearn.model_selection import StratifiedShuffleSplit\n",
    "import warnings \n",
    "\n",
    "warnings.simplefilter('ignore')\n",
    "sizes = [5, 10, 50, 100]\n",
    "res_g = {s:[] for s in sizes}\n",
    "res_i = {s:[] for s in sizes}\n",
    "res_p = {s:[] for s in sizes}\n",
    "for s in sizes:\n",
    "    sss = StratifiedShuffleSplit(n_splits=3, train_size=s)\n",
    "    for train, _ in sss.split(res['gaussian']['X'],res['gaussian']['y']):\n",
    "        tglk.fit(res['gaussian']['X'][train, :],res['gaussian']['y'][train])\n",
    "        res_g[s].append(tglk.precision_)"
   ]
  }
 ],
 "metadata": {
  "kernelspec": {
   "display_name": "Python 3",
   "language": "python",
   "name": "python3"
  },
  "language_info": {
   "codemirror_mode": {
    "name": "ipython",
    "version": 3
   },
   "file_extension": ".py",
   "mimetype": "text/x-python",
   "name": "python",
   "nbconvert_exporter": "python",
   "pygments_lexer": "ipython3",
   "version": "3.6.5"
  }
 },
 "nbformat": 4,
 "nbformat_minor": 2
}
