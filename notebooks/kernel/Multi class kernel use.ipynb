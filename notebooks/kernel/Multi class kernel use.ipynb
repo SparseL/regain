{
 "cells": [
  {
   "cell_type": "code",
   "execution_count": 124,
   "metadata": {},
   "outputs": [],
   "source": [
    "import networkx as nx \n",
    "import numpy as np\n",
    "import matplotlib.pyplot as plt\n",
    "\n",
    "from sklearn.datasets.base import Bunch\n",
    "\n",
    "from regain.datasets.poisson import poisson_sampler\n",
    "from regain.datasets.ising import ising_sampler"
   ]
  },
  {
   "cell_type": "code",
   "execution_count": 35,
   "metadata": {},
   "outputs": [],
   "source": [
    "# Stessa struttura per tutte e tre le distribuzioni \n",
    "\n",
    "# scale-free\n",
    "\n",
    "# erdo-reniy\n",
    "\n",
    "#generate the base random graph we randomly add 10% of edges we randomly remove 10% of edges"
   ]
  },
  {
   "cell_type": "code",
   "execution_count": 107,
   "metadata": {},
   "outputs": [],
   "source": [
    "\n",
    "def generate_multiple_class_dataset(n_dim_obs=10, n_edges=2, probability=0.2, n_classes=5, \n",
    "                                    _type='scale-free', random_state=None, plot=False):\n",
    "    if _type=='scale-free':\n",
    "        graph = nx.random_graphs.barabasi_albert_graph(n=n_dim_obs, m=n_edges, seed=random_state)\n",
    "    else:\n",
    "        graph = nx.random_graphs.erdos_renyi_graph(n=n_dim_obs, p=probability, seed=random_state)\n",
    "\n",
    "    binaries = [nx.adjacency_matrix(graph).todense()]\n",
    "    zeros = np.where(binaries[0]==0)\n",
    "    nonzero= np.where(binaries[0]!=0)\n",
    "    n_to_add = int(0.1*zeros[0].shape[0]) \n",
    "    n_to_remove = int(0.1*nonzero[0].shape[0]) \n",
    "    for i in range(n_classes-1):\n",
    "        K_new = binaries[0].copy()\n",
    "        to_add = np.random.choice(np.arange(zeros[0].shape[0]), n_to_add, replace=False)\n",
    "        to_remove = np.random.choice(np.arange(nonzero[0].shape[0]), n_to_add, replace=False)\n",
    "        for ta in to_add:\n",
    "            a= np.random.choice([0,1], p=[0.2, 0.8])\n",
    "            K_new[zeros[0][i], zeros[1][i]] = a\n",
    "            K_new[zeros[1][i], zeros[0][i]] = a\n",
    "        for ta in to_remove:\n",
    "            a=np.random.choice([0,1], p=[0.8, 0.2])\n",
    "            K_new[nonzero[0][i], nonzero[1][i]] = a\n",
    "            K_new[nonzero[1][i], nonzero[0][i]] = a\n",
    "        binaries.append(K_new)\n",
    "    \n",
    "    Ks_poisson = [b.copy().astype(np.float32) for b in binaries]  \n",
    "    Ks_gaussian = [b.copy().astype(np.float32) for b in binaries]  \n",
    "    A = np.random.rand(n_dim_obs, n_dim_obs)-0.5\n",
    "    A = (A+A.T)/2\n",
    "    for b, k in zip(binaries,Ks_gaussian):\n",
    "        k[np.where(b!=0)] = A[np.where(b!=0)]\n",
    "        np.fill_diagonal(k, 1)\n",
    "    Ks_ising = [b.copy().astype(np.float32) for b in binaries]  \n",
    "    A = np.random.rand(n_dim_obs, n_dim_obs)-0.5\n",
    "    A = np.sign((A+A.T))\n",
    "    for b, k in zip(binaries,Ks_ising):\n",
    "        k[np.where(b!=0)] = A[np.where(b!=0)]\n",
    "        np.fill_diagonal(k, 1)\n",
    "   \n",
    "    return binaries, Ks_poisson, Ks_gaussian, Ks_ising"
   ]
  },
  {
   "cell_type": "code",
   "execution_count": 108,
   "metadata": {},
   "outputs": [],
   "source": [
    "binaries, poisson, gaussian, ising = generate_multiple_class_dataset(n_edges=1, _type='erdos-renyi')"
   ]
  },
  {
   "cell_type": "code",
   "execution_count": 125,
   "metadata": {},
   "outputs": [],
   "source": [
    "def sample(n_dim_obs=10, n_samples=100, gaussian=None, ising=None, poisson=None,time_on_axis='first',):\n",
    "    res= {}\n",
    "    if gaussian is not None:\n",
    "        sigmas = list(map(np.linalg.inv, gaussian))\n",
    "        # map(normalize_matrix, sigmas)  # in place\n",
    "        data = np.array(\n",
    "        [\n",
    "            np.random.multivariate_normal(\n",
    "                np.zeros(n_dim_obs), sigma, size=n_samples) for sigma in sigmas\n",
    "        ])\n",
    "\n",
    "        X = np.vstack(data)\n",
    "        y = np.repeat(range(len(sigmas)), n_samples).astype(int)\n",
    "\n",
    "        if time_on_axis == \"last\":\n",
    "            data = data.transpose(1, 2, 0)\n",
    "        gaussian_res = Bunch(data=data, thetas=np.array(gaussian), X=X, y=y)\n",
    "        res['gaussian'] = gaussian_res\n",
    "    if poisson is not None:\n",
    "        data = np.array([poisson_sampler(t, variances=np.zeros(n_dim_obs),\n",
    "                               n_samples=n_samples) for t in poisson])\n",
    "        X = np.vstack(data)\n",
    "        y = np.repeat(range(len(poisson)), n_samples).astype(int)\n",
    "\n",
    "        if time_on_axis == \"last\":\n",
    "            data = data.transpose(1, 2, 0)\n",
    "        poisson_res = Bunch(data=data, thetas=np.array(poisson), X=X, y=y)\n",
    "        res['poisson'] = poisson_res\n",
    "    if ising is not None:\n",
    "        data = np.array([ising_sampler(t, np.zeros(n_dim_obs), n=n_samples, responses=[-1, 1])\n",
    "                        for t in ising])\n",
    "        X = np.vstack(data)\n",
    "        y = np.repeat(range(len(poisson)), n_samples).astype(int)\n",
    "\n",
    "        if time_on_axis == \"last\":\n",
    "            data = data.transpose(1, 2, 0)\n",
    "        ising_res = Bunch(data=data, thetas=np.array(ising), X=X, y=y)\n",
    "        res['ising'] = ising_res\n",
    "    return res"
   ]
  },
  {
   "cell_type": "code",
   "execution_count": 126,
   "metadata": {},
   "outputs": [
    {
     "name": "stderr",
     "output_type": "stream",
     "text": [
      "/home/vero/miniconda2/envs/py36/lib/python3.6/site-packages/ipykernel_launcher.py:9: RuntimeWarning: covariance is not positive-semidefinite.\n",
      "  if __name__ == '__main__':\n"
     ]
    },
    {
     "name": "stdout",
     "output_type": "stream",
     "text": [
      "\n",
      "(10,)\n",
      "(55,)\n",
      "(100, 55)\n",
      "\n",
      "(10,)\n",
      "(55,)\n",
      "(100, 55)\n",
      "\n",
      "(10,)\n",
      "(55,)\n",
      "(100, 55)\n",
      "\n",
      "(10,)\n",
      "(55,)\n",
      "(100, 55)\n",
      "\n",
      "(10,)\n",
      "(55,)\n",
      "(100, 55)\n"
     ]
    }
   ],
   "source": [
    " res = sample(n_dim_obs=10, n_samples=100, gaussian=gaussian, ising=ising, poisson=poisson)"
   ]
  },
  {
   "cell_type": "code",
   "execution_count": 128,
   "metadata": {},
   "outputs": [],
   "source": [
    "def multi_class_kernel(n_classes=5, beta=1):\n",
    "    kernel = np.ones((n_classes, n_classes))*beta\n",
    "    np.fill_diagonal(kernel, 1)\n",
    "    return kernel"
   ]
  },
  {
   "cell_type": "code",
   "execution_count": 129,
   "metadata": {},
   "outputs": [],
   "source": [
    "kernel = multi_class_kernel(beta=0.5)"
   ]
  },
  {
   "cell_type": "markdown",
   "metadata": {},
   "source": [
    "# Fitting"
   ]
  },
  {
   "cell_type": "code",
   "execution_count": null,
   "metadata": {},
   "outputs": [],
   "source": [
    "from regain.covariance.kernel_time_graphical_lasso_ import KernelTimeGraphicalLasso\n",
    "from regain.generalized_linear_mode"
   ]
  }
 ],
 "metadata": {
  "kernelspec": {
   "display_name": "Python 3",
   "language": "python",
   "name": "python3"
  },
  "language_info": {
   "codemirror_mode": {
    "name": "ipython",
    "version": 3
   },
   "file_extension": ".py",
   "mimetype": "text/x-python",
   "name": "python",
   "nbconvert_exporter": "python",
   "pygments_lexer": "ipython3",
   "version": "3.6.5"
  }
 },
 "nbformat": 4,
 "nbformat_minor": 2
}
