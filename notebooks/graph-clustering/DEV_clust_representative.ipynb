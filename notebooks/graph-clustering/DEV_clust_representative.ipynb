{
 "cells": [
  {
   "cell_type": "markdown",
   "metadata": {},
   "source": [
    "# [DEV notebook]\n",
    "Generate dataset using graph representative, then generating similar graphs."
   ]
  },
  {
   "cell_type": "code",
   "execution_count": null,
   "metadata": {},
   "outputs": [],
   "source": [
    "%matplotlib inline\n",
    "from regain.datasets import kernels\n",
    "import networkx as nx\n",
    "import matplotlib.pyplot as plt\n",
    "from imp import reload\n",
    "reload(kernels);"
   ]
  },
  {
   "cell_type": "code",
   "execution_count": null,
   "metadata": {},
   "outputs": [],
   "source": [
    "reload(kernels)\n",
    "data = kernels.make_cluster_representative(n_dim=10, degree=2, n_clusters=2, T=15, repetitions=False,\n",
    "                                          cluster_series=None)#[0,1,2,2,1,0])\n",
    "fig, axs = plt.subplots(1,3, figsize=(15,5))\n",
    "for i in range(3):\n",
    "    nx.draw_circular(data.cluster_reps[i], ax=axs[i])\n",
    "#plt.savefig(\"cluster_representative.png\", transparent=True, dpi=200, bbox_inches='tight')"
   ]
  },
  {
   "cell_type": "code",
   "execution_count": null,
   "metadata": {},
   "outputs": [],
   "source": [
    "data.id_cluster[::100]"
   ]
  },
  {
   "cell_type": "code",
   "execution_count": null,
   "metadata": {},
   "outputs": [],
   "source": [
    "fig, axs = plt.subplots(3,5, figsize=(15,5))\n",
    "colors = ['red', 'red', 'red', 'blue', 'blue', 'blue']\n",
    "k = 0\n",
    "for i in range(3):\n",
    "    for j in range(5):\n",
    "        g = nx.from_numpy_array(data.thetas[k])\n",
    "        nx.draw_circular(g, ax=axs[i, j])\n",
    "        k+=1\n",
    "#plt.savefig(\"cluster_representative.png\", transparent=True, dpi=200, bbox_inches='tight')"
   ]
  },
  {
   "cell_type": "code",
   "execution_count": null,
   "metadata": {},
   "outputs": [],
   "source": [
    "from itertools import combinations\n",
    "from regain.norm import l1_od_norm\n",
    "from scipy.spatial.distance import squareform\n",
    "\n",
    "distances = squareform([l1_od_norm(t1 - t2) for t1, t2 in combinations(data.thetas, 2)])\n",
    "distances /= np.max(distances)"
   ]
  },
  {
   "cell_type": "code",
   "execution_count": null,
   "metadata": {},
   "outputs": [],
   "source": [
    "sns.clustermap(1-distances)"
   ]
  },
  {
   "cell_type": "code",
   "execution_count": null,
   "metadata": {},
   "outputs": [],
   "source": [
    "from sklearn.cluster import AgglomerativeClustering\n",
    "\n",
    "labels_pred = AgglomerativeClustering(\n",
    "    n_clusters=3, affinity='precomputed', linkage='complete').fit_predict(distances)\n",
    "\n",
    "labels_pred"
   ]
  },
  {
   "cell_type": "code",
   "execution_count": null,
   "metadata": {},
   "outputs": [],
   "source": [
    "data.id_cluster[::100]"
   ]
  },
  {
   "cell_type": "code",
   "execution_count": null,
   "metadata": {},
   "outputs": [],
   "source": []
  }
 ],
 "metadata": {
  "kernelspec": {
   "display_name": "Python 3",
   "language": "python",
   "name": "python3"
  },
  "language_info": {
   "codemirror_mode": {
    "name": "ipython",
    "version": 3
   },
   "file_extension": ".py",
   "mimetype": "text/x-python",
   "name": "python",
   "nbconvert_exporter": "python",
   "pygments_lexer": "ipython3",
   "version": "3.7.3"
  }
 },
 "nbformat": 4,
 "nbformat_minor": 4
}
