{
 "cells": [
  {
   "cell_type": "markdown",
   "metadata": {},
   "source": [
    "# [DEV] How to generate data as TICC"
   ]
  },
  {
   "cell_type": "code",
   "execution_count": 39,
   "metadata": {},
   "outputs": [
    {
     "name": "stdout",
     "output_type": "stream",
     "text": [
      "0 (2, 2) (2,)\n",
      "(4, 4)\n",
      "1 (2, 2) (2,)\n",
      "(6, 6)\n",
      "2 (2, 2) (2,)\n",
      "(8, 8)\n",
      "3 (2, 2) (2,)\n",
      "(10, 10)\n",
      "4 (2, 2) (2,)\n",
      "(12, 12)\n",
      "5 (2, 2) (2,)\n",
      "(12, 12)\n",
      "6 (2, 2) (2,)\n",
      "(12, 12)\n",
      "7 (2, 2) (2,)\n",
      "(12, 12)\n",
      "8 (2, 2) (2,)\n",
      "(12, 12)\n",
      "9 (2, 2) (2,)\n",
      "(12, 12)\n",
      "10 (2, 2) (2,)\n",
      "(12, 12)\n",
      "11 (2, 2) (2,)\n",
      "(12, 12)\n",
      "12 (2, 2) (2,)\n",
      "(12, 12)\n",
      "13 (2, 2) (2,)\n",
      "(12, 12)\n",
      "14 (2, 2) (2,)\n"
     ]
    }
   ],
   "source": [
    "from regain.datasets import kernels\n",
    "import imp; imp.reload(kernels)\n",
    "\n",
    "X, S = kernels.make_ticc_dataset(n_dim=2, break_points=[5,10,15], window_size=6)"
   ]
  },
  {
   "cell_type": "code",
   "execution_count": 21,
   "metadata": {},
   "outputs": [
    {
     "data": {
      "text/plain": [
       "(25, 25)"
      ]
     },
     "execution_count": 21,
     "metadata": {},
     "output_type": "execute_result"
    }
   ],
   "source": [
    "S[0].shape"
   ]
  },
  {
   "cell_type": "code",
   "execution_count": 30,
   "metadata": {},
   "outputs": [
    {
     "data": {
      "text/plain": [
       "<matplotlib.image.AxesImage at 0x1c2257df28>"
      ]
     },
     "execution_count": 30,
     "metadata": {},
     "output_type": "execute_result"
    },
    {
     "data": {
      "image/png": "[encoded data removed]",
      "text/plain": [
       "<Figure size 432x288 with 1 Axes>"
      ]
     },
     "metadata": {
      "needs_background": "light"
     },
     "output_type": "display_data"
    }
   ],
   "source": [
    "from matplotlib import pyplot as plt\n",
    "plt.imshow(S[0])"
   ]
  },
  {
   "cell_type": "code",
   "execution_count": 22,
   "metadata": {},
   "outputs": [
    {
     "data": {
      "text/plain": [
       "(15, 6)"
      ]
     },
     "execution_count": 22,
     "metadata": {},
     "output_type": "execute_result"
    }
   ],
   "source": [
    "X.shape"
   ]
  },
  {
   "cell_type": "code",
   "execution_count": null,
   "metadata": {},
   "outputs": [],
   "source": []
  }
 ],
 "metadata": {
  "kernelspec": {
   "display_name": "Python 3",
   "language": "python",
   "name": "python3"
  },
  "language_info": {
   "codemirror_mode": {
    "name": "ipython",
    "version": 3
   },
   "file_extension": ".py",
   "mimetype": "text/x-python",
   "name": "python",
   "nbconvert_exporter": "python",
   "pygments_lexer": "ipython3",
   "version": "3.7.3"
  }
 },
 "nbformat": 4,
 "nbformat_minor": 2
}
