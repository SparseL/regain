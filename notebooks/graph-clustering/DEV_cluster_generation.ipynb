{
 "cells": [
  {
   "cell_type": "markdown",
   "metadata": {},
   "source": [
    "# [DEV] How to generate data as TICC"
   ]
  },
  {
   "cell_type": "code",
   "execution_count": 45,
   "metadata": {},
   "outputs": [
    {
     "name": "stdout",
     "output_type": "stream",
     "text": [
      "0 (5, 5) (5,)\n",
      "(5,)\n",
      "1 (5, 5) (5,)\n",
      "(5,)\n",
      "2 (5, 5) (5,)\n",
      "(5,)\n",
      "3 (5, 5) (5,)\n",
      "(5,)\n",
      "4 (5, 5) (5,)\n",
      "(5,)\n",
      "5 (5, 5) (5,)\n",
      "(5,)\n",
      "6 (5, 5) (5,)\n",
      "(5,)\n",
      "7 (5, 5) (5,)\n",
      "(5,)\n",
      "8 (5, 5) (5,)\n",
      "(5,)\n",
      "9 (5, 5) (5,)\n",
      "(5,)\n",
      "10 (5, 5) (5,)\n",
      "(5,)\n",
      "11 (5, 5) (5,)\n",
      "(5,)\n",
      "12 (5, 5) (5,)\n",
      "(5,)\n",
      "13 (5, 5) (5,)\n",
      "(5,)\n",
      "14 (5, 5) (5,)\n",
      "(5,)\n"
     ]
    }
   ],
   "source": [
    "from regain.datasets import kernels\n",
    "import imp; imp.reload(kernels)\n",
    "\n",
    "X, S = kernels.make_ticc_dataset(n_dim=5, break_points=[5,10,15])"
   ]
  },
  {
   "cell_type": "code",
   "execution_count": 46,
   "metadata": {},
   "outputs": [
    {
     "data": {
      "text/plain": [
       "(25, 25)"
      ]
     },
     "execution_count": 46,
     "metadata": {},
     "output_type": "execute_result"
    }
   ],
   "source": [
    "S[0].shape"
   ]
  },
  {
   "cell_type": "code",
   "execution_count": 47,
   "metadata": {},
   "outputs": [
    {
     "data": {
      "text/plain": [
       "(15, 5)"
      ]
     },
     "execution_count": 47,
     "metadata": {},
     "output_type": "execute_result"
    }
   ],
   "source": [
    "X.shape"
   ]
  },
  {
   "cell_type": "code",
   "execution_count": null,
   "metadata": {},
   "outputs": [],
   "source": []
  }
 ],
 "metadata": {
  "kernelspec": {
   "display_name": "Python 3",
   "language": "python",
   "name": "python3"
  },
  "language_info": {
   "codemirror_mode": {
    "name": "ipython",
    "version": 3
   },
   "file_extension": ".py",
   "mimetype": "text/x-python",
   "name": "python",
   "nbconvert_exporter": "python",
   "pygments_lexer": "ipython3",
   "version": "3.7.1"
  }
 },
 "nbformat": 4,
 "nbformat_minor": 2
}
