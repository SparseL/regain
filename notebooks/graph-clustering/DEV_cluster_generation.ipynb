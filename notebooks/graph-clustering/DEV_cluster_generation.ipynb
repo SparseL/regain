{
 "cells": [
  {
   "cell_type": "markdown",
   "metadata": {},
   "source": [
    "# [DEV] How to generate data as TICC"
   ]
  },
  {
   "cell_type": "code",
   "execution_count": 1,
   "metadata": {},
   "outputs": [],
   "source": [
    "from regain.datasets.kernels import make_ticc"
   ]
  },
  {
   "cell_type": "code",
   "execution_count": 7,
   "metadata": {},
   "outputs": [],
   "source": [
    "K = make_ticc()"
   ]
  },
  {
   "cell_type": "code",
   "execution_count": 8,
   "metadata": {},
   "outputs": [
    {
     "data": {
      "text/plain": [
       "(50, 50)"
      ]
     },
     "execution_count": 8,
     "metadata": {},
     "output_type": "execute_result"
    }
   ],
   "source": [
    "K.shape"
   ]
  },
  {
   "cell_type": "code",
   "execution_count": 9,
   "metadata": {},
   "outputs": [
    {
     "data": {
      "text/plain": [
       "array([[ 4.73427345, -0.44407455,  0.        , ..., -0.35937352,\n",
       "         0.        ,  0.        ],\n",
       "       [-0.44407455,  4.73427345,  0.3409693 , ..., -0.30578017,\n",
       "         0.        , -0.42059669],\n",
       "       [ 0.        ,  0.3409693 ,  4.73427345, ...,  0.        ,\n",
       "        -0.31787769,  0.33060867],\n",
       "       ...,\n",
       "       [-0.35937352, -0.30578017,  0.        , ...,  4.73427345,\n",
       "         0.52688567,  0.48670242],\n",
       "       [ 0.        ,  0.        , -0.31787769, ...,  0.52688567,\n",
       "         4.73427345,  0.        ],\n",
       "       [ 0.        , -0.42059669,  0.33060867, ...,  0.48670242,\n",
       "         0.        ,  4.73427345]])"
      ]
     },
     "execution_count": 9,
     "metadata": {},
     "output_type": "execute_result"
    }
   ],
   "source": [
    "K"
   ]
  },
  {
   "cell_type": "code",
   "execution_count": null,
   "metadata": {},
   "outputs": [],
   "source": []
  }
 ],
 "metadata": {
  "kernelspec": {
   "display_name": "Python 3",
   "language": "python",
   "name": "python3"
  },
  "language_info": {
   "codemirror_mode": {
    "name": "ipython",
    "version": 3
   },
   "file_extension": ".py",
   "mimetype": "text/x-python",
   "name": "python",
   "nbconvert_exporter": "python",
   "pygments_lexer": "ipython3",
   "version": "3.7.1"
  }
 },
 "nbformat": 4,
 "nbformat_minor": 2
}
