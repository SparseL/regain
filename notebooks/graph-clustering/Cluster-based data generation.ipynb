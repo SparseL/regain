{
 "cells": [
  {
   "cell_type": "code",
   "execution_count": null,
   "metadata": {},
   "outputs": [],
   "source": [
    "import numpy as np\n",
    "import networkx as nx\n",
    "import matplotlib.pyplot as plt"
   ]
  },
  {
   "cell_type": "code",
   "execution_count": null,
   "metadata": {},
   "outputs": [],
   "source": [
    "\n",
    "def make_datasets(n_obs=10, degree=2, clusters=3, T=15, n_samples=100, repetitions=False):\n",
    "    clusters_reps = [nx.random_regular_graph(d=degree, n=n_obs) for i in range(clusters)]\n",
    "    adjacencies = []\n",
    "    for i in range(clusters):\n",
    "        A = nx.adjacency_matrix(clusters_reps[i]).todense().astype(float)\n",
    "        A[np.where(A!=0)]= np.random.rand(np.where(A!=0)[0].size)*0.45\n",
    "        np.fill_diagonal(A, 1)\n",
    "        adjacencies.append(A)\n",
    "    \n",
    "    pos = np.arange(0, T, T//(clusters+1))\n",
    "    pos = np.sort(pos)\n",
    "    pos = list(pos)+[T-1]\n",
    "    \n",
    "    thetas = []\n",
    "    for i in range(len(pos)-1):\n",
    "        how_many = int(pos[i+1]) - int(pos[i])-1\n",
    "        new_list = [adjacencies[i%clusters]]\n",
    "        target = adjacencies[(i+1)%clusters]\n",
    "\n",
    "        for i in range(how_many):\n",
    "\n",
    "            new = new_list[-1].copy()\n",
    "            diffs = (new!=0).astype(int)-(target!=0).astype(int)\n",
    "            diff = np.where(diffs!=0)\n",
    "            if diff == ():\n",
    "                break\n",
    "            if(i==0):\n",
    "                edges_per_change = int((np.nonzero(diffs)[0].shape[0]/2)//(how_many+1))\n",
    "                if edges_per_change ==0:\n",
    "                    edges_per_change+=1\n",
    "            ixs = np.arange(diff[0].shape[0])\n",
    "            np.random.shuffle(ixs)\n",
    "\n",
    "            xs = diff[0][ixs[:edges_per_change]]\n",
    "            ys = diff[1][ixs[:edges_per_change]]\n",
    "            for j in range(xs.shape[0]):\n",
    "                if diffs[xs[j], ys[j]] == -1:\n",
    "                    new[xs[j], ys[j]] = np.random.rand(1)*0.2\n",
    "                    new[ ys[j], xs[j]]=  new[xs[j], ys[j]]\n",
    "                else:\n",
    "                    new[xs[j], ys[j]] = 0\n",
    "                    new[ ys[j], xs[j]]=0\n",
    "            new_list.append(new)\n",
    "\n",
    "        thetas += new_list\n",
    "    thetas.append(target)\n",
    "    covs = [np.linalg.inv(t) for t in thetas]\n",
    "    samples = [np.random.multivariate_normal(np.zeros(n_obs), c, size=n_samples) for c in covs]\n",
    "    return thetas, samples, covs, clusters_reps, pos"
   ]
  },
  {
   "cell_type": "code",
   "execution_count": null,
   "metadata": {},
   "outputs": [],
   "source": [
    "thetas, samples, covs, clusters_reps, pos= make_datasets(n_obs=10, degree=2, clusters=3, T=15, repetitions=False)\n",
    "\n",
    "fig, axs = plt.subplots(1,3, figsize=(15,5))\n",
    "colors = ['red', 'blue', 'green']\n",
    "for i in range(3):\n",
    "    nx.draw_circular(reps[i], ax=axs[i])\n",
    "#plt.savefig(\"cluster_representative.png\", transparent=True, dpi=200, bbox_inches='tight')\n",
    "plt.show()\n",
    "\n",
    "fig, axs = plt.subplots(3,5, figsize=(15,5))\n",
    "colors = ['red', 'red', 'red', 'blue', 'blue', 'blue']\n",
    "k = 0\n",
    "for i in range(3):\n",
    "    for j in range(5):\n",
    "        g = nx.from_numpy_array(thetas[k])\n",
    "        nx.draw_circular(g, ax=axs[i, j])\n",
    "        k+=1\n",
    "#plt.savefig(\"cluster_representative.png\", transparent=True, dpi=200, bbox_inches='tight')\n",
    "plt.show()"
   ]
  },
  {
   "cell_type": "code",
   "execution_count": null,
   "metadata": {},
   "outputs": [],
   "source": [
    "from regain.norm import l1_norm\n",
    "distances = np.zeros((15,15))\n",
    "for i, t in enumerate(thetas):\n",
    "    for j, t1 in enumerate(thetas):\n",
    "        distances[i,j] = l1_norm(t-t1)\n",
    "\n",
    "distances /= np.max(distances)\n",
    "\n",
    "sns.clustermap(1-distances)"
   ]
  },
  {
   "cell_type": "code",
   "execution_count": null,
   "metadata": {},
   "outputs": [],
   "source": [
    "X = samples[0]\n",
    "y = np.zeros(samples[0].shape[0])\n",
    "for i, s in enumerate(samples[1:]):\n",
    "    X = np.vstack((X, s))\n",
    "    y = np.hstack((y, np.ones(s.shape[0])*(i+1)))"
   ]
  },
  {
   "cell_type": "code",
   "execution_count": null,
   "metadata": {},
   "outputs": [],
   "source": [
    "from importlib import reload\n",
    "import regain.clustering; reload(regain.clustering)\n",
    "import regain.covariance.kernel_time_graphical_lasso_; reload(regain.covariance.kernel_time_graphical_lasso_)\n",
    "from regain.covariance.kernel_time_graphical_lasso_ import SimilarityTimeGraphicalLasso"
   ]
  },
  {
   "cell_type": "code",
   "execution_count": null,
   "metadata": {},
   "outputs": [],
   "source": [
    "stgl = SimilarityTimeGraphicalLasso(alpha=15, psi='l1', verbose=1)\n",
    "stgl.fit(X, y)"
   ]
  },
  {
   "cell_type": "code",
   "execution_count": null,
   "metadata": {},
   "outputs": [],
   "source": [
    "import seaborn as sns\n",
    "sns.clustermap(stgl.similarity_matrix)"
   ]
  },
  {
   "cell_type": "code",
   "execution_count": null,
   "metadata": {},
   "outputs": [],
   "source": [
    "from regain.utils import structure_error\n",
    "structure_error(np.array(thetas), stgl.precision_)"
   ]
  },
  {
   "cell_type": "code",
   "execution_count": null,
   "metadata": {},
   "outputs": [],
   "source": []
  }
 ],
 "metadata": {
  "kernelspec": {
   "display_name": "Python 3",
   "language": "python",
   "name": "python3"
  },
  "language_info": {
   "codemirror_mode": {
    "name": "ipython",
    "version": 3
   },
   "file_extension": ".py",
   "mimetype": "text/x-python",
   "name": "python",
   "nbconvert_exporter": "python",
   "pygments_lexer": "ipython3",
   "version": "3.7.3"
  }
 },
 "nbformat": 4,
 "nbformat_minor": 4
}
