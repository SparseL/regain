{
 "cells": [
  {
   "cell_type": "markdown",
   "metadata": {},
   "source": [
    "# [Dev notebook]\n",
    "## How does STGL work with TICC data?"
   ]
  },
  {
   "cell_type": "code",
   "execution_count": 32,
   "metadata": {},
   "outputs": [],
   "source": [
    "import numpy as np\n",
    "import networkx as nx\n",
    "import matplotlib.pyplot as plt"
   ]
  },
  {
   "cell_type": "code",
   "execution_count": 33,
   "metadata": {},
   "outputs": [],
   "source": [
    "from imp import reload\n",
    "from regain.covariance import kernel_time_graphical_lasso_; reload(kernel_time_graphical_lasso_)\n",
    "from regain.datasets import kernels; reload(kernels)\n",
    "\n",
    "n_dim = 4\n",
    "n_times = 9\n",
    "w_size = 1\n",
    "n_samples = 30\n",
    "clusters=(0, 1, 2)\n",
    "\n",
    "data = kernels.make_ticc_dataset_new(\n",
    "    clusters=clusters,\n",
    "    w_size=w_size, n_dim=n_dim, n_samples=n_samples, T=n_times)\n",
    "X, y = data.X, data.y"
   ]
  },
  {
   "cell_type": "code",
   "execution_count": 34,
   "metadata": {},
   "outputs": [],
   "source": [
    "# import seaborn as sns\n",
    "# import matplotlib.pyplot as plt\n",
    "# %matplotlib inline\n",
    "# res = sns.clustermap(data.inv, row_cluster=False, col_cluster=False)\n",
    "# ax = res.ax_heatmap\n",
    "# for i in range(n_samples * len(clusters)):\n",
    "#     ax.axvline((i + 1) * n_dim)\n",
    "#     ax.axhline((i + 1) * n_dim)"
   ]
  },
  {
   "cell_type": "code",
   "execution_count": 35,
   "metadata": {},
   "outputs": [],
   "source": [
    "from sklearn.covariance import empirical_covariance\n",
    "cov = []\n",
    "for c in np.unique(y):\n",
    "    idx = y == c\n",
    "    cov.append(empirical_covariance(X[idx]))\n",
    "cov = np.asarray(cov)\n",
    "\n",
    "kernel = np.zeros((cov.shape[0], cov.shape[0]))\n",
    "for i in range(cov.shape[0]):\n",
    "    for j in range(i + 1, cov.shape[0]):\n",
    "        kernel[i, j] = kernel[j, i] = (np.linalg.norm((cov[i]) - (cov[j])))\n",
    "\n",
    "mm = np.sum(np.abs(kernel), axis=1)\n",
    "kernel += np.eye(cov.shape[0]) * mm\n",
    "# kernel /= mm\n",
    "\n",
    "from regain.utils import normalize_matrix\n",
    "normalize_matrix(kernel)"
   ]
  },
  {
   "cell_type": "code",
   "execution_count": 36,
   "metadata": {},
   "outputs": [],
   "source": [
    "mdl = kernel_time_graphical_lasso_.SimilarityTimeGraphicalLasso(\n",
    "    psi='l1', max_iter=500, alpha=0.1, beta=1, kernel=kernel).fit(X, y)\n",
    "mdl.similarity_matrix = kernel_time_graphical_lasso_.precision_similarity(mdl.precision_, l1_od_norm)"
   ]
  },
  {
   "cell_type": "code",
   "execution_count": 37,
   "metadata": {},
   "outputs": [],
   "source": [
    "# # # let's use latent variable as well\n",
    "# # eta = 0.25\n",
    "# # kernel_phi = np.eye(n_times)\n",
    "# # np.fill_adiagonal(kernel_phi[:, 1:], eta)\n",
    "# # np.fill_diagonal(kernel_phi[1:], eta)\n",
    "\n",
    "# # from regain.covariance import kernel_time_graphical_lasso_, kernel_latent_time_graphical_lasso_\n",
    "# # imp.reload(kernel_latent_time_graphical_lasso_)\n",
    "# # mdl = kernel_time_graphical_lasso_.SimilarityTimeGraphicalLasso(alpha=.4).fit(X,y)\n",
    "# # # mdl = kernel_latent_time_graphical_lasso_.SimilarityLatentTimeGraphicalLasso(\n",
    "# # #     alpha=.5, kernel_phi=kernel_phi, tau=0.9,\n",
    "# # # ).fit(X,y)\n",
    "\n",
    "# mdl.similarity_matrix = kernel_time_graphical_lasso_.precision_similarity(mdl.get_observed_precision(), squared_norm)"
   ]
  },
  {
   "cell_type": "code",
   "execution_count": 38,
   "metadata": {},
   "outputs": [],
   "source": [
    "# from sklearn.gaussian_process import kernels as skkernels\n",
    "# rbf = kernels.RBF\n",
    "\n",
    "# mdl = kernel_time_graphical_lasso_.KernelTimeGraphicalLasso(psi='l1', max_iter=500, alpha=0.1, beta=1, kernel=rbf).fit(X, y)\n",
    "\n",
    "# from regain.norm import l1_od_norm\n",
    "# mdl.similarity_matrix = kernel_time_graphical_lasso_.precision_similarity(mdl.precision_, l1_od_norm)"
   ]
  },
  {
   "cell_type": "code",
   "execution_count": null,
   "metadata": {},
   "outputs": [],
   "source": [
    "from sklearn.cluster.hierarchical import AgglomerativeClustering\n",
    "from scipy import linalg\n",
    "from sklearn.metrics import v_measure_score\n",
    "from regain.utils import structure_error, error_norm_time"
   ]
  },
  {
   "cell_type": "code",
   "execution_count": 57,
   "metadata": {},
   "outputs": [
    {
     "data": {
      "text/plain": [
       "[array([0, 1, 2, 3, 4, 5, 6, 7, 8, 9]),\n",
       " array([10, 11, 12, 13, 14, 15, 16, 17, 18, 19]),\n",
       " array([20, 21, 22, 23, 24, 25, 26, 27, 28, 29]),\n",
       " array([30, 31, 32, 33, 34, 35, 36, 37, 38, 39]),\n",
       " array([40, 41, 42, 43, 44, 45, 46, 47, 48, 49]),\n",
       " array([50, 51, 52, 53, 54, 55, 56, 57, 58, 59]),\n",
       " array([60, 61, 62, 63, 64, 65, 66, 67, 68, 69]),\n",
       " array([70, 71, 72, 73, 74, 75, 76, 77, 78, 79]),\n",
       " array([80, 81, 82, 83, 84, 85, 86, 87, 88, 89]),\n",
       " array([90, 91, 92, 93, 94, 95, 96, 97, 98, 99])]"
      ]
     },
     "execution_count": 57,
     "metadata": {},
     "output_type": "execute_result"
    }
   ],
   "source": [
    "[np.arange(i*(len(clusters) * (n_samples) // n_times),(i+1)*(len(clusters) * (n_samples) // n_times)) for i in range(len(clusters) * (n_samples) // n_times)]"
   ]
  },
  {
   "cell_type": "code",
   "execution_count": 47,
   "metadata": {},
   "outputs": [
    {
     "data": {
      "text/plain": [
       "array([0, 0, 0, 0, 0, 0, 0, 0, 0, 0, 1, 1, 1, 1, 1, 1, 1, 1, 1, 1, 2, 2,\n",
       "       2, 2, 2, 2, 2, 2, 2, 2, 3, 3, 3, 3, 3, 3, 3, 3, 3, 3, 4, 4, 4, 4,\n",
       "       4, 4, 4, 4, 4, 4, 5, 5, 5, 5, 5, 5, 5, 5, 5, 5, 6, 6, 6, 6, 6, 6,\n",
       "       6, 6, 6, 6, 7, 7, 7, 7, 7, 7, 7, 7, 7, 7, 8, 8, 8, 8, 8, 8, 8, 8,\n",
       "       8, 8])"
      ]
     },
     "execution_count": 47,
     "metadata": {},
     "output_type": "execute_result"
    }
   ],
   "source": [
    "y"
   ]
  },
  {
   "cell_type": "code",
   "execution_count": 39,
   "metadata": {},
   "outputs": [
    {
     "name": "stdout",
     "output_type": "stream",
     "text": [
      "[0 0 0 1 1 1 2 2 2]\n",
      "[0 1 0 0 1 0 0 0 1]\n",
      "3.83910816472167e-16\n",
      "{'tp': 90, 'tn': 0, 'fp': 0, 'fn': 18, 'precision': 1.0, 'recall': 0.8333333333333334, 'f1': 0.9090909090909091, 'accuracy': 0.625, 'false_omission_rate': 1.0, 'fdr': 0.0, 'npv': 0.0, 'prevalence': 0.75, 'miss_rate': 0.16666666666666666, 'fall_out': 1, 'specificity': 0.0, 'plr': 0.8333333333333334, 'nlr': 0, 'dor': 0, 'balanced_accuracy': 0.4166666666666667, 'average_precision': 0.7969498517234705}\n",
      "1.2342566243140127\n"
     ]
    }
   ],
   "source": [
    "# needs distances\n",
    "clustering = AgglomerativeClustering(affinity='precomputed', linkage='complete', n_clusters=2)\n",
    "S = 1 - 1. / (mdl.similarity_matrix + skkernels.RBF(1)(np.arange(n_times)[:,None]))\n",
    "labels_pred = clustering.fit_predict(S)\n",
    "labels_true = data.id_cluster[::(len(clusters) * n_samples // n_times)]\n",
    "thetas_true = np.array(data.precs[::len(clusters) * n_samples // n_times])\n",
    "\n",
    "print(labels_true)\n",
    "print(labels_pred)\n",
    "\n",
    "print(v_measure_score(labels_true, labels_predict))\n",
    "print(structure_error(thetas_true, mdl.precision_, no_diagonal=True))\n",
    "print(error_norm_time(thetas_true, mdl.precision_))"
   ]
  },
  {
   "cell_type": "code",
   "execution_count": 40,
   "metadata": {},
   "outputs": [
    {
     "data": {
      "text/plain": [
       "<seaborn.matrix.ClusterGrid at 0x1c2645fe80>"
      ]
     },
     "execution_count": 40,
     "metadata": {},
     "output_type": "execute_result"
    },
    {
     "data": {
      "image/png": "[encoded data removed]",
      "text/plain": [
       "<Figure size 720x720 with 4 Axes>"
      ]
     },
     "metadata": {
      "needs_background": "light"
     },
     "output_type": "display_data"
    }
   ],
   "source": [
    "import seaborn as sns\n",
    "sns.clustermap(kernel)"
   ]
  },
  {
   "cell_type": "code",
   "execution_count": null,
   "metadata": {},
   "outputs": [],
   "source": []
  },
  {
   "cell_type": "code",
   "execution_count": null,
   "metadata": {},
   "outputs": [],
   "source": []
  },
  {
   "cell_type": "code",
   "execution_count": 14,
   "metadata": {},
   "outputs": [],
   "source": [
    "def make_datasets(n_obs=10, degree=2, clusters=3, T=15, n_samples=100, repetitions=False):\n",
    "    clusters_reps = [nx.random_regular_graph(d=degree, n=n_obs) for i in range(clusters)]\n",
    "    adjacencies = []\n",
    "    for i in range(clusters):\n",
    "        A = nx.adjacency_matrix(clusters_reps[i]).todense().astype(float)\n",
    "        A[np.where(A!=0)]= np.random.rand(np.where(A!=0)[0].size)*0.45\n",
    "        np.fill_diagonal(A, 1)\n",
    "        adjacencies.append(A)\n",
    "    \n",
    "    pos = np.arange(0, T, T//(clusters+1))\n",
    "    pos = np.sort(pos)\n",
    "    pos = list(pos)+[T-1]\n",
    "    \n",
    "    thetas = []\n",
    "    for i in range(len(pos)-1):\n",
    "        how_many = int(pos[i+1]) - int(pos[i])-1\n",
    "        new_list = [adjacencies[i%clusters]]\n",
    "        target = adjacencies[(i+1)%clusters]\n",
    "\n",
    "        for i in range(how_many):\n",
    "\n",
    "            new = new_list[-1].copy()\n",
    "            diffs = (new!=0).astype(int)-(target!=0).astype(int)\n",
    "            diff = np.where(diffs!=0)\n",
    "            if diff == ():\n",
    "                break\n",
    "            if(i==0):\n",
    "                edges_per_change = int((np.nonzero(diffs)[0].shape[0]/2)//(how_many+1))\n",
    "                if edges_per_change ==0:\n",
    "                    edges_per_change+=1\n",
    "            ixs = np.arange(diff[0].shape[0])\n",
    "            np.random.shuffle(ixs)\n",
    "\n",
    "            xs = diff[0][ixs[:edges_per_change]]\n",
    "            ys = diff[1][ixs[:edges_per_change]]\n",
    "            for j in range(xs.shape[0]):\n",
    "                if diffs[xs[j], ys[j]] == -1:\n",
    "                    new[xs[j], ys[j]] = np.random.rand(1)*0.2\n",
    "                    new[ ys[j], xs[j]]=  new[xs[j], ys[j]]\n",
    "                else:\n",
    "                    new[xs[j], ys[j]] = 0\n",
    "                    new[ ys[j], xs[j]]=0\n",
    "            new_list.append(new)\n",
    "\n",
    "        thetas += new_list\n",
    "    thetas.append(target)\n",
    "    covs = [np.linalg.inv(t) for t in thetas]\n",
    "    samples = [np.random.multivariate_normal(np.zeros(n_obs), c, size=n_samples) for c in covs]\n",
    "    return thetas, samples, covs, clusters_reps, pos"
   ]
  },
  {
   "cell_type": "code",
   "execution_count": 15,
   "metadata": {},
   "outputs": [
    {
     "name": "stderr",
     "output_type": "stream",
     "text": [
      "/Users/federicot/miniconda3/lib/python3.7/site-packages/ipykernel_launcher.py:48: RuntimeWarning: covariance is not symmetric positive-semidefinite.\n"
     ]
    }
   ],
   "source": [
    "thetas, samples, covs, clusters_reps, pos= make_datasets(n_obs=10, degree=2, clusters=3, T=15, repetitions=False)"
   ]
  },
  {
   "cell_type": "code",
   "execution_count": 16,
   "metadata": {},
   "outputs": [
    {
     "name": "stderr",
     "output_type": "stream",
     "text": [
      "/Users/federicot/miniconda3/lib/python3.7/site-packages/networkx/drawing/nx_pylab.py:579: MatplotlibDeprecationWarning: \n",
      "The iterable function was deprecated in Matplotlib 3.1 and will be removed in 3.3. Use np.iterable instead.\n",
      "  if not cb.iterable(width):\n",
      "/Users/federicot/miniconda3/lib/python3.7/site-packages/networkx/drawing/nx_pylab.py:579: MatplotlibDeprecationWarning: \n",
      "The iterable function was deprecated in Matplotlib 3.1 and will be removed in 3.3. Use np.iterable instead.\n",
      "  if not cb.iterable(width):\n",
      "/Users/federicot/miniconda3/lib/python3.7/site-packages/networkx/drawing/nx_pylab.py:579: MatplotlibDeprecationWarning: \n",
      "The iterable function was deprecated in Matplotlib 3.1 and will be removed in 3.3. Use np.iterable instead.\n",
      "  if not cb.iterable(width):\n"
     ]
    },
    {
     "data": {
      "image/png": "[encoded data removed]",
      "text/plain": [
       "<Figure size 1080x360 with 3 Axes>"
      ]
     },
     "metadata": {},
     "output_type": "display_data"
    }
   ],
   "source": [
    "fig, axs = plt.subplots(1,3, figsize=(15,5))\n",
    "colors = ['red', 'blue', 'green']\n",
    "for i in range(3):\n",
    "    nx.draw_circular(clusters_reps[i], ax=axs[i])\n",
    "#plt.savefig(\"cluster_representative.png\", transparent=True, dpi=200, bbox_inches='tight')\n",
    "plt.show()"
   ]
  },
  {
   "cell_type": "code",
   "execution_count": null,
   "metadata": {},
   "outputs": [],
   "source": [
    "fig, axs = plt.subplots(3,5, figsize=(15,5))\n",
    "colors = ['red', 'red', 'red', 'blue', 'blue', 'blue']\n",
    "k = 0\n",
    "for i in range(3):\n",
    "    for j in range(5):\n",
    "        g = nx.from_numpy_array(thetas[k])\n",
    "        nx.draw_circular(g, ax=axs[i, j])\n",
    "        k+=1\n",
    "#plt.savefig(\"cluster_representative.png\", transparent=True, dpi=200, bbox_inches='tight')\n",
    "plt.show()"
   ]
  },
  {
   "cell_type": "code",
   "execution_count": 18,
   "metadata": {},
   "outputs": [],
   "source": [
    "from regain.norm import l1_norm\n",
    "distances = np.zeros((15,15))\n",
    "for i, t in enumerate(thetas):\n",
    "    for j, t1 in enumerate(thetas):\n",
    "        distances[i,j] = l1_norm(t-t1)\n",
    "\n",
    "distances /= np.max(distances)"
   ]
  },
  {
   "cell_type": "code",
   "execution_count": 19,
   "metadata": {},
   "outputs": [
    {
     "data": {
      "text/plain": [
       "<seaborn.matrix.ClusterGrid at 0x1c243b56d8>"
      ]
     },
     "execution_count": 19,
     "metadata": {},
     "output_type": "execute_result"
    },
    {
     "data": {
      "image/png": "[encoded data removed]",
      "text/plain": [
       "<Figure size 720x720 with 4 Axes>"
      ]
     },
     "metadata": {
      "needs_background": "light"
     },
     "output_type": "display_data"
    }
   ],
   "source": [
    "sns.clustermap(1-distances)"
   ]
  },
  {
   "cell_type": "code",
   "execution_count": 20,
   "metadata": {},
   "outputs": [],
   "source": [
    "samples = np.array(samples)\n",
    "\n",
    "X = np.vstack(samples)\n",
    "y = np.repeat(np.arange(samples.shape[0]), samples.shape[1])"
   ]
  },
  {
   "cell_type": "code",
   "execution_count": 21,
   "metadata": {},
   "outputs": [],
   "source": [
    "from importlib import reload\n",
    "import regain.clustering; reload(regain.clustering)\n",
    "from regain.covariance import time_graphical_lasso_; reload(time_graphical_lasso_)\n",
    "import regain.covariance.kernel_time_graphical_lasso_; reload(regain.covariance.kernel_time_graphical_lasso_)\n",
    "from regain.covariance.kernel_time_graphical_lasso_ import SimilarityTimeGraphicalLasso"
   ]
  },
  {
   "cell_type": "code",
   "execution_count": 22,
   "metadata": {},
   "outputs": [],
   "source": [
    "stgl = SimilarityTimeGraphicalLasso(alpha=1, beta=1, psi='l1', verbose=0, max_iter=500).fit(X, y)"
   ]
  },
  {
   "cell_type": "code",
   "execution_count": 30,
   "metadata": {},
   "outputs": [],
   "source": [
    "stgl = kernel_time_graphical_lasso_.SimilarityTimeGraphicalLasso(psi='l1', max_iter=500, alpha=0.1, beta=1,\n",
    "                                                                 ).fit(X, y)\n",
    "\n",
    "# from regain.norm import l1_od_norm\n",
    "# stgl.similarity_matrix = kernel_time_graphical_lasso_.precision_similarity(stgl.precision_, l1_od_norm)\n"
   ]
  },
  {
   "cell_type": "code",
   "execution_count": 31,
   "metadata": {},
   "outputs": [
    {
     "name": "stdout",
     "output_type": "stream",
     "text": [
      "[1 0 0 0 0 0 2 2 2 1 1 0 2 2 0]\n",
      "[0 0 0 1 1 1 2 2 2 0 0 0 1 1 2]\n"
     ]
    }
   ],
   "source": [
    "from sklearn.cluster.hierarchical import AgglomerativeClustering\n",
    "from scipy import linalg\n",
    "\n",
    "# needs distances\n",
    "clustering = AgglomerativeClustering(affinity='precomputed', linkage='complete', n_clusters=3)\n",
    "S = 1 - 1. / stgl.similarity_matrix\n",
    "labels_predict = clustering.fit_predict(S)\n",
    "labels_true = clustering.fit_predict(distances)\n",
    "\n",
    "print(labels_predict)\n",
    "print(labels_true)"
   ]
  },
  {
   "cell_type": "code",
   "execution_count": 32,
   "metadata": {},
   "outputs": [
    {
     "name": "stdout",
     "output_type": "stream",
     "text": [
      "0.36844989756795987\n"
     ]
    },
    {
     "data": {
      "text/plain": [
       "{'tp': 452,\n",
       " 'tn': 30,\n",
       " 'fp': 1016,\n",
       " 'fn': 2,\n",
       " 'precision': 0.3079019073569482,\n",
       " 'recall': 0.9955947136563876,\n",
       " 'f1': 0.47034339229968786,\n",
       " 'accuracy': 0.32133333333333336,\n",
       " 'false_omission_rate': 0.0625,\n",
       " 'fdr': 0.6920980926430518,\n",
       " 'npv': 0.9375,\n",
       " 'prevalence': 0.30266666666666664,\n",
       " 'miss_rate': 0.004405286343612335,\n",
       " 'fall_out': 0.97131931166348,\n",
       " 'specificity': 0.028680688336520075,\n",
       " 'plr': 1.02499219535884,\n",
       " 'nlr': 0.1535976505139501,\n",
       " 'dor': 6.673228346456691,\n",
       " 'balanced_accuracy': 0.5121377009964538,\n",
       " 'average_precision': 0.7929946272531248}"
      ]
     },
     "execution_count": 32,
     "metadata": {},
     "output_type": "execute_result"
    }
   ],
   "source": [
    "from sklearn.metrics import v_measure_score\n",
    "print(v_measure_score(labels_true, labels_predict))\n",
    "\n",
    "from regain.utils import structure_error\n",
    "structure_error(np.array(thetas), stgl.precision_)"
   ]
  },
  {
   "cell_type": "code",
   "execution_count": null,
   "metadata": {},
   "outputs": [],
   "source": []
  }
 ],
 "metadata": {
  "kernelspec": {
   "display_name": "Python 3",
   "language": "python",
   "name": "python3"
  },
  "language_info": {
   "codemirror_mode": {
    "name": "ipython",
    "version": 3
   },
   "file_extension": ".py",
   "mimetype": "text/x-python",
   "name": "python",
   "nbconvert_exporter": "python",
   "pygments_lexer": "ipython3",
   "version": "3.7.3"
  }
 },
 "nbformat": 4,
 "nbformat_minor": 2
}
